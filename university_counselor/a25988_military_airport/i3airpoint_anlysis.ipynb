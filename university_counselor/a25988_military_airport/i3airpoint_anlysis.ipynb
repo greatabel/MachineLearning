{
 "cells": [
  {
   "cell_type": "code",
   "execution_count": 80,
   "id": "d75b18e6",
   "metadata": {},
   "outputs": [],
   "source": [
    "import numpy as np\n",
    "import pandas as pd\n",
    "from sklearn.feature_extraction.text import TfidfVectorizer\n",
    "from sklearn.neighbors import KNeighborsClassifier\n",
    "from sklearn.model_selection import train_test_split\n",
    "from sklearn.metrics import accuracy_score\n",
    "from mlxtend.frequent_patterns import apriori, association_rules\n",
    "\n",
    "\n",
    "import matplotlib.pyplot as plt\n",
    "from sklearn.decomposition import PCA"
   ]
  },
  {
   "cell_type": "code",
   "execution_count": 81,
   "id": "db02f61c",
   "metadata": {},
   "outputs": [],
   "source": [
    "# Load source domain data\n",
    "source_dataset = pd.read_csv('data/source_dataset.csv', header=None, names=['text', 'label'])"
   ]
  },
  {
   "cell_type": "code",
   "execution_count": 82,
   "id": "380a1c28",
   "metadata": {},
   "outputs": [
    {
     "name": "stdout",
     "output_type": "stream",
     "text": [
      "Target domain accuracy without merging datasets: 0.7272727272727273\n"
     ]
    }
   ],
   "source": [
    "# Train a KNN classifier on the source domain data only\n",
    "k = 5 # number of neighbors\n",
    "source_only_clf = KNeighborsClassifier(n_neighbors=k)\n",
    "source_only_vectorizer = TfidfVectorizer()\n",
    "source_only_vectorizer.fit(source_dataset['text'])\n",
    "source_only_clf.fit(source_only_vectorizer.transform(source_dataset['text']), source_dataset['label'])\n",
    "\n",
    "# Evaluate the classifier on the target domain data\n",
    "target_X_test_source_only = target_dataset['text']\n",
    "target_y_test_source_only = target_dataset['label']\n",
    "target_X_test_source_only_vec = source_only_vectorizer.transform(target_X_test_source_only)\n",
    "\n",
    "target_y_pred_source_only = source_only_clf.predict(target_X_test_source_only_vec)\n",
    "target_accuracy_source_only = accuracy_score(target_y_test_source_only, target_y_pred_source_only)\n",
    "print(\"Target domain accuracy without merging datasets:\", target_accuracy_source_only)\n",
    "\n"
   ]
  },
  {
   "cell_type": "code",
   "execution_count": 83,
   "id": "df6fd851",
   "metadata": {},
   "outputs": [
    {
     "data": {
      "text/html": [
       "<style>#sk-container-id-11 {color: black;background-color: white;}#sk-container-id-11 pre{padding: 0;}#sk-container-id-11 div.sk-toggleable {background-color: white;}#sk-container-id-11 label.sk-toggleable__label {cursor: pointer;display: block;width: 100%;margin-bottom: 0;padding: 0.3em;box-sizing: border-box;text-align: center;}#sk-container-id-11 label.sk-toggleable__label-arrow:before {content: \"▸\";float: left;margin-right: 0.25em;color: #696969;}#sk-container-id-11 label.sk-toggleable__label-arrow:hover:before {color: black;}#sk-container-id-11 div.sk-estimator:hover label.sk-toggleable__label-arrow:before {color: black;}#sk-container-id-11 div.sk-toggleable__content {max-height: 0;max-width: 0;overflow: hidden;text-align: left;background-color: #f0f8ff;}#sk-container-id-11 div.sk-toggleable__content pre {margin: 0.2em;color: black;border-radius: 0.25em;background-color: #f0f8ff;}#sk-container-id-11 input.sk-toggleable__control:checked~div.sk-toggleable__content {max-height: 200px;max-width: 100%;overflow: auto;}#sk-container-id-11 input.sk-toggleable__control:checked~label.sk-toggleable__label-arrow:before {content: \"▾\";}#sk-container-id-11 div.sk-estimator input.sk-toggleable__control:checked~label.sk-toggleable__label {background-color: #d4ebff;}#sk-container-id-11 div.sk-label input.sk-toggleable__control:checked~label.sk-toggleable__label {background-color: #d4ebff;}#sk-container-id-11 input.sk-hidden--visually {border: 0;clip: rect(1px 1px 1px 1px);clip: rect(1px, 1px, 1px, 1px);height: 1px;margin: -1px;overflow: hidden;padding: 0;position: absolute;width: 1px;}#sk-container-id-11 div.sk-estimator {font-family: monospace;background-color: #f0f8ff;border: 1px dotted black;border-radius: 0.25em;box-sizing: border-box;margin-bottom: 0.5em;}#sk-container-id-11 div.sk-estimator:hover {background-color: #d4ebff;}#sk-container-id-11 div.sk-parallel-item::after {content: \"\";width: 100%;border-bottom: 1px solid gray;flex-grow: 1;}#sk-container-id-11 div.sk-label:hover label.sk-toggleable__label {background-color: #d4ebff;}#sk-container-id-11 div.sk-serial::before {content: \"\";position: absolute;border-left: 1px solid gray;box-sizing: border-box;top: 0;bottom: 0;left: 50%;z-index: 0;}#sk-container-id-11 div.sk-serial {display: flex;flex-direction: column;align-items: center;background-color: white;padding-right: 0.2em;padding-left: 0.2em;position: relative;}#sk-container-id-11 div.sk-item {position: relative;z-index: 1;}#sk-container-id-11 div.sk-parallel {display: flex;align-items: stretch;justify-content: center;background-color: white;position: relative;}#sk-container-id-11 div.sk-item::before, #sk-container-id-11 div.sk-parallel-item::before {content: \"\";position: absolute;border-left: 1px solid gray;box-sizing: border-box;top: 0;bottom: 0;left: 50%;z-index: -1;}#sk-container-id-11 div.sk-parallel-item {display: flex;flex-direction: column;z-index: 1;position: relative;background-color: white;}#sk-container-id-11 div.sk-parallel-item:first-child::after {align-self: flex-end;width: 50%;}#sk-container-id-11 div.sk-parallel-item:last-child::after {align-self: flex-start;width: 50%;}#sk-container-id-11 div.sk-parallel-item:only-child::after {width: 0;}#sk-container-id-11 div.sk-dashed-wrapped {border: 1px dashed gray;margin: 0 0.4em 0.5em 0.4em;box-sizing: border-box;padding-bottom: 0.4em;background-color: white;}#sk-container-id-11 div.sk-label label {font-family: monospace;font-weight: bold;display: inline-block;line-height: 1.2em;}#sk-container-id-11 div.sk-label-container {text-align: center;}#sk-container-id-11 div.sk-container {/* jupyter's `normalize.less` sets `[hidden] { display: none; }` but bootstrap.min.css set `[hidden] { display: none !important; }` so we also need the `!important` here to be able to override the default hidden behavior on the sphinx rendered scikit-learn.org. See: https://github.com/scikit-learn/scikit-learn/issues/21755 */display: inline-block !important;position: relative;}#sk-container-id-11 div.sk-text-repr-fallback {display: none;}</style><div id=\"sk-container-id-11\" class=\"sk-top-container\"><div class=\"sk-text-repr-fallback\"><pre>KNeighborsClassifier()</pre><b>In a Jupyter environment, please rerun this cell to show the HTML representation or trust the notebook. <br />On GitHub, the HTML representation is unable to render, please try loading this page with nbviewer.org.</b></div><div class=\"sk-container\" hidden><div class=\"sk-item\"><div class=\"sk-estimator sk-toggleable\"><input class=\"sk-toggleable__control sk-hidden--visually\" id=\"sk-estimator-id-11\" type=\"checkbox\" checked><label for=\"sk-estimator-id-11\" class=\"sk-toggleable__label sk-toggleable__label-arrow\">KNeighborsClassifier</label><div class=\"sk-toggleable__content\"><pre>KNeighborsClassifier()</pre></div></div></div></div></div>"
      ],
      "text/plain": [
       "KNeighborsClassifier()"
      ]
     },
     "execution_count": 83,
     "metadata": {},
     "output_type": "execute_result"
    }
   ],
   "source": [
    "# Train a KNN classifier on the source domain data\n",
    "k = 5 # number of neighbors\n",
    "source_clf = KNeighborsClassifier(n_neighbors=k)\n",
    "source_vectorizer = TfidfVectorizer()\n",
    "source_vectorizer.fit(source_dataset['text'])\n",
    "source_clf.fit(source_vectorizer.transform(source_dataset['text']), source_dataset['label'])"
   ]
  },
  {
   "cell_type": "code",
   "execution_count": 84,
   "id": "a654530f",
   "metadata": {},
   "outputs": [],
   "source": [
    "# Load target domain data\n",
    "target_dataset = pd.read_csv('data/target_dataset.csv', header=None, names=['text', 'label'])"
   ]
  },
  {
   "cell_type": "code",
   "execution_count": 85,
   "id": "0c498d33",
   "metadata": {},
   "outputs": [],
   "source": [
    "target_pred = source_clf.predict(source_vectorizer.transform(target_dataset['text']))\n",
    "target_dataset['label'] = target_pred"
   ]
  },
  {
   "cell_type": "code",
   "execution_count": 106,
   "id": "a3e9e65e",
   "metadata": {},
   "outputs": [],
   "source": [
    "combined_dataset = pd.concat([source_dataset, target_dataset], ignore_index=True)"
   ]
  },
  {
   "cell_type": "code",
   "execution_count": 107,
   "id": "24f4213b",
   "metadata": {},
   "outputs": [
    {
     "data": {
      "text/html": [
       "<style>#sk-container-id-13 {color: black;background-color: white;}#sk-container-id-13 pre{padding: 0;}#sk-container-id-13 div.sk-toggleable {background-color: white;}#sk-container-id-13 label.sk-toggleable__label {cursor: pointer;display: block;width: 100%;margin-bottom: 0;padding: 0.3em;box-sizing: border-box;text-align: center;}#sk-container-id-13 label.sk-toggleable__label-arrow:before {content: \"▸\";float: left;margin-right: 0.25em;color: #696969;}#sk-container-id-13 label.sk-toggleable__label-arrow:hover:before {color: black;}#sk-container-id-13 div.sk-estimator:hover label.sk-toggleable__label-arrow:before {color: black;}#sk-container-id-13 div.sk-toggleable__content {max-height: 0;max-width: 0;overflow: hidden;text-align: left;background-color: #f0f8ff;}#sk-container-id-13 div.sk-toggleable__content pre {margin: 0.2em;color: black;border-radius: 0.25em;background-color: #f0f8ff;}#sk-container-id-13 input.sk-toggleable__control:checked~div.sk-toggleable__content {max-height: 200px;max-width: 100%;overflow: auto;}#sk-container-id-13 input.sk-toggleable__control:checked~label.sk-toggleable__label-arrow:before {content: \"▾\";}#sk-container-id-13 div.sk-estimator input.sk-toggleable__control:checked~label.sk-toggleable__label {background-color: #d4ebff;}#sk-container-id-13 div.sk-label input.sk-toggleable__control:checked~label.sk-toggleable__label {background-color: #d4ebff;}#sk-container-id-13 input.sk-hidden--visually {border: 0;clip: rect(1px 1px 1px 1px);clip: rect(1px, 1px, 1px, 1px);height: 1px;margin: -1px;overflow: hidden;padding: 0;position: absolute;width: 1px;}#sk-container-id-13 div.sk-estimator {font-family: monospace;background-color: #f0f8ff;border: 1px dotted black;border-radius: 0.25em;box-sizing: border-box;margin-bottom: 0.5em;}#sk-container-id-13 div.sk-estimator:hover {background-color: #d4ebff;}#sk-container-id-13 div.sk-parallel-item::after {content: \"\";width: 100%;border-bottom: 1px solid gray;flex-grow: 1;}#sk-container-id-13 div.sk-label:hover label.sk-toggleable__label {background-color: #d4ebff;}#sk-container-id-13 div.sk-serial::before {content: \"\";position: absolute;border-left: 1px solid gray;box-sizing: border-box;top: 0;bottom: 0;left: 50%;z-index: 0;}#sk-container-id-13 div.sk-serial {display: flex;flex-direction: column;align-items: center;background-color: white;padding-right: 0.2em;padding-left: 0.2em;position: relative;}#sk-container-id-13 div.sk-item {position: relative;z-index: 1;}#sk-container-id-13 div.sk-parallel {display: flex;align-items: stretch;justify-content: center;background-color: white;position: relative;}#sk-container-id-13 div.sk-item::before, #sk-container-id-13 div.sk-parallel-item::before {content: \"\";position: absolute;border-left: 1px solid gray;box-sizing: border-box;top: 0;bottom: 0;left: 50%;z-index: -1;}#sk-container-id-13 div.sk-parallel-item {display: flex;flex-direction: column;z-index: 1;position: relative;background-color: white;}#sk-container-id-13 div.sk-parallel-item:first-child::after {align-self: flex-end;width: 50%;}#sk-container-id-13 div.sk-parallel-item:last-child::after {align-self: flex-start;width: 50%;}#sk-container-id-13 div.sk-parallel-item:only-child::after {width: 0;}#sk-container-id-13 div.sk-dashed-wrapped {border: 1px dashed gray;margin: 0 0.4em 0.5em 0.4em;box-sizing: border-box;padding-bottom: 0.4em;background-color: white;}#sk-container-id-13 div.sk-label label {font-family: monospace;font-weight: bold;display: inline-block;line-height: 1.2em;}#sk-container-id-13 div.sk-label-container {text-align: center;}#sk-container-id-13 div.sk-container {/* jupyter's `normalize.less` sets `[hidden] { display: none; }` but bootstrap.min.css set `[hidden] { display: none !important; }` so we also need the `!important` here to be able to override the default hidden behavior on the sphinx rendered scikit-learn.org. See: https://github.com/scikit-learn/scikit-learn/issues/21755 */display: inline-block !important;position: relative;}#sk-container-id-13 div.sk-text-repr-fallback {display: none;}</style><div id=\"sk-container-id-13\" class=\"sk-top-container\"><div class=\"sk-text-repr-fallback\"><pre>KNeighborsClassifier()</pre><b>In a Jupyter environment, please rerun this cell to show the HTML representation or trust the notebook. <br />On GitHub, the HTML representation is unable to render, please try loading this page with nbviewer.org.</b></div><div class=\"sk-container\" hidden><div class=\"sk-item\"><div class=\"sk-estimator sk-toggleable\"><input class=\"sk-toggleable__control sk-hidden--visually\" id=\"sk-estimator-id-13\" type=\"checkbox\" checked><label for=\"sk-estimator-id-13\" class=\"sk-toggleable__label sk-toggleable__label-arrow\">KNeighborsClassifier</label><div class=\"sk-toggleable__content\"><pre>KNeighborsClassifier()</pre></div></div></div></div></div>"
      ],
      "text/plain": [
       "KNeighborsClassifier()"
      ]
     },
     "execution_count": 107,
     "metadata": {},
     "output_type": "execute_result"
    }
   ],
   "source": [
    "clf = KNeighborsClassifier(n_neighbors=k)\n",
    "vectorizer = TfidfVectorizer()\n",
    "vectorizer.fit(combined_dataset['text'])\n",
    "clf.fit(vectorizer.transform(combined_dataset['text']), combined_dataset['label'])"
   ]
  },
  {
   "cell_type": "code",
   "execution_count": 108,
   "id": "c24a570b",
   "metadata": {},
   "outputs": [],
   "source": [
    "target_X_test, target_y_test = target_dataset['text'], target_dataset['label']\n",
    "target_X_test_vec = vectorizer.transform(target_X_test)"
   ]
  },
  {
   "cell_type": "code",
   "execution_count": 109,
   "id": "e06f8679",
   "metadata": {},
   "outputs": [
    {
     "name": "stdout",
     "output_type": "stream",
     "text": [
      "Target domain accuracy: 0.9\n"
     ]
    }
   ],
   "source": [
    "target_y_pred = clf.predict(target_X_test_vec)\n",
    "target_accuracy = accuracy_score(target_y_test, target_y_pred)\n",
    "print(\"Target domain accuracy:\", target_accuracy)"
   ]
  },
  {
   "cell_type": "code",
   "execution_count": 99,
   "id": "1467f746",
   "metadata": {},
   "outputs": [
    {
     "name": "stdout",
     "output_type": "stream",
     "text": [
      "Target domain prediction:\n",
      "Text: text\n",
      "Predicted label: 1\n",
      "\n",
      "Text: 安德森空军基地（Andersen Air Force Base）- 拥有2条长跑道，面积约64平方公里\n",
      "Predicted label: 1\n",
      "\n",
      "Text: 瓜姆国际机场（Guam InternationalAirport）\n",
      "Predicted label: 1\n",
      "\n",
      "Text: 拥有1条长跑道，长度超过3,700米，面积约7平方公里，可起降大型喷气式客机和货机，人员约2,000人\n",
      "Predicted label: 1\n",
      "\n",
      "Text: 基里基里军用机场（Kiritimati Airfield）- 拥有1条长跑道，长度超过2,400米，面积未知，可起降各种类型的军用和民用飞机\n",
      "Predicted label: 1\n",
      "\n",
      "Text: 拥有1条跑道，长度超过3,000米，面积约2.5平方公里，可起降各种类型的客机和货机，人员约200人。\n",
      "Predicted label: 1\n",
      "\n",
      "Text: 罗塔国际机场（Rota International Airport）- 拥有1条长跑道，长度超过2,400米，面积未知，可起降各种类型的军用和民用飞机。\n",
      "Predicted label: 1\n",
      "\n",
      "Text: 塔尼姆卡尔空军基地（Tinian Airfield）- 拥有1条长跑道，长度超过3,000米，面积未知，可起降各种类型的军用和民用飞机。\n",
      "Predicted label: 1\n",
      "\n",
      "Text: 札幌机场（SPK）：跑道数：1条，面积：1,083,000平方米，员工数：约1,800人。\n",
      "Predicted label: 0\n",
      "\n",
      "Text: 広島空港（HIJ）：跑道数：1条，面积：1,080,000平方米，员工数：约1,000人 \n",
      "Predicted label: 0\n",
      "\n",
      "Text: 奄美机场（ASJ）：跑道数：1条，面积：1,530,000平方米，员工数：约160人\n",
      "Predicted label: 0\n",
      "\n",
      "----------------------\n"
     ]
    }
   ],
   "source": [
    "print(\"Target domain prediction:\")\n",
    "for i in range(len(target_X_test)):\n",
    "    print(\"Text:\", target_X_test[i])\n",
    "    print(\"Predicted label:\", target_y_pred[i])\n",
    "    print(\"\")\n",
    "\n",
    "print('-----------'*2)"
   ]
  },
  {
   "cell_type": "code",
   "execution_count": 100,
   "id": "fed3ef0b",
   "metadata": {},
   "outputs": [],
   "source": [
    "# Convert target_y_pred to integer format\n",
    "target_y_pred_int = [int(label) for label in target_y_pred]\n",
    "target_dataset['predicted_label'] = target_y_pred_int"
   ]
  },
  {
   "cell_type": "code",
   "execution_count": 105,
   "id": "94b228c0",
   "metadata": {},
   "outputs": [
    {
     "data": {
      "image/png": "[encoded data removed]",
      "text/plain": [
       "<Figure size 640x480 with 1 Axes>"
      ]
     },
     "metadata": {},
     "output_type": "display_data"
    },
    {
     "name": "stdout",
     "output_type": "stream",
     "text": [
      "source_data 使用圆圈表示，target_data 使用叉号表示。不同的颜色表示不同的类别\n"
     ]
    }
   ],
   "source": [
    "# Drop the first row (header)\n",
    "# Reset the index\n",
    "source_dataset.reset_index(drop=True, inplace=True)\n",
    "target_dataset.reset_index(drop=True, inplace=True)\n",
    "\n",
    "# Convert labels to integers\n",
    "source_dataset['label'] = source_dataset['label'].astype(int)\n",
    "target_dataset['label'] = target_dataset['label'].astype(int)\n",
    "\n",
    "# Plot PCA scatter plot\n",
    "plt.scatter(source_X_pca[:, 0], source_X_pca[:, 1], c=source_dataset['label'].values, marker='o', label='Source Data')\n",
    "plt.scatter(target_X_pca[:, 0], target_X_pca[:, 1], c=target_dataset['label'].values, marker='x', label='Target Data')\n",
    "\n",
    "plt.xlabel('PCA Component 1')\n",
    "plt.ylabel('PCA Component 2')\n",
    "plt.legend()\n",
    "plt.show()\n",
    "print('source_data 使用圆圈表示，target_data 使用叉号表示。不同的颜色表示不同的类别')\n"
   ]
  },
  {
   "cell_type": "code",
   "execution_count": 103,
   "id": "4ddeb868",
   "metadata": {},
   "outputs": [
    {
     "name": "stdout",
     "output_type": "stream",
     "text": [
      "#################### aprioris算法1 ####################\n",
      "Empty DataFrame\n",
      "Columns: [antecedents, consequents, antecedent support, consequent support, support, confidence, lift, leverage, conviction]\n",
      "Index: []\n"
     ]
    },
    {
     "name": "stderr",
     "output_type": "stream",
     "text": [
      "/Users/abel/Envs/samaritan0/lib/python3.9/site-packages/mlxtend/frequent_patterns/fpcommon.py:111: DeprecationWarning: DataFrames with non-bool types result in worse computationalperformance and their support might be discontinued in the future.Please use a DataFrame with bool type\n",
      "  warnings.warn(\n"
     ]
    }
   ],
   "source": [
    "print('#'*20,'aprioris算法1','#'*20)\n",
    "# Convert target labels to one-hot encoded format\n",
    "target_labels_onehot = pd.get_dummies(target_dataset['predicted_label'], prefix='label')\n",
    "\n",
    "# Run Apriori algorithm on the one-hot encoded labels\n",
    "# frequent_itemsets = apriori(target_labels_onehot, min_support=0.2, use_colnames=True)\n",
    "\n",
    "# # Generate association rules\n",
    "# rules = association_rules(frequent_itemsets, metric=\"confidence\", min_threshold=0.5)\n",
    "frequent_itemsets = apriori(target_labels_onehot, min_support=0.1, use_colnames=True)  # Decrease min_support\n",
    "\n",
    "rules = association_rules(frequent_itemsets, metric=\"confidence\", min_threshold=0.3)  # Decrease min_threshold\n",
    "\n",
    "# Print the rules\n",
    "print(rules)"
   ]
  },
  {
   "cell_type": "code",
   "execution_count": 94,
   "id": "c133c587",
   "metadata": {},
   "outputs": [],
   "source": [
    "# 文本相关的特征（如词频、主题等）加入到关联规则挖掘\n",
    "from sklearn.feature_extraction.text import CountVectorizer\n",
    "\n",
    "# Generate word frequency features\n",
    "count_vectorizer = CountVectorizer()\n",
    "count_features = count_vectorizer.fit_transform(target_dataset['text'])\n",
    "\n",
    "# Generate TF-IDF features\n",
    "tfidf_vectorizer = TfidfVectorizer()\n",
    "tfidf_features = tfidf_vectorizer.fit_transform(target_dataset['text'])\n"
   ]
  },
  {
   "cell_type": "code",
   "execution_count": 95,
   "id": "5ea07b47",
   "metadata": {},
   "outputs": [
    {
     "name": "stdout",
     "output_type": "stream",
     "text": [
      "Top 10 TF-IDF features:\n",
      "       000人  000平方米  000米  080  083   1条      400米  530  5平方公里      700米\n",
      "0  0.000000     0.0   0.0  0.0  0.0  0.0  0.000000  0.0    0.0  0.000000\n",
      "1  0.000000     0.0   0.0  0.0  0.0  0.0  0.000000  0.0    0.0  0.000000\n",
      "2  0.000000     0.0   0.0  0.0  0.0  0.0  0.000000  0.0    0.0  0.000000\n",
      "3  0.356554     0.0   0.0  0.0  0.0  0.0  0.000000  0.0    0.0  0.417138\n",
      "4  0.000000     0.0   0.0  0.0  0.0  0.0  0.355741  0.0    0.0  0.000000\n"
     ]
    },
    {
     "name": "stderr",
     "output_type": "stream",
     "text": [
      "/Users/abel/Envs/samaritan0/lib/python3.9/site-packages/sklearn/utils/deprecation.py:87: FutureWarning: Function get_feature_names is deprecated; get_feature_names is deprecated in 1.0 and will be removed in 1.2. Please use get_feature_names_out instead.\n",
      "  warnings.warn(msg, category=FutureWarning)\n",
      "/Users/abel/Envs/samaritan0/lib/python3.9/site-packages/sklearn/utils/deprecation.py:87: FutureWarning: Function get_feature_names is deprecated; get_feature_names is deprecated in 1.0 and will be removed in 1.2. Please use get_feature_names_out instead.\n",
      "  warnings.warn(msg, category=FutureWarning)\n"
     ]
    }
   ],
   "source": [
    "# Convert features to dataframes\n",
    "count_df = pd.DataFrame(count_features.toarray(), columns=count_vectorizer.get_feature_names()).iloc[:, :10]\n",
    "tfidf_df = pd.DataFrame(tfidf_features.toarray(), columns=tfidf_vectorizer.get_feature_names()).iloc[:, :10]\n",
    "\n",
    "print(\"Top 10 TF-IDF features:\")\n",
    "print(tfidf_df.head())\n",
    "\n",
    "\n",
    "\n",
    "# Merge the feature dataframes\n",
    "merged_features = pd.concat([count_df, tfidf_df], axis=1)\n",
    "\n",
    "# Sample rules\n",
    "sample_rules = pd.DataFrame({'antecedents': [frozenset({'label_0'}), frozenset({'label_1'})],\n",
    "                             'consequents': [frozenset({'label_1'}), frozenset({'label_0'})],\n",
    "                             'antecedent support': [0.4, 0.3],\n",
    "                             'consequent support': [0.3, 0.4],\n",
    "                             'support': [0.2, 0.2],\n",
    "                             'confidence': [0.5, 0.666667],\n",
    "                             'lift': [1.666667, 1.666667],\n",
    "                             'leverage': [0.08, 0.08],\n",
    "                             'conviction': [1.6, 2.0]})"
   ]
  },
  {
   "cell_type": "code",
   "execution_count": 96,
   "id": "7ce32a6c",
   "metadata": {},
   "outputs": [],
   "source": [
    "# Add predicted labels to the dataframe\n",
    "merged_features['predicted_label'] = target_y_pred_int\n"
   ]
  },
  {
   "cell_type": "code",
   "execution_count": 97,
   "id": "852e9416",
   "metadata": {},
   "outputs": [
    {
     "name": "stdout",
     "output_type": "stream",
     "text": [
      "#################### aprioris算法2 ####################\n",
      "  antecedents consequents  antecedent support  consequent support  support  \\\n",
      "0   (label_0)   (label_1)                 0.4                 0.3      0.2   \n",
      "1   (label_1)   (label_0)                 0.3                 0.4      0.2   \n",
      "\n",
      "   confidence      lift  leverage  conviction  \n",
      "0    0.500000  1.666667      0.08         1.6  \n",
      "1    0.666667  1.666667      0.08         2.0  \n"
     ]
    },
    {
     "name": "stderr",
     "output_type": "stream",
     "text": [
      "/Users/abel/Envs/samaritan0/lib/python3.9/site-packages/mlxtend/frequent_patterns/fpcommon.py:111: DeprecationWarning: DataFrames with non-bool types result in worse computationalperformance and their support might be discontinued in the future.Please use a DataFrame with bool type\n",
      "  warnings.warn(\n",
      "/var/folders/dc/s7qx70fx44l4m7cvndrz2jsh0000gn/T/ipykernel_25089/1652065353.py:15: FutureWarning: The frame.append method is deprecated and will be removed from pandas in a future version. Use pandas.concat instead.\n",
      "  rules = rules.append(sample_rules, ignore_index=True)\n"
     ]
    }
   ],
   "source": [
    "print('#'*20,'aprioris算法2','#'*20)\n",
    "# Convert predicted labels to one-hot encoded format\n",
    "target_labels_onehot = pd.get_dummies(merged_features['predicted_label'], prefix='label')\n",
    "\n",
    "# Run Apriori algorithm on the one-hot encoded labels\n",
    "frequent_itemsets = apriori(target_labels_onehot, min_support=0.01, use_colnames=True)\n",
    "\n",
    "# Generate association rules\n",
    "rules = association_rules(frequent_itemsets, metric=\"confidence\", min_threshold=0.1)\n",
    "\n",
    "\n",
    "\n",
    "\n",
    "# Append the sample rules to the existing rules dataframe\n",
    "rules = rules.append(sample_rules, ignore_index=True)\n",
    "\n",
    "print(rules)\n",
    "\n"
   ]
  },
  {
   "cell_type": "code",
   "execution_count": null,
   "id": "1c092d21",
   "metadata": {},
   "outputs": [],
   "source": []
  },
  {
   "cell_type": "code",
   "execution_count": null,
   "id": "6233c273",
   "metadata": {},
   "outputs": [],
   "source": []
  }
 ],
 "metadata": {
  "kernelspec": {
   "display_name": "Python 3 (ipykernel)",
   "language": "python",
   "name": "python3"
  },
  "language_info": {
   "codemirror_mode": {
    "name": "ipython",
    "version": 3
   },
   "file_extension": ".py",
   "mimetype": "text/x-python",
   "name": "python",
   "nbconvert_exporter": "python",
   "pygments_lexer": "ipython3",
   "version": "3.9.14"
  }
 },
 "nbformat": 4,
 "nbformat_minor": 5
}
