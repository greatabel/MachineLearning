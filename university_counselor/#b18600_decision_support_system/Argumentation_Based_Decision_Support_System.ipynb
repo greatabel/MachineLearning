{
 "cells": [
  {
   "cell_type": "code",
   "execution_count": 1,
   "metadata": {
    "id": "EkBS3XnpwXOl"
   },
   "outputs": [],
   "source": [
    "from logic import Literal, Clause, Rule"
   ]
  },
  {
   "cell_type": "code",
   "execution_count": 2,
   "metadata": {
    "colab": {
     "base_uri": "https://localhost:8080/"
    },
    "id": "1_SXM9oXchox",
    "outputId": "4af2cd8f-878f-4b51-9a4e-dbd453545e2d"
   },
   "outputs": [
    {
     "name": "stdout",
     "output_type": "stream",
     "text": [
      "We can create literals happy and ~happy that consist of the same atom 'happy', but opposite signs.\n"
     ]
    }
   ],
   "source": [
    "happy, nothappy = Literal(\"happy\", True), Literal(\"happy\", False)  # Literals print in prolog syntax\n",
    "print(\"We can create literals {} and {}\".format( happy, nothappy ),\n",
    "      \"that consist of the same atom 'happy', but opposite signs.\")"
   ]
  },
  {
   "cell_type": "code",
   "execution_count": 3,
   "metadata": {
    "colab": {
     "base_uri": "https://localhost:8080/"
    },
    "id": "lHqcDPIpchwm",
    "outputId": "2d036c5d-b7cc-4365-bae4-41e7b3aa4a43"
   },
   "outputs": [
    {
     "name": "stdout",
     "output_type": "stream",
     "text": [
      "Clauses are made up of literals; stay_home, sunny.\n"
     ]
    }
   ],
   "source": [
    "sunny, stay_home = Literal(\"sunny\"), Literal(\"stay_home\")  # We can omit signs for positive literals.\n",
    "c1 = Clause(sunny, stay_home) # Clauses print in prolog syntax\n",
    "print(\"Clauses are made up of literals;\", c1) "
   ]
  },
  {
   "cell_type": "code",
   "execution_count": 4,
   "metadata": {
    "colab": {
     "base_uri": "https://localhost:8080/"
    },
    "id": "ogBRwHHWchzV",
    "outputId": "21850d72-0aee-4203-e003-6df5b476b5df"
   },
   "outputs": [
    {
     "name": "stdout",
     "output_type": "stream",
     "text": [
      "Rules have a head literal, and body literals; ~happy:- stay_home, sunny.\n"
     ]
    }
   ],
   "source": [
    "r1 = Rule(nothappy, sunny, stay_home)  # The first literal is the head, the body literals follow.\n",
    "print(\"Rules have a head literal, and body literals;\", r1)  # Rules print in prolog sytax"
   ]
  },
  {
   "cell_type": "code",
   "execution_count": 5,
   "metadata": {
    "id": "uWvSprTJch2p"
   },
   "outputs": [],
   "source": [
    "from knowledgebase import KnowledgeBase, PrologString"
   ]
  },
  {
   "cell_type": "code",
   "execution_count": 6,
   "metadata": {
    "colab": {
     "base_uri": "https://localhost:8080/"
    },
    "id": "FpXfGTo1cqkR",
    "outputId": "678372da-7916-4f90-f9dd-3448467157bc"
   },
   "outputs": [
    {
     "name": "stdout",
     "output_type": "stream",
     "text": [
      "We can create knowledge bases too;\n",
      " stay_home, sunny.\n",
      "~happy:- stay_home, sunny.\n",
      "\n"
     ]
    }
   ],
   "source": [
    "print(\"We can create knowledge bases too;\\n\", KnowledgeBase(r1, c1))"
   ]
  },
  {
   "cell_type": "code",
   "execution_count": 7,
   "metadata": {
    "colab": {
     "base_uri": "https://localhost:8080/"
    },
    "id": "zjWxl3iAcqnd",
    "outputId": "d69a4f79-a85f-429c-ed19-aa2b1d35732d"
   },
   "outputs": [
    {
     "name": "stdout",
     "output_type": "stream",
     "text": [
      "Knowledge bases can also be represented as PrologString objects;\n",
      "stay_home, sunny.\n",
      "~happy:- stay_home, sunny.\n"
     ]
    }
   ],
   "source": [
    "ps = PrologString(\"~happy:- stay_home, sunny.\"  # PrologStrings don't print in prolog syntax\n",
    "                + \"stay_home, sunny. \")\n",
    "print(\"Knowledge bases can also be represented as PrologString objects;\",\n",
    "      *ps.clauses.union(ps.rules), sep=\"\\n\")\n",
    "del ps  #cleanup"
   ]
  },
  {
   "cell_type": "code",
   "execution_count": 8,
   "metadata": {
    "id": "wLW9T0cZcqp-"
   },
   "outputs": [],
   "source": [
    "from argumentation import Case"
   ]
  },
  {
   "cell_type": "code",
   "execution_count": 9,
   "metadata": {
    "colab": {
     "base_uri": "https://localhost:8080/"
    },
    "id": "I-biJ1qDcqsv",
    "outputId": "c1400750-468a-4fce-eb2b-e5f53b8dc9b8"
   },
   "outputs": [
    {
     "name": "stdout",
     "output_type": "stream",
     "text": [
      "For a knowledge base containing:\n",
      " stay_home, sunny.\n",
      "~work_well:- stay_home.\n",
      "\n",
      "The literal ~work_well is asserted by the rule ~work_well:- stay_home. \n",
      "This rule is supported by the clause stay_home, sunny.\n",
      "\n",
      "Note that this is everything you need to get the argument:\n",
      "([~work_well:- stay_home., stay_home, sunny.], ~work_well)\n"
     ]
    }
   ],
   "source": [
    "notwork_well = Literal(\"work_well\", False)\n",
    "r2 = Rule(notwork_well, stay_home)\n",
    "kb = KnowledgeBase(r2, c1)\n",
    "print(\"For a knowledge base containing:\\n\", kb)\n",
    "\n",
    "l = kb._literals_dict[\"~work_well\"]  # Yields kb's instance of notwork_well as l\n",
    "r = list(l.case.asserting_rules)[0]  # Yields the (only) rule in kb that asserts l, as r\n",
    "b = list(r.body)[0]  # Yields r's (only) body literal\n",
    "c = list(b.case.asserting_clauses)[0]  # Yields the (only) clause asserting b, as c\n",
    "print(\"The literal {} is asserted by the rule {}\".format(l, r),\n",
    "      \"\\nThis rule is supported by the clause {}\".format(c))\n",
    "\n",
    "print(\"\\nNote that this is everything you need to get the argument:\\n([{}, {}], {})\".format(r, c, l))\n",
    "del l, r, b, c  # cleanup"
   ]
  },
  {
   "cell_type": "code",
   "execution_count": 10,
   "metadata": {
    "colab": {
     "base_uri": "https://localhost:8080/"
    },
    "id": "h-sk74H8cqvJ",
    "outputId": "4d3c147d-5645-41d4-f4d6-b47d6e95e7f1"
   },
   "outputs": [
    {
     "name": "stdout",
     "output_type": "stream",
     "text": [
      "We can populate a KnowledgeBase with the Clause and Rule objects we've made so far (& then some):\n",
      "KB: stay_home, sunny.\n",
      "    happy:- stay_home.\n",
      "    ~work_well:- stay_home.\n",
      "    work_well:- happy.\n",
      "    ~happy:- stay_home, sunny.\n",
      "    \n"
     ]
    }
   ],
   "source": [
    "r3, r4 = Rule(happy, stay_home), Rule(Literal(\"work_well\"), happy)  # need to create a couple more rules\n",
    "print(\"We can populate a KnowledgeBase with the Clause and Rule objects we've made so far (& then some):\")\n",
    "kb = KnowledgeBase(c1, r1, r2, r3, r4)\n",
    "print(\"KB:\", str(kb).replace(\"\\n\", \"\\n    \"))"
   ]
  },
  {
   "cell_type": "code",
   "execution_count": 11,
   "metadata": {
    "colab": {
     "base_uri": "https://localhost:8080/"
    },
    "id": "0QCP79N0cqx3",
    "outputId": "e714f114-6ce1-4226-86b5-54b66aeae5e0"
   },
   "outputs": [
    {
     "name": "stdout",
     "output_type": "stream",
     "text": [
      "Our notwork_well = ~work_well\n",
      "KB's  ~work_well = ~work_well\n",
      "Shared instance?: False\n"
     ]
    }
   ],
   "source": [
    "print(\"Our notwork_well =\", notwork_well)\n",
    "w = kb._literals_dict[\"~work_well\"]  # get kb's literal ~work_well\n",
    "print(\"KB's  ~work_well =\", w)\n",
    "print(\"Shared instance?:\", w is notwork_well)"
   ]
  },
  {
   "cell_type": "code",
   "execution_count": 12,
   "metadata": {
    "colab": {
     "base_uri": "https://localhost:8080/"
    },
    "id": "ehUgIRDDcq0c",
    "outputId": "3bb2544a-a640-4ecf-aec3-0c8c062c17a1"
   },
   "outputs": [
    {
     "name": "stdout",
     "output_type": "stream",
     "text": [
      "Our  r2: ~work_well:- stay_home.\n",
      "KB's r2: ~work_well:- stay_home.\n",
      "Shared instance?: False\n"
     ]
    }
   ],
   "source": [
    "print(\"Our  r2:\", r2)\n",
    "r = list(w.case.asserting_rules)[0]  # get kb's r2; the only rule that asserts ~work_well\n",
    "print(\"KB's r2:\", r)\n",
    "print(\"Shared instance?:\", r is r2)"
   ]
  },
  {
   "cell_type": "code",
   "execution_count": 13,
   "metadata": {
    "colab": {
     "base_uri": "https://localhost:8080/"
    },
    "id": "oDE_j-uscq3F",
    "outputId": "8122c6f1-5856-4573-cd4f-d783f404afa5"
   },
   "outputs": [
    {
     "name": "stdout",
     "output_type": "stream",
     "text": [
      "KB's r2's body literal: stay_home\n",
      "KB's r3's body literal: stay_home\n",
      "Shared instance?: True\n"
     ]
    }
   ],
   "source": [
    "s1 = list(r.body)[0] # get kb's r2's only body literal (stay_home)\n",
    "print(\"KB's r2's body literal:\", s1)\n",
    "h = kb._literals_dict[\"happy\"]  # get the literal happy\n",
    "r = list(h.case.asserting_rules)[0]  # get kb's r3; the only rule that asserts happy\n",
    "s2 = list(r.body)[0] # get kb's r3's only body literal (stay_home)\n",
    "print(\"KB's r3's body literal:\", s2)\n",
    "print(\"Shared instance?:\", s1 is s2)\n",
    "del w, r, s1, h, s2"
   ]
  },
  {
   "cell_type": "code",
   "execution_count": 14,
   "metadata": {
    "colab": {
     "base_uri": "https://localhost:8080/"
    },
    "id": "14XOCs04cq52",
    "outputId": "160ea920-b514-4a1e-d9e9-183c6b7139f2"
   },
   "outputs": [
    {
     "name": "stdout",
     "output_type": "stream",
     "text": [
      "We can populate a knowledge base via a prolog-syntax string.\n",
      "E.G. for the same contents:\n",
      "stay_home, sunny.\n",
      "happy:- stay_home.\n",
      "~work_well:- stay_home.\n",
      "work_well:- happy.\n",
      "~happy:- stay_home, sunny.\n",
      "\n"
     ]
    }
   ],
   "source": [
    "s = \"~happy:- sunny, stay_home. ~work_well:- stay_home. happy:- stay_home. work_well:- happy.\"\n",
    "s += \"stay_home, sunny.\"\n",
    "print(\"We can populate a knowledge base via a prolog-syntax string.\",\n",
    "      \"E.G. for the same contents:\",\n",
    "       KnowledgeBase(s), sep=\"\\n\")"
   ]
  },
  {
   "cell_type": "code",
   "execution_count": 15,
   "metadata": {
    "colab": {
     "base_uri": "https://localhost:8080/"
    },
    "id": "c1Dfbc4Wc77q",
    "outputId": "fd624525-0102-4ffd-dc8a-2f12547a2489"
   },
   "outputs": [
    {
     "name": "stdout",
     "output_type": "stream",
     "text": [
      "We can populate a knowledge base via a text file containing a prolog-syntax string.\n",
      "E.G. for the same contents:\n",
      "stay_home, sunny.\n",
      "happy:- stay_home.\n",
      "~work_well:- stay_home.\n",
      "work_well:- happy.\n",
      "~happy:- stay_home, sunny.\n",
      "\n"
     ]
    }
   ],
   "source": [
    "with open(\"kb_input_file.txt\", \"w\") as infile:\n",
    "    infile.write(s)\n",
    "print(\"We can populate a knowledge base via a text file containing a prolog-syntax string.\",\n",
    "      \"E.G. for the same contents:\",\n",
    "       KnowledgeBase(\"kb_input_file.txt\"), sep=\"\\n\")"
   ]
  },
  {
   "cell_type": "code",
   "execution_count": 16,
   "metadata": {
    "id": "pSk9BEFZc7-x"
   },
   "outputs": [],
   "source": [
    "from itertools import product\n",
    "from functools import reduce\n",
    "def rule_supporting_evidence(r):\n",
    "    \"\"\"\n",
    "    Returns a collection (generator) of sets of supporting evidence for Rule r.\n",
    "\n",
    "    Equivalent to:\n",
    "    antecedent_evidence_items = [literal_supporting_evidence(l.case) for l in r.body]\n",
    "    for antecedent_evidence_item in product(*antecedent_evidence_items):\n",
    "        yield reduce(set().union, antecedent_evidence_item).union({r})\n",
    "    \"\"\"\n",
    "    yield from (reduce(set().union, ccose).union({r})  for ccose in product(*(literal_supporting_evidence(l) for l in r.body)))"
   ]
  },
  {
   "cell_type": "code",
   "execution_count": 17,
   "metadata": {
    "id": "Kg0O9aMac8Bd"
   },
   "outputs": [],
   "source": [
    "from itertools import chain\n",
    "def literal_supporting_evidence(l):\n",
    "    \"\"\"\n",
    "    Returns a collection (generator) of sets of supporting evidence for the Literal l.\n",
    "    \"\"\"\n",
    "    c = l.case\n",
    "    # base step: yield each asserting clause of l as a set\n",
    "    yield from ({clause} for clause in c.asserting_clauses)\n",
    "    # recursive step: yield each collection of supporting evidence for\n",
    "    #     (supported) asserted rules of l (as a set)\n",
    "    yield from chain.from_iterable((rule_supporting_evidence(r) for r in c.supporting_rules))"
   ]
  },
  {
   "cell_type": "code",
   "execution_count": 18,
   "metadata": {
    "colab": {
     "base_uri": "https://localhost:8080/"
    },
    "id": "6kuyD9J0c8EM",
    "outputId": "0ffb2e4b-1945-447a-f491-d8f1ac3c9312"
   },
   "outputs": [
    {
     "name": "stdout",
     "output_type": "stream",
     "text": [
      "\n",
      "Arguments for ~happy:\n",
      "{stay_home, sunny., ~happy:- stay_home, sunny.}\n",
      "\n",
      "Arguments for ~work_well:\n",
      "{stay_home, sunny., ~work_well:- stay_home.}\n",
      "\n",
      "Arguments for happy:\n",
      "{stay_home, sunny., happy:- stay_home.}\n",
      "\n",
      "Arguments for work_well:\n",
      "{stay_home, sunny., happy:- stay_home., work_well:- happy.}\n"
     ]
    }
   ],
   "source": [
    "for l in kb._supported_literals.values():\n",
    "    print(\"\\nArguments for {}:\".format(l))\n",
    "    supporting_evidence = chain.from_iterable((rule_supporting_evidence(r) for r in l.case.supporting_rules))\n",
    "    print(*supporting_evidence, sep=\" \")"
   ]
  },
  {
   "cell_type": "code",
   "execution_count": null,
   "metadata": {
    "id": "o-bFm2obc8G0"
   },
   "outputs": [],
   "source": []
  }
 ],
 "metadata": {
  "colab": {
   "name": "Argumentation-Based DEcision Support System",
   "provenance": []
  },
  "kernelspec": {
   "display_name": "Python 3 (ipykernel)",
   "language": "python",
   "name": "python3"
  },
  "language_info": {
   "codemirror_mode": {
    "name": "ipython",
    "version": 3
   },
   "file_extension": ".py",
   "mimetype": "text/x-python",
   "name": "python",
   "nbconvert_exporter": "python",
   "pygments_lexer": "ipython3",
   "version": "3.8.9"
  }
 },
 "nbformat": 4,
 "nbformat_minor": 1
}
