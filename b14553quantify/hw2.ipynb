{
 "cells": [
  {
   "cell_type": "code",
   "execution_count": 95,
   "id": "3aa75bdd",
   "metadata": {},
   "outputs": [],
   "source": [
    "%matplotlib inline\n",
    "import warnings\n",
    "warnings.filterwarnings('ignore')"
   ]
  },
  {
   "cell_type": "code",
   "execution_count": 113,
   "id": "733e6e66",
   "metadata": {},
   "outputs": [],
   "source": [
    "import numpy as np\n",
    "import pandas as pd\n",
    "import matplotlib.pyplot as plt\n",
    "from sklearn.model_selection import train_test_split\n",
    "from sklearn.linear_model import LinearRegression\n",
    "\n",
    "from sklearn.neighbors import KNeighborsRegressor\n",
    "from sklearn.metrics import mean_squared_error, r2_score\n",
    "from sklearn.model_selection import cross_val_score\n",
    "from sklearn.model_selection import KFold\n",
    "from statistics import mean\n",
    "from sklearn.linear_model import Ridge,Lasso\n",
    "from sklearn import preprocessing\n",
    "from sklearn.pipeline import make_pipeline\n",
    "from sklearn.model_selection import GridSearchCV\n",
    "from sklearn.preprocessing import StandardScaler"
   ]
  },
  {
   "cell_type": "code",
   "execution_count": 114,
   "id": "eb779adc",
   "metadata": {},
   "outputs": [],
   "source": [
    "calschool = pd.read_csv(\"carschool/Caschool.csv\")\n"
   ]
  },
  {
   "cell_type": "code",
   "execution_count": 115,
   "id": "872c6936",
   "metadata": {},
   "outputs": [
    {
     "data": {
      "text/html": [
       "<div>\n",
       "<style scoped>\n",
       "    .dataframe tbody tr th:only-of-type {\n",
       "        vertical-align: middle;\n",
       "    }\n",
       "\n",
       "    .dataframe tbody tr th {\n",
       "        vertical-align: top;\n",
       "    }\n",
       "\n",
       "    .dataframe thead th {\n",
       "        text-align: right;\n",
       "    }\n",
       "</style>\n",
       "<table border=\"1\" class=\"dataframe\">\n",
       "  <thead>\n",
       "    <tr style=\"text-align: right;\">\n",
       "      <th></th>\n",
       "      <th>Unnamed: 0</th>\n",
       "      <th>distcod</th>\n",
       "      <th>county</th>\n",
       "      <th>district</th>\n",
       "      <th>grspan</th>\n",
       "      <th>enrltot</th>\n",
       "      <th>teachers</th>\n",
       "      <th>calwpct</th>\n",
       "      <th>mealpct</th>\n",
       "      <th>computer</th>\n",
       "      <th>testscr</th>\n",
       "      <th>compstu</th>\n",
       "      <th>expnstu</th>\n",
       "      <th>str</th>\n",
       "      <th>avginc</th>\n",
       "      <th>elpct</th>\n",
       "      <th>readscr</th>\n",
       "      <th>mathscr</th>\n",
       "    </tr>\n",
       "  </thead>\n",
       "  <tbody>\n",
       "    <tr>\n",
       "      <th>0</th>\n",
       "      <td>1</td>\n",
       "      <td>75119</td>\n",
       "      <td>Alameda</td>\n",
       "      <td>Sunol Glen Unified</td>\n",
       "      <td>KK-08</td>\n",
       "      <td>195</td>\n",
       "      <td>10.900000</td>\n",
       "      <td>0.510200</td>\n",
       "      <td>2.040800</td>\n",
       "      <td>67</td>\n",
       "      <td>690.799988</td>\n",
       "      <td>0.343590</td>\n",
       "      <td>6384.911133</td>\n",
       "      <td>17.889910</td>\n",
       "      <td>22.690001</td>\n",
       "      <td>0.000000</td>\n",
       "      <td>691.599976</td>\n",
       "      <td>690.000000</td>\n",
       "    </tr>\n",
       "    <tr>\n",
       "      <th>1</th>\n",
       "      <td>2</td>\n",
       "      <td>61499</td>\n",
       "      <td>Butte</td>\n",
       "      <td>Manzanita Elementary</td>\n",
       "      <td>KK-08</td>\n",
       "      <td>240</td>\n",
       "      <td>11.150000</td>\n",
       "      <td>15.416700</td>\n",
       "      <td>47.916698</td>\n",
       "      <td>101</td>\n",
       "      <td>661.200012</td>\n",
       "      <td>0.420833</td>\n",
       "      <td>5099.380859</td>\n",
       "      <td>21.524664</td>\n",
       "      <td>9.824000</td>\n",
       "      <td>4.583333</td>\n",
       "      <td>660.500000</td>\n",
       "      <td>661.900024</td>\n",
       "    </tr>\n",
       "    <tr>\n",
       "      <th>2</th>\n",
       "      <td>3</td>\n",
       "      <td>61549</td>\n",
       "      <td>Butte</td>\n",
       "      <td>Thermalito Union Elementary</td>\n",
       "      <td>KK-08</td>\n",
       "      <td>1550</td>\n",
       "      <td>82.900002</td>\n",
       "      <td>55.032299</td>\n",
       "      <td>76.322601</td>\n",
       "      <td>169</td>\n",
       "      <td>643.599976</td>\n",
       "      <td>0.109032</td>\n",
       "      <td>5501.954590</td>\n",
       "      <td>18.697226</td>\n",
       "      <td>8.978000</td>\n",
       "      <td>30.000002</td>\n",
       "      <td>636.299988</td>\n",
       "      <td>650.900024</td>\n",
       "    </tr>\n",
       "    <tr>\n",
       "      <th>3</th>\n",
       "      <td>4</td>\n",
       "      <td>61457</td>\n",
       "      <td>Butte</td>\n",
       "      <td>Golden Feather Union Elementary</td>\n",
       "      <td>KK-08</td>\n",
       "      <td>243</td>\n",
       "      <td>14.000000</td>\n",
       "      <td>36.475399</td>\n",
       "      <td>77.049202</td>\n",
       "      <td>85</td>\n",
       "      <td>647.700012</td>\n",
       "      <td>0.349794</td>\n",
       "      <td>7101.831055</td>\n",
       "      <td>17.357143</td>\n",
       "      <td>8.978000</td>\n",
       "      <td>0.000000</td>\n",
       "      <td>651.900024</td>\n",
       "      <td>643.500000</td>\n",
       "    </tr>\n",
       "    <tr>\n",
       "      <th>4</th>\n",
       "      <td>5</td>\n",
       "      <td>61523</td>\n",
       "      <td>Butte</td>\n",
       "      <td>Palermo Union Elementary</td>\n",
       "      <td>KK-08</td>\n",
       "      <td>1335</td>\n",
       "      <td>71.500000</td>\n",
       "      <td>33.108601</td>\n",
       "      <td>78.427002</td>\n",
       "      <td>171</td>\n",
       "      <td>640.849976</td>\n",
       "      <td>0.128090</td>\n",
       "      <td>5235.987793</td>\n",
       "      <td>18.671329</td>\n",
       "      <td>9.080333</td>\n",
       "      <td>13.857677</td>\n",
       "      <td>641.799988</td>\n",
       "      <td>639.900024</td>\n",
       "    </tr>\n",
       "  </tbody>\n",
       "</table>\n",
       "</div>"
      ],
      "text/plain": [
       "   Unnamed: 0  distcod   county                         district grspan  \\\n",
       "0           1    75119  Alameda               Sunol Glen Unified  KK-08   \n",
       "1           2    61499    Butte             Manzanita Elementary  KK-08   \n",
       "2           3    61549    Butte      Thermalito Union Elementary  KK-08   \n",
       "3           4    61457    Butte  Golden Feather Union Elementary  KK-08   \n",
       "4           5    61523    Butte         Palermo Union Elementary  KK-08   \n",
       "\n",
       "   enrltot   teachers    calwpct    mealpct  computer     testscr   compstu  \\\n",
       "0      195  10.900000   0.510200   2.040800        67  690.799988  0.343590   \n",
       "1      240  11.150000  15.416700  47.916698       101  661.200012  0.420833   \n",
       "2     1550  82.900002  55.032299  76.322601       169  643.599976  0.109032   \n",
       "3      243  14.000000  36.475399  77.049202        85  647.700012  0.349794   \n",
       "4     1335  71.500000  33.108601  78.427002       171  640.849976  0.128090   \n",
       "\n",
       "       expnstu        str     avginc      elpct     readscr     mathscr  \n",
       "0  6384.911133  17.889910  22.690001   0.000000  691.599976  690.000000  \n",
       "1  5099.380859  21.524664   9.824000   4.583333  660.500000  661.900024  \n",
       "2  5501.954590  18.697226   8.978000  30.000002  636.299988  650.900024  \n",
       "3  7101.831055  17.357143   8.978000   0.000000  651.900024  643.500000  \n",
       "4  5235.987793  18.671329   9.080333  13.857677  641.799988  639.900024  "
      ]
     },
     "execution_count": 115,
     "metadata": {},
     "output_type": "execute_result"
    }
   ],
   "source": [
    "calschool.head()"
   ]
  },
  {
   "cell_type": "code",
   "execution_count": 116,
   "id": "cd535881",
   "metadata": {},
   "outputs": [
    {
     "data": {
      "text/plain": [
       "' 1.1 Visualize the univariate distribution of the target feature and each of the three continuous\\n  \\n    explanatory variables that you think are likely to have a relationship with the target feature.\\n\\n'"
      ]
     },
     "execution_count": 116,
     "metadata": {},
     "output_type": "execute_result"
    }
   ],
   "source": [
    "''' 1.1 Visualize the univariate distribution of the target feature and each of the three continuous\n",
    "  \n",
    "    explanatory variables that you think are likely to have a relationship with the target feature.\n",
    "\n",
    "'''\n"
   ]
  },
  {
   "cell_type": "code",
   "execution_count": 117,
   "id": "96ce3608",
   "metadata": {},
   "outputs": [
    {
     "data": {
      "image/png": "[encoded data removed]",
      "text/plain": [
       "<Figure size 1440x720 with 4 Axes>"
      ]
     },
     "metadata": {
      "needs_background": "light"
     },
     "output_type": "display_data"
    }
   ],
   "source": [
    "# https://vincentarelbundock.github.io/Rdatasets/doc/Ecdat/Caschool.html\n",
    "\n",
    "fig, ax = plt.subplots(1, 4, figsize = (20, 10))\n",
    "\n",
    "ax[0].hist(calschool[\"testscr\"])\n",
    "ax[0].set_ylabel(\"Count\")\n",
    "ax[0].set_title(\"average test score\")\n",
    "\n",
    "\n",
    "ax[1].hist(calschool[\"str\"])\n",
    "ax[1].set_title(\"student teacher ratio\")\n",
    "\n",
    "ax[2].hist(calschool[\"avginc\"])\n",
    "ax[2].set_title(\"district average income\")\n",
    "\n",
    "ax[3].hist(calschool[\"expnstu\"])\n",
    "ax[3].set_title(\"expenditure per student\")\n",
    "\n",
    "plt.show()"
   ]
  },
  {
   "cell_type": "code",
   "execution_count": 118,
   "id": "73f48abc",
   "metadata": {},
   "outputs": [
    {
     "data": {
      "text/plain": [
       "' \\n\\n1.2 Visualize the dependency of the target on each feature from 1.1.\\n\\n'"
      ]
     },
     "execution_count": 118,
     "metadata": {},
     "output_type": "execute_result"
    }
   ],
   "source": [
    "''' \n",
    "\n",
    "1.2 Visualize the dependency of the target on each feature from 1.1.\n",
    "\n",
    "'''"
   ]
  },
  {
   "cell_type": "code",
   "execution_count": 119,
   "id": "4d705aec",
   "metadata": {},
   "outputs": [
    {
     "data": {
      "image/png": "[encoded data removed]",
      "text/plain": [
       "<Figure size 1440x720 with 3 Axes>"
      ]
     },
     "metadata": {
      "needs_background": "light"
     },
     "output_type": "display_data"
    }
   ],
   "source": [
    "fig, ax = plt.subplots(1, 3, figsize = (20, 10))\n",
    "\n",
    "\n",
    "\n",
    "ax[0].scatter(calschool[\"str\"], calschool[\"testscr\"], alpha = 0.8)\n",
    "ax[0].set_ylabel(\"Average Test Score\")\n",
    "ax[0].set_title(\"student teacher ratio\")\n",
    "\n",
    "ax[1].scatter(calschool[\"avginc\"], calschool[\"testscr\"], alpha = 0.8)\n",
    "ax[1].set_title(\"district average income\")\n",
    "\n",
    "ax[2].scatter(calschool[\"expnstu\"], calschool[\"testscr\"], alpha = 0.8)\n",
    "ax[2].set_title(\"expenditure per student\")\n",
    "\n",
    "plt.show()"
   ]
  },
  {
   "cell_type": "code",
   "execution_count": 120,
   "id": "2013875e",
   "metadata": {},
   "outputs": [
    {
     "data": {
      "text/plain": [
       "' \\n\\n1.3 Split data in training and test set. Build models that evaluate the relationship between all available X variables in the California test dataset and the target variable. Evaluate KNN for regression, Linear Regression (OLS), Ridge, and Lasso using cross-validation with the default parameters.\\nDoes scaling the data with the StandardScaler help?\\n\\n'"
      ]
     },
     "execution_count": 120,
     "metadata": {},
     "output_type": "execute_result"
    }
   ],
   "source": [
    "''' \n",
    "\n",
    "1.3 Split data in training and test set. Build models that evaluate the relationship between all available X variables in the California test dataset and the target variable. Evaluate KNN for regression, Linear Regression (OLS), Ridge, and Lasso using cross-validation with the default parameters.\n",
    "Does scaling the data with the StandardScaler help?\n",
    "\n",
    "'''"
   ]
  },
  {
   "cell_type": "code",
   "execution_count": 121,
   "id": "bf146fe9",
   "metadata": {},
   "outputs": [],
   "source": [
    "\n",
    "calschool = calschool._get_numeric_data() #only keeps numeric data\n",
    "calschool = calschool.iloc[:, 2:13] #select out first column, redundant row number\n",
    "\n",
    "y = calschool['testscr'] \n",
    "X = calschool.loc[:, calschool.columns != 'testscr'] \n",
    "\n",
    "X_train, X_test, Y_train, Y_test = train_test_split(X, y)"
   ]
  },
  {
   "cell_type": "code",
   "execution_count": 122,
   "id": "0cef14c5",
   "metadata": {},
   "outputs": [
    {
     "name": "stdout",
     "output_type": "stream",
     "text": [
      "KFold CV Train Score: -0.032829596490717636\n",
      "KFold CV Test Score: -0.02386954899741085\n",
      "KNN Mean Squared Error: 424.2088463801161\n",
      "\n",
      "\n",
      "LinearRegression CV Train Score: 0.78\n",
      "LinearRegression CV Test Score: 0.76\n",
      "LinearRegression Mean Squared Error: 73.40702421471237\n",
      "\n",
      "\n",
      "Ridge CV Train Score: 0.79\n",
      "Ridge CV Test Score: 0.79\n",
      "Ridge Mean Squared Error: 73.77120514223496\n",
      "\n",
      "\n",
      "Lasso CV Train Score: 0.79\n",
      "Lasso CV Test Score: 0.80\n",
      "Lasso Mean Squared Error: 73.33831456482207\n"
     ]
    }
   ],
   "source": [
    "kfold = KFold(n_splits=5)\n",
    "\n",
    "knn = KNeighborsRegressor(n_neighbors = 5)\n",
    "knn.fit(X_train, Y_train)\n",
    "y_pred_knn = knn.predict(X_test) \n",
    "print(\"KFold CV Train Score: {}\".format(mean(cross_val_score(KNeighborsRegressor(), X_train, Y_train, cv=kfold))))\n",
    "print(\"KFold CV Test Score: {}\".format(mean(cross_val_score(KNeighborsRegressor(), X_test, Y_test, cv=kfold))))\n",
    "print(\"KNN Mean Squared Error:\", mean_squared_error(Y_test, y_pred_knn))\n",
    "print('\\n')\n",
    "\n",
    "lr = LinearRegression().fit(X_train, Y_train)\n",
    "y_pred_lr = lr.predict(X_test)\n",
    "\n",
    "print(\"LinearRegression CV Train Score: {:.2f}\".format( np.mean(cross_val_score(LinearRegression(), \n",
    "                                                                                X_train, Y_train, cv=10, scoring=\"r2\"))))\n",
    "print(\"LinearRegression CV Test Score: {:.2f}\".format( np.mean(cross_val_score(LinearRegression(),\n",
    "                                                                               X_test, Y_test, cv=10, scoring=\"r2\"))))\n",
    "print(\"LinearRegression Mean Squared Error:\", mean_squared_error(Y_test, y_pred_lr))\n",
    "\n",
    "print('\\n')\n",
    "ridge = Ridge().fit(X_train, Y_train)\n",
    "y_pred_ridge = ridge.predict(X_test)\n",
    "print(\"Ridge CV Train Score: {:.2f}\".format( np.mean(cross_val_score(Ridge(), X_train, Y_train, scoring=\"r2\"))))\n",
    "print(\"Ridge CV Test Score: {:.2f}\".format( np.mean(cross_val_score(Ridge(), X_test, Y_test, scoring=\"r2\"))))\n",
    "print(\"Ridge Mean Squared Error:\", mean_squared_error(Y_test, y_pred_ridge))\n",
    "\n",
    "print('\\n')\n",
    "print(\"Lasso CV Train Score: {:.2f}\".format( np.mean(cross_val_score(Lasso(), X_train, Y_train, scoring=\"r2\"))))\n",
    "print(\"Lasso CV Test Score: {:.2f}\".format( np.mean(cross_val_score(Lasso(), X_test, Y_test, scoring=\"r2\"))))\n",
    "lasso = Lasso().fit(X_train, Y_train)\n",
    "y_pred_lasso = lasso.predict(X_test)\n",
    "print(\"Lasso Mean Squared Error:\", mean_squared_error(Y_test, y_pred_lasso))"
   ]
  },
  {
   "cell_type": "code",
   "execution_count": 123,
   "id": "92843658",
   "metadata": {},
   "outputs": [
    {
     "name": "stdout",
     "output_type": "stream",
     "text": [
      "\n",
      " After StandardScaler changed  \n",
      "\n",
      "LinearRegression CV Train Score: 0.79\n",
      "LinearRegression CV Test Score: 0.79\n",
      "Ridge CV Train Score: 0.79\n",
      "Ridge CV Test Score: 0.79\n",
      "Lasso CV Train Score: 0.79\n",
      "Lasso CV Test Score: 0.79\n"
     ]
    }
   ],
   "source": [
    "scaler = preprocessing.StandardScaler().fit(X_train)\n",
    "X_train_scaled = scaler.transform(X_train)\n",
    "X_test_scaled = scaler.transform(X_test)\n",
    "\n",
    "print('\\n After StandardScaler changed  \\n')\n",
    "lr = LinearRegression().fit(X_train_scaled, Y_train)\n",
    "print(\"LinearRegression CV Train Score: {:.2f}\".format( np.mean(cross_val_score(lr, X_train_scaled, Y_train, scoring=\"r2\"))))\n",
    "print(\"LinearRegression CV Test Score: {:.2f}\".format( np.mean(cross_val_score(lr, X_test_scaled, Y_test, scoring=\"r2\"))))\n",
    "\n",
    "\n",
    "ridge = Ridge().fit(X_train_scaled, Y_train)\n",
    "print(\"Ridge CV Train Score: {:.2f}\".format( np.mean(cross_val_score(ridge, X_train_scaled, Y_train, scoring=\"r2\"))))\n",
    "print(\"Ridge CV Test Score: {:.2f}\".format( np.mean(cross_val_score(ridge, X_test_scaled, Y_test, scoring=\"r2\"))))\n",
    "    \n",
    "lasso = Lasso().fit(X_train_scaled, Y_train)\n",
    "print(\"Lasso CV Train Score: {:.2f}\".format( np.mean(cross_val_score(lasso, X_train_scaled, Y_train, scoring=\"r2\"))))\n",
    "print(\"Lasso CV Test Score: {:.2f}\".format( np.mean(cross_val_score(lasso, X_test_scaled, Y_test, scoring=\"r2\"))))\n",
    "\n"
   ]
  },
  {
   "cell_type": "code",
   "execution_count": 124,
   "id": "95860706",
   "metadata": {},
   "outputs": [
    {
     "name": "stdout",
     "output_type": "stream",
     "text": [
      "LinearRegression and Lasson Test score improved!\n"
     ]
    }
   ],
   "source": [
    "print('LinearRegression and Lasson Test score improved!')"
   ]
  },
  {
   "cell_type": "code",
   "execution_count": 125,
   "id": "3b313a0c",
   "metadata": {},
   "outputs": [
    {
     "data": {
      "text/plain": [
       "'\\n1.4 Tune the parameters of the models where possible using GridSearchCV. \\nDo the results improve?\\n'"
      ]
     },
     "execution_count": 125,
     "metadata": {},
     "output_type": "execute_result"
    }
   ],
   "source": [
    "'''\n",
    "1.4 Tune the parameters of the models where possible using GridSearchCV. \n",
    "Do the results improve?\n",
    "'''"
   ]
  },
  {
   "cell_type": "code",
   "execution_count": 131,
   "id": "cfd0943c",
   "metadata": {},
   "outputs": [
    {
     "name": "stdout",
     "output_type": "stream",
     "text": [
      "KNN for REGRESSION (SCALED DATA)\n",
      "Test set Score: 0.75\n",
      "Best Parameter: {'kneighborsregressor__n_neighbors': 9}\n",
      "\n",
      "\n",
      "KNN Test set score: 0.74\n",
      "\n",
      "\n",
      "RIDGE Regression (SCALED DATA)\n",
      "Test set Score: 0.82\n",
      "Best Parameter: {'ridge__alpha': 0.1}\n",
      "LASSO REGRESSION (SCALED DATA)\n",
      "Test set Score: 0.82\n",
      "Best Parameter: {'lasso__alpha': 0.1}\n"
     ]
    }
   ],
   "source": [
    "knn_pipe = make_pipeline(StandardScaler(), KNeighborsRegressor())\n",
    "# print(knn_pipe.steps) \n",
    "# Name of step = 'kneighborsregressor' + __ + n_neighbors\n",
    "\n",
    "knn_param_grid = {'kneighborsregressor__n_neighbors': range(1, 10)} # remember, use two underscores before n, \"__n\"\n",
    "knn_grid = GridSearchCV(knn_pipe, knn_param_grid, cv=kfold).fit(X_train_scaled, Y_train)\n",
    "\n",
    "print(\"KNN for REGRESSION (SCALED DATA)\")\n",
    "print(\"Test set Score: {:.2f}\".format(knn_grid.score(X_test_scaled, Y_test)))\n",
    "print(\"Best Parameter: {}\".format(knn_grid.best_params_))\n",
    "\n",
    "print('\\n')\n",
    "knn = KNeighborsRegressor(n_neighbors=6).fit(X_train_scaled, Y_train)\n",
    "best_knn = knn.score(X_test_scaled, Y_test)\n",
    "print(\"KNN Test set score: {:.2f}\".format(best_knn))\n",
    "\n",
    "print('\\n')\n",
    "ridge_pipe = make_pipeline(StandardScaler(), Ridge())\n",
    "ridge_param_grid = {'ridge__alpha': np.linspace(0.1, 100.0, 1)}\n",
    "ridge_grid = GridSearchCV(ridge_pipe, ridge_param_grid, cv=kfold).fit(X_train_scaled, Y_train)\n",
    "\n",
    "print(\"RIDGE Regression (SCALED DATA)\")\n",
    "print(\"Test set Score: {:.2f}\".format(ridge_grid.score(X_test_scaled, Y_test)))\n",
    "print(\"Best Parameter: {}\".format(ridge_grid.best_params_))\n",
    "\n",
    "lasso_pipe = make_pipeline(StandardScaler(), Lasso())\n",
    "\n",
    "\n",
    "lasso_param_grid = {'lasso__alpha': np.linspace(0.1, 100.0, 1)}\n",
    "lasso_grid = GridSearchCV(lasso_pipe, lasso_param_grid, cv=kfold).fit(X_train_scaled, Y_train)\n",
    "\n",
    "print(\"LASSO REGRESSION (SCALED DATA)\")\n",
    "print(\"Test set Score: {:.2f}\".format(lasso_grid.score(X_test_scaled, Y_test)))\n",
    "print(\"Best Parameter: {}\".format(lasso_grid.best_params_))"
   ]
  },
  {
   "cell_type": "code",
   "execution_count": 132,
   "id": "643472cd",
   "metadata": {},
   "outputs": [
    {
     "name": "stdout",
     "output_type": "stream",
     "text": [
      "all show some improvement after using GridSearchCV \n"
     ]
    }
   ],
   "source": [
    "print('all show some improvement after using GridSearchCV ')"
   ]
  },
  {
   "cell_type": "code",
   "execution_count": 133,
   "id": "b8ad67bc",
   "metadata": {},
   "outputs": [
    {
     "data": {
      "text/plain": [
       "'\\n1.5 Compare the coefficients of your two best linear models (not knn), \\ndo they agree on which features are important?\\n'"
      ]
     },
     "execution_count": 133,
     "metadata": {},
     "output_type": "execute_result"
    }
   ],
   "source": [
    "'''\n",
    "1.5 Compare the coefficients of your two best linear models (not knn), \n",
    "do they agree on which features are important?\n",
    "'''"
   ]
  },
  {
   "cell_type": "code",
   "execution_count": 138,
   "id": "236c2aaa",
   "metadata": {},
   "outputs": [
    {
     "name": "stdout",
     "output_type": "stream",
     "text": [
      "              LASSO      Ridge\n",
      "enrltot   -0.000000   1.424442\n",
      "teachers  -0.000000  -1.721406\n",
      "calwpct   -0.000000  -0.540525\n",
      "mealpct  -10.861955 -10.515554\n",
      "computer  -0.000000   0.572952\n",
      "compstu    0.028817   0.401862\n",
      "expnstu    0.491414   1.021033\n",
      "str       -0.262553  -0.734400\n",
      "avginc     3.649008   3.962487\n",
      "elpct     -2.702536  -3.526590\n",
      "LASSO and Ridge agree on which features are important!\n",
      "\n",
      "\n",
      "Number of features used with LASSO: 6\n",
      "Number of features used with Ridge: 10\n"
     ]
    }
   ],
   "source": [
    "d = {'LASSO': lasso.coef_, 'Ridge': ridge.coef_} # Builds a dictionary with the coefficients from my LASSO & Ridge models\n",
    "coefficients = pd.DataFrame(data=d, index=X.columns) # Puts the dictionary into a dataframe along with variable names\n",
    "t = coefficients.head(10)\n",
    "print(t)\n",
    "print('LASSO and Ridge agree on which features are important!')\n",
    "print('\\n')\n",
    "print(\"Number of features used with LASSO: {}\".format(np.sum(lasso.coef_ != 0)))\n",
    "print(\"Number of features used with Ridge: {}\".format(np.sum(ridge.coef_ != 0)))"
   ]
  },
  {
   "cell_type": "code",
   "execution_count": 139,
   "id": "bb275b75",
   "metadata": {},
   "outputs": [
    {
     "data": {
      "text/plain": [
       "'\\n\\n'"
      ]
     },
     "execution_count": 139,
     "metadata": {},
     "output_type": "execute_result"
    }
   ],
   "source": [
    "'''\n",
    "1.6 Discuss which final model you would choose to predict new data\n",
    "'''"
   ]
  },
  {
   "cell_type": "code",
   "execution_count": 140,
   "id": "b103bf54",
   "metadata": {},
   "outputs": [
    {
     "name": "stdout",
     "output_type": "stream",
     "text": [
      "I will use LASSO with GridSearchCV\n"
     ]
    }
   ],
   "source": [
    "print('I will use LASSO with GridSearchCV')"
   ]
  },
  {
   "cell_type": "code",
   "execution_count": 142,
   "id": "8d2f943d",
   "metadata": {},
   "outputs": [
    {
     "name": "stdout",
     "output_type": "stream",
     "text": [
      "#################### Part 2: Classification on red and white wine characteristics ####################\n"
     ]
    }
   ],
   "source": [
    "print('#'*20, 'Part 2: Classification on red and white wine characteristics', '#'*20)"
   ]
  },
  {
   "cell_type": "code",
   "execution_count": null,
   "id": "5178d11e",
   "metadata": {},
   "outputs": [],
   "source": []
  },
  {
   "cell_type": "code",
   "execution_count": null,
   "id": "a24999f0",
   "metadata": {},
   "outputs": [],
   "source": []
  },
  {
   "cell_type": "code",
   "execution_count": null,
   "id": "6c6b4fef",
   "metadata": {},
   "outputs": [],
   "source": []
  },
  {
   "cell_type": "code",
   "execution_count": null,
   "id": "649c0396",
   "metadata": {},
   "outputs": [],
   "source": []
  }
 ],
 "metadata": {
  "kernelspec": {
   "display_name": "Python 3 (ipykernel)",
   "language": "python",
   "name": "python3"
  },
  "language_info": {
   "codemirror_mode": {
    "name": "ipython",
    "version": 3
   },
   "file_extension": ".py",
   "mimetype": "text/x-python",
   "name": "python",
   "nbconvert_exporter": "python",
   "pygments_lexer": "ipython3",
   "version": "3.8.11"
  }
 },
 "nbformat": 4,
 "nbformat_minor": 5
}
