{
 "cells": [
  {
   "cell_type": "code",
   "execution_count": 1,
   "id": "41dc06ae",
   "metadata": {},
   "outputs": [],
   "source": [
    "import aimodelshare as ai\n",
    "import pandas as pd\n",
    "import numpy as np\n",
    "import matplotlib.pyplot as plt\n",
    "\n",
    "from sklearn.feature_extraction.text import CountVectorizer\n",
    "from sklearn.feature_extraction.text import TfidfVectorizer\n",
    "from sklearn.feature_extraction.text import ENGLISH_STOP_WORDS\n",
    "from sklearn.model_selection import train_test_split\n",
    "from sklearn.model_selection import cross_val_score\n",
    "from sklearn.linear_model import LogisticRegression\n",
    "from sklearn.neighbors import KNeighborsClassifier\n",
    "from sklearn.svm import SVC \n",
    "from sklearn.metrics import f1_score\n",
    "from sklearn.model_selection import GridSearchCV\n",
    "# Download competition training data and X_test data to working directory and train model\n",
    "# Data description: Training and test data stored in csv files.\n",
    "# ai.download_data(\"public.ecr.aws/y2e2a1d6/clickbait_competition_data-repository:latest\")\n",
    "# ai.download_data(\"public.ecr.aws/y2e2a1d6/clickbait_quickstart-repository:latest\")\n",
    "#X_train, X_test, y_train_labels, y_test_labels, example_data, lstm_model, lstm_model2 = ai.import_quickstart_data(\"clickbait\")\n",
    "    # add by abel\n",
    "#quickstart_repository = 'quickstart_clickbait_materials-repository'\n",
    "#ai.download_data(\"public.ecr.aws/y2e2a1d6/quickstart_clickbait_materials-repository:latest\")\n",
    "\n",
    "\n",
    "######################################################################\n",
    "# there is bug in ai.import_quickstart_data, so I split data myself\n",
    "# X_train, X_test, y_train_labels, y_test_labels, example_data, lstm_model, lstm_model2 = ai.import_quickstart_data(\"clickbait\")\n",
    "\n",
    "from sklearn.model_selection import train_test_split\n",
    "import pandas as pd\n",
    "data = pd.read_csv(\"quickstart_clickbait_materials/clickbait_data.csv\")\n",
    "\n",
    "y = np.array(data['clickbait'])\n",
    "\n",
    "X_text_train = np.array(data[\"headline\"])\n",
    "vect = CountVectorizer().fit(X_text_train)\n",
    "X = vect.transform(X_text_train)\n",
    "\n",
    "# create data directory for competition\n",
    "X_train, X_test, y_train, y_test = train_test_split(X, y, random_state= 2)\n"
   ]
  },
  {
   "cell_type": "code",
   "execution_count": 2,
   "id": "188dd761",
   "metadata": {},
   "outputs": [
    {
     "name": "stdout",
     "output_type": "stream",
     "text": [
      "(24000, 22761)\n"
     ]
    }
   ],
   "source": [
    "print(X_train.shape)"
   ]
  },
  {
   "cell_type": "code",
   "execution_count": 3,
   "id": "f01dcbee",
   "metadata": {},
   "outputs": [
    {
     "name": "stdout",
     "output_type": "stream",
     "text": [
      "[1 1 0 1 1]\n"
     ]
    }
   ],
   "source": [
    "print(y_train[0:5])"
   ]
  },
  {
   "cell_type": "code",
   "execution_count": 4,
   "id": "a19719b9",
   "metadata": {},
   "outputs": [
    {
     "name": "stdout",
     "output_type": "stream",
     "text": [
      "The 1st model I choose to use simple logistic regression model\n",
      "----------------------------------------\n",
      "Test set score: 0.97\n",
      "CV Test Score: 0.96\n",
      "CV F1 Score: 0.96\n"
     ]
    }
   ],
   "source": [
    "print('The 1st model I choose to use simple logistic regression model')\n",
    "print('-'*40)\n",
    "log = LogisticRegression().fit(X_train, y_train)\n",
    "log_pred = log.predict(X_test)\n",
    "\n",
    "print(\"Test set score: {:.2f}\".format(log.score(X_test, y_test)))\n",
    "print(\"CV Test Score: {:.2f}\".format( np.mean(cross_val_score(log, X_test, y_test, cv=10))) )\n",
    "print(\"CV F1 Score: {:.2f}\".format(np.mean(cross_val_score(log, X_test, y_test, cv=10, scoring = \"f1_weighted\"))) )"
   ]
  },
  {
   "cell_type": "code",
   "execution_count": 5,
   "id": "663832a9",
   "metadata": {},
   "outputs": [
    {
     "name": "stderr",
     "output_type": "stream",
     "text": [
      "/Users/greatabel/.virtualenvs/samaritan0/lib/python3.8/site-packages/sklearn/linear_model/_logistic.py:763: ConvergenceWarning: lbfgs failed to converge (status=1):\n",
      "STOP: TOTAL NO. of ITERATIONS REACHED LIMIT.\n",
      "\n",
      "Increase the number of iterations (max_iter) or scale the data as shown in:\n",
      "    https://scikit-learn.org/stable/modules/preprocessing.html\n",
      "Please also refer to the documentation for alternative solver options:\n",
      "    https://scikit-learn.org/stable/modules/linear_model.html#logistic-regression\n",
      "  n_iter_i = _check_optimize_result(\n",
      "/Users/greatabel/.virtualenvs/samaritan0/lib/python3.8/site-packages/sklearn/linear_model/_logistic.py:763: ConvergenceWarning: lbfgs failed to converge (status=1):\n",
      "STOP: TOTAL NO. of ITERATIONS REACHED LIMIT.\n",
      "\n",
      "Increase the number of iterations (max_iter) or scale the data as shown in:\n",
      "    https://scikit-learn.org/stable/modules/preprocessing.html\n",
      "Please also refer to the documentation for alternative solver options:\n",
      "    https://scikit-learn.org/stable/modules/linear_model.html#logistic-regression\n",
      "  n_iter_i = _check_optimize_result(\n",
      "/Users/greatabel/.virtualenvs/samaritan0/lib/python3.8/site-packages/sklearn/linear_model/_logistic.py:763: ConvergenceWarning: lbfgs failed to converge (status=1):\n",
      "STOP: TOTAL NO. of ITERATIONS REACHED LIMIT.\n",
      "\n",
      "Increase the number of iterations (max_iter) or scale the data as shown in:\n",
      "    https://scikit-learn.org/stable/modules/preprocessing.html\n",
      "Please also refer to the documentation for alternative solver options:\n",
      "    https://scikit-learn.org/stable/modules/linear_model.html#logistic-regression\n",
      "  n_iter_i = _check_optimize_result(\n",
      "/Users/greatabel/.virtualenvs/samaritan0/lib/python3.8/site-packages/sklearn/linear_model/_logistic.py:763: ConvergenceWarning: lbfgs failed to converge (status=1):\n",
      "STOP: TOTAL NO. of ITERATIONS REACHED LIMIT.\n",
      "\n",
      "Increase the number of iterations (max_iter) or scale the data as shown in:\n",
      "    https://scikit-learn.org/stable/modules/preprocessing.html\n",
      "Please also refer to the documentation for alternative solver options:\n",
      "    https://scikit-learn.org/stable/modules/linear_model.html#logistic-regression\n",
      "  n_iter_i = _check_optimize_result(\n",
      "/Users/greatabel/.virtualenvs/samaritan0/lib/python3.8/site-packages/sklearn/linear_model/_logistic.py:763: ConvergenceWarning: lbfgs failed to converge (status=1):\n",
      "STOP: TOTAL NO. of ITERATIONS REACHED LIMIT.\n",
      "\n",
      "Increase the number of iterations (max_iter) or scale the data as shown in:\n",
      "    https://scikit-learn.org/stable/modules/preprocessing.html\n",
      "Please also refer to the documentation for alternative solver options:\n",
      "    https://scikit-learn.org/stable/modules/linear_model.html#logistic-regression\n",
      "  n_iter_i = _check_optimize_result(\n",
      "/Users/greatabel/.virtualenvs/samaritan0/lib/python3.8/site-packages/sklearn/linear_model/_logistic.py:763: ConvergenceWarning: lbfgs failed to converge (status=1):\n",
      "STOP: TOTAL NO. of ITERATIONS REACHED LIMIT.\n",
      "\n",
      "Increase the number of iterations (max_iter) or scale the data as shown in:\n",
      "    https://scikit-learn.org/stable/modules/preprocessing.html\n",
      "Please also refer to the documentation for alternative solver options:\n",
      "    https://scikit-learn.org/stable/modules/linear_model.html#logistic-regression\n",
      "  n_iter_i = _check_optimize_result(\n"
     ]
    },
    {
     "name": "stdout",
     "output_type": "stream",
     "text": [
      "Best cross-validation score: 0.97\n",
      "Test score: 0.97\n",
      "Best parameters:  {'C': 10}\n"
     ]
    },
    {
     "name": "stderr",
     "output_type": "stream",
     "text": [
      "/Users/greatabel/.virtualenvs/samaritan0/lib/python3.8/site-packages/sklearn/linear_model/_logistic.py:763: ConvergenceWarning: lbfgs failed to converge (status=1):\n",
      "STOP: TOTAL NO. of ITERATIONS REACHED LIMIT.\n",
      "\n",
      "Increase the number of iterations (max_iter) or scale the data as shown in:\n",
      "    https://scikit-learn.org/stable/modules/preprocessing.html\n",
      "Please also refer to the documentation for alternative solver options:\n",
      "    https://scikit-learn.org/stable/modules/linear_model.html#logistic-regression\n",
      "  n_iter_i = _check_optimize_result(\n"
     ]
    },
    {
     "name": "stdout",
     "output_type": "stream",
     "text": [
      "CV F1 Score: 0.96\n"
     ]
    }
   ],
   "source": [
    "param_grid = {'C': [0.001, 0.01, 0.1, 1, 10]}\n",
    "grid = GridSearchCV(LogisticRegression(), param_grid, cv=5)\n",
    "grid.fit(X_train, y_train)\n",
    "print(\"Best cross-validation score: {:.2f}\".format(grid.best_score_))\n",
    "print(\"Test score: {:.2f}\".format(grid.score(X_test, y_test)))\n",
    "print(\"Best parameters: \", grid.best_params_)\n",
    "\n",
    "penal_log_reg = LogisticRegression(C = grid.best_params_[\"C\"]).fit(X_train, y_train)\n",
    "print(\"CV F1 Score: {:.2f}\".format(np.mean(cross_val_score(penal_log_reg, X_test, y_test, cv=10, scoring = \"f1_weighted\"))) )\n"
   ]
  },
  {
   "cell_type": "code",
   "execution_count": 6,
   "id": "1e724915",
   "metadata": {},
   "outputs": [
    {
     "name": "stderr",
     "output_type": "stream",
     "text": [
      "/Users/greatabel/.virtualenvs/samaritan0/lib/python3.8/site-packages/sklearn/linear_model/_logistic.py:763: ConvergenceWarning: lbfgs failed to converge (status=1):\n",
      "STOP: TOTAL NO. of ITERATIONS REACHED LIMIT.\n",
      "\n",
      "Increase the number of iterations (max_iter) or scale the data as shown in:\n",
      "    https://scikit-learn.org/stable/modules/preprocessing.html\n",
      "Please also refer to the documentation for alternative solver options:\n",
      "    https://scikit-learn.org/stable/modules/linear_model.html#logistic-regression\n",
      "  n_iter_i = _check_optimize_result(\n"
     ]
    },
    {
     "data": {
      "image/png": "[encoded data removed]",
      "text/plain": [
       "<Figure size 1080x360 with 1 Axes>"
      ]
     },
     "metadata": {
      "needs_background": "light"
     },
     "output_type": "display_data"
    }
   ],
   "source": [
    "coefs = LogisticRegression(C = grid.best_params_[\"C\"] ).fit(X_train,y_train).coef_\n",
    "feature_names = vect.get_feature_names()\n",
    "\n",
    "# the function is from Text analysis with sklearn.ipynb of week11\n",
    "# helper function to plot top positive and negative coefficients\n",
    "\n",
    "def visualize_coefficients(coefficients, feature_names, n_top_features=25):\n",
    "    \"\"\"Visualize coefficients of a linear model.\n",
    "    Parameters\n",
    "    ----------\n",
    "    coefficients : nd-array, shape (n_features,)\n",
    "        Model coefficients.\n",
    "    feature_names : list or nd-array of strings, shape (n_features,)\n",
    "        Feature names for labeling the coefficients.\n",
    "    n_top_features : int, default=25\n",
    "        How many features to show. The function will show the largest (most\n",
    "        positive) and smallest (most negative)  n_top_features coefficients,\n",
    "        for a total of 2 * n_top_features coefficients.\n",
    "    \"\"\"\n",
    "    coefficients = coefficients.squeeze()\n",
    "    if coefficients.ndim > 1:\n",
    "        # this is not a row or column vector\n",
    "        raise ValueError(\"coeffients must be 1d array or column vector, got\"\n",
    "                         \" shape {}\".format(coefficients.shape))\n",
    "    coefficients = coefficients.ravel()\n",
    "\n",
    "    if len(coefficients) != len(feature_names):\n",
    "        raise ValueError(\"Number of coefficients {} doesn't match number of\"\n",
    "                         \"feature names {}.\".format(len(coefficients),\n",
    "                                                    len(feature_names)))\n",
    "    # get coefficients with large absolute values\n",
    "    coef = coefficients.ravel()\n",
    "    positive_coefficients = np.argsort(coef)[-n_top_features:]\n",
    "    negative_coefficients = np.argsort(coef)[:n_top_features]\n",
    "    interesting_coefficients = np.hstack([negative_coefficients,\n",
    "                                          positive_coefficients])\n",
    "    # plot them\n",
    "    plt.figure(figsize=(15, 5))\n",
    "    colors = ['#ff2020' if c < 0 else '#0000aa'\n",
    "              for c in coef[interesting_coefficients]]\n",
    "    plt.bar(np.arange(2 * n_top_features), coef[interesting_coefficients],\n",
    "            color=colors)\n",
    "    feature_names = np.array(feature_names)\n",
    "    plt.subplots_adjust(bottom=0.3)\n",
    "    plt.xticks(np.arange(1, 1 + 2 * n_top_features),\n",
    "               feature_names[interesting_coefficients], rotation=60,\n",
    "               ha=\"right\")\n",
    "    plt.ylabel(\"Coefficient magnitude\")\n",
    "    plt.xlabel(\"Feature\")\n",
    "\n",
    "visualize_coefficients(coefs, feature_names, n_top_features= 10)"
   ]
  },
  {
   "cell_type": "code",
   "execution_count": 7,
   "id": "d7449344",
   "metadata": {},
   "outputs": [
    {
     "name": "stdout",
     "output_type": "stream",
     "text": [
      "try 2nd: Tree model\n",
      "----------------------------------------\n",
      "Test set score: 0.929\n",
      "CV Test Score: 0.92\n",
      "CV F1 Score: 0.91\n"
     ]
    }
   ],
   "source": [
    "print('try 2nd: Tree model')\n",
    "print('-'*40)\n",
    "from sklearn.tree import DecisionTreeClassifier\n",
    "\n",
    "tree_basic = DecisionTreeClassifier().fit(X_train, y_train)\n",
    "\n",
    "print(\"Test set score: {:.3f}\".format(tree_basic.score(X_test, y_test)))\n",
    "print(\"CV Test Score: {:.2f}\".format(np.mean(cross_val_score(tree_basic, X_test, y_test, cv=10))) )\n",
    "print(\"CV F1 Score: {:.2f}\".format(np.mean(cross_val_score(tree_basic, X_test, y_test, cv=10, scoring = \"f1_weighted\"))) )"
   ]
  },
  {
   "cell_type": "code",
   "execution_count": null,
   "id": "5b900582",
   "metadata": {},
   "outputs": [
    {
     "name": "stdout",
     "output_type": "stream",
     "text": [
      "Use bagging Classifier to refine its predictions\n",
      "----------------------------------------\n"
     ]
    }
   ],
   "source": [
    "print('Use bagging Classifier to refine its predictions')\n",
    "print('-'*40)\n",
    "from sklearn.ensemble import BaggingClassifier\n",
    "\n",
    "tree = DecisionTreeClassifier()\n",
    "tree_bag = BaggingClassifier(tree, n_estimators=50, random_state=1).fit(X_train, y_train)\n",
    "\n",
    "print(\"Test set score: {:.3f}\".format(tree_bag.score(X_test, y_test)))\n",
    "print(\"CV Test Score: {:.2f}\".format(np.mean(cross_val_score(tree_bag, X_test, y_test, cv=10))) )\n",
    "print(\"CV F1 Score: {:.2f}\".format(np.mean(cross_val_score(tree_bag, X_test, y_test, cv=10, scoring = \"f1_weighted\"))) )"
   ]
  },
  {
   "cell_type": "code",
   "execution_count": null,
   "id": "805dfafb",
   "metadata": {},
   "outputs": [],
   "source": [
    "top_ten = np.argsort(-tree_basic.feature_importances_)[:10] #the index of the top 10 most important features\n",
    "key_tree_coef = tree_basic.feature_importances_[top_ten] #the coefficients of the top 10 most important features \n",
    "names = [vect.get_feature_names()[np.argsort(-tree_basic.feature_importances_)[i]] for i in range(0,10)] \n",
    "#the feature names associated with the top 10 features\n",
    "\n",
    "#the plot\n",
    "plt.figure(figsize=(15, 5)) #size\n",
    "plt.bar(np.arange(len(key_tree_coef)), key_tree_coef, color = '#0000aa')\n",
    "plt.subplots_adjust(bottom=0.3)\n",
    "plt.xticks(np.arange(0, len(key_tree_coef)), names, rotation=60,   ha=\"right\")\n",
    "plt.ylabel(\"Feature Importance\")\n",
    "plt.show() "
   ]
  },
  {
   "cell_type": "code",
   "execution_count": null,
   "id": "7516aab9",
   "metadata": {},
   "outputs": [],
   "source": [
    "print('add minimum occurences')\n",
    "vect = CountVectorizer(min_df = 10, stop_words=\"english\").fit(X_text_train)\n",
    "X = vect.transform(X_text_train)\n",
    "X_train, X_test, y_train, y_test = train_test_split(X, y, random_state = 2)\n",
    "\n",
    "print('do it again:')\n",
    "param_grid = {'C': [0.001, 0.01, 0.1, 1, 10]}\n",
    "grid = GridSearchCV(LogisticRegression(), param_grid, cv=5)\n",
    "grid.fit(X_train, y_train)\n",
    "\n",
    "print(\"Best cross-validation score: {:.2f}\".format(grid.best_score_))\n",
    "print(\"Test score: {:.2f}\".format(grid.score(X_test, y_test)))\n",
    "print(\"CV F1 Score: {:.2f}\".format(np.mean(cross_val_score(LogisticRegression(C = grid.best_params_[\"C\"]).fit(X_train, y_train), X_test, y_test, cv=10, scoring = \"f1_weighted\"))) )"
   ]
  },
  {
   "cell_type": "code",
   "execution_count": null,
   "id": "7d83f911",
   "metadata": {},
   "outputs": [],
   "source": [
    "coefs = LogisticRegression(C = grid.best_params_[\"C\"] ).fit(X_train,y_train).coef_\n",
    "feature_names = vect.get_feature_names()\n",
    "visualize_coefficients(coefs, feature_names, n_top_features= 10)"
   ]
  },
  {
   "cell_type": "code",
   "execution_count": null,
   "id": "ae4ea6f4",
   "metadata": {},
   "outputs": [],
   "source": [
    "print('delete stop words')\n",
    "vect = CountVectorizer(min_df = 10, stop_words=\"english\").fit(X_text_train)\n",
    "X = vect.transform(X_text_train)\n",
    "X_train, X_test, y_train, y_test = train_test_split(X, y, random_state= 2)\n",
    "print('do it again 2:')\n",
    "param_grid = {'C': [0.001, 0.01, 0.1, 1, 10]}\n",
    "grid = GridSearchCV(LogisticRegression(), param_grid, cv=5)\n",
    "grid.fit(X_train, y_train)\n",
    "log_restr = LogisticRegression(C = grid.best_params_[\"C\"]).fit(X_train, y_train)\n",
    "\n",
    "print(\"Best cross-validation score: {:.2f}\".format(grid.best_score_))\n",
    "print(\"Test score: {:.2f}\".format(grid.score(X_test, y_test)))\n",
    "print(\"CV F1 Score: {:.2f}\".format(np.mean(cross_val_score(log_restr, X_test, y_test, cv=10, scoring = \"f1_weighted\"))) )"
   ]
  },
  {
   "cell_type": "code",
   "execution_count": null,
   "id": "b9549765",
   "metadata": {},
   "outputs": [],
   "source": [
    "coefs = LogisticRegression(C = grid.best_params_[\"C\"] ).fit(X_train,y_train).coef_\n",
    "feature_names = vect.get_feature_names()\n",
    "visualize_coefficients(coefs, feature_names, n_top_features= 10)"
   ]
  },
  {
   "cell_type": "code",
   "execution_count": null,
   "id": "d51be309",
   "metadata": {},
   "outputs": [],
   "source": [
    "print('rescaling')\n",
    "vect = TfidfVectorizer(min_df = 10, norm = None).fit(X_text_train)\n",
    "X = vect.transform(X_text_train)\n",
    "\n",
    "X_train, X_test, y_train, y_test = train_test_split(X, y, random_state = 2)\n",
    "\n",
    "param_grid = {'C': [0.001, 0.01, 0.1, 1, 10]}\n",
    "grid = GridSearchCV(LogisticRegression(), param_grid, cv=5)\n",
    "grid.fit(X_train, y_train)\n",
    "log_restr = LogisticRegression(C = grid.best_params_[\"C\"]).fit(X_train, y_train)\n",
    "\n",
    "print(\"Best cross-validation score: {:.2f}\".format(grid.best_score_))\n",
    "print(\"Test score: {:.2f}\".format(grid.score(X_test, y_test)))\n",
    "print(\"CV F1 Score: {:.2f}\".format(np.mean(cross_val_score(log_restr, X_test, y_test, cv=10, scoring = \"f1_weighted\"))) )"
   ]
  },
  {
   "cell_type": "code",
   "execution_count": null,
   "id": "da0e6c8b",
   "metadata": {},
   "outputs": [],
   "source": [
    "coefs = LogisticRegression(C = grid.best_params_[\"C\"] ).fit(X_train,y_train).coef_\n",
    "feature_names = vect.get_feature_names()\n",
    "visualize_coefficients(coefs, feature_names, n_top_features= 10)"
   ]
  },
  {
   "cell_type": "code",
   "execution_count": null,
   "id": "48270b05",
   "metadata": {},
   "outputs": [],
   "source": [
    "print('using test dataset')\n",
    "X_true_test = vect.transform(np.array(data[\"headline\"])) \n",
    "Y_true_test = np.array(data[\"clickbait\"])\n",
    "\n",
    "grid.fit(X_train, y_train)\n",
    "log_restr = LogisticRegression(C = grid.best_params_[\"C\"]).fit(X_train, y_train)\n",
    "\n",
    "\n",
    "print(\"Best cross-validation score: {:.2f}\".format(grid.best_score_))\n",
    "print(\"Test score: {:.2f}\".format(grid.score(X_test, y_test)))\n",
    "print(\"CV F1 Score: {:.2f}\".format(np.mean(cross_val_score(log_restr, X_test, y_test, cv=10, scoring = \"f1_weighted\"))) )\n"
   ]
  },
  {
   "cell_type": "code",
   "execution_count": null,
   "id": "0422d8ee",
   "metadata": {},
   "outputs": [],
   "source": [
    "print('-'*40, 'partII keras with iris', '-'*40)\n",
    "import keras\n",
    "from keras.models import Sequential\n",
    "from keras.layers import Dense, Activation\n",
    "from keras.wrappers.scikit_learn import KerasClassifier\n",
    "from tensorflow.keras.optimizers import SGD\n",
    "\n",
    "from sklearn.preprocessing import LabelEncoder\n",
    "np.random.seed(3) \n",
    "\n",
    "data = pd.read_csv(\"data/iris.csv\" , encoding=\"latin_1\")\n",
    "data = data.iloc[:, 1:]\n",
    "data.head(5)\n"
   ]
  },
  {
   "cell_type": "code",
   "execution_count": null,
   "id": "bc0ee32b",
   "metadata": {},
   "outputs": [],
   "source": [
    "y = LabelEncoder().fit_transform(data['Species'])\n",
    "X = data.loc[:, data.columns != 'Species'] \n",
    "X_train, X_test, y_train, y_test = train_test_split(X, y, random_state= 2)\n"
   ]
  },
  {
   "cell_type": "code",
   "execution_count": null,
   "id": "5173f664",
   "metadata": {},
   "outputs": [],
   "source": [
    "def model_init(neurons1 = 20, neurons2 = 8): \n",
    "    model = Sequential()\n",
    "    model.add(Dense(neurons1, input_dim = X_train.shape[1], activation='relu'))\n",
    "    model.add(Dense(neurons2, activation='relu'))\n",
    "    model.add(Dense(1, activation='sigmoid'))\n",
    "    \n",
    "    model.compile(loss='binary_crossentropy', optimizer='sgd', metrics=['accuracy'])\n",
    "    return model\n",
    "\n",
    "model = KerasClassifier(build_fn = model_init, epochs=200, verbose=0)\n",
    "\n",
    "param_grid = dict(neurons1 = range(1, 50, 8), neurons2 = range(1, 50, 8)) #grid search\n",
    "grid = GridSearchCV(estimator = model, param_grid = param_grid) \n",
    "grid_result = grid.fit(X_train, y_train)\n",
    "\n",
    "print(\"Best: %f using %s\" % (grid_result.best_score_, grid_result.best_params_))\n"
   ]
  },
  {
   "cell_type": "code",
   "execution_count": null,
   "id": "eb57cb2e",
   "metadata": {},
   "outputs": [],
   "source": [
    "model = Sequential()\n",
    "model.add(Dense(grid.best_params_[\"neurons1\"], input_dim = X_test.shape[1], activation='relu'))\n",
    "model.add(Dense(grid.best_params_[\"neurons2\"], activation='relu'))\n",
    "model.add(Dense(1, activation='sigmoid'))\n",
    "model.compile(loss='binary_crossentropy', optimizer='sgd', metrics=['accuracy'])\n",
    "model.evaluate(X_test, y_test, batch_size=256)"
   ]
  },
  {
   "cell_type": "code",
   "execution_count": null,
   "id": "5c0c5f48",
   "metadata": {},
   "outputs": [],
   "source": []
  },
  {
   "cell_type": "code",
   "execution_count": null,
   "id": "012e0b05",
   "metadata": {},
   "outputs": [],
   "source": []
  },
  {
   "cell_type": "code",
   "execution_count": null,
   "id": "33c03801",
   "metadata": {},
   "outputs": [],
   "source": []
  }
 ],
 "metadata": {
  "kernelspec": {
   "display_name": "Python 3 (ipykernel)",
   "language": "python",
   "name": "python3"
  },
  "language_info": {
   "codemirror_mode": {
    "name": "ipython",
    "version": 3
   },
   "file_extension": ".py",
   "mimetype": "text/x-python",
   "name": "python",
   "nbconvert_exporter": "python",
   "pygments_lexer": "ipython3",
   "version": "3.8.11"
  }
 },
 "nbformat": 4,
 "nbformat_minor": 5
}
