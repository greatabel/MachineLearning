{
 "cells": [
  {
   "cell_type": "markdown",
   "metadata": {
    "_uuid": "0dbbf856ba02bf28683951344311141c8ddb3841"
   },
   "source": [
    "# Introduction\n",
    "我们希望通过深度学习进行情感预测，尝试超越传统机器学习算法的情感分析表现。\n",
    "\n",
    "我们主要探索下列方面：\n",
    "*使用适应深度学习模型\n",
    "*识别并处理过度拟合\n",
    "*使用单词嵌入\n",
    "*建立在预先训练的模型上\n",
    "\n"
   ]
  },
  {
   "cell_type": "markdown",
   "metadata": {
    "_uuid": "0f61e8a86efa85dbf7e7f77719b6547351b950c1"
   },
   "source": [
    "# Set-up of the project\n",
    "We'll start by importing some packages."
   ]
  },
  {
   "cell_type": "code",
   "execution_count": 1,
   "metadata": {
    "_cell_guid": "21cee267-f257-4ba3-88e1-d22e2fc57c7e",
    "_uuid": "2fec7805d8d0e999fc405d136beff46ac331b963"
   },
   "outputs": [],
   "source": [
    "# Basic packages\n",
    "import pandas as pd \n",
    "import numpy as np\n",
    "import re\n",
    "import collections\n",
    "import matplotlib.pyplot as plt\n",
    "\n",
    "# Packages for data preparation\n",
    "from sklearn.model_selection import train_test_split\n",
    "from nltk.corpus import stopwords\n",
    "from keras.preprocessing.text import Tokenizer\n",
    "from keras.utils.np_utils import to_categorical\n",
    "from sklearn.preprocessing import LabelEncoder\n",
    "\n",
    "# Packages for modeling\n",
    "from tensorflow.keras import models\n",
    "from tensorflow.keras import layers\n",
    "from tensorflow.keras import regularizers\n",
    "# from keras import models\n",
    "# from keras import layers\n",
    "# from keras import regularizers\n",
    "import pickle\n",
    "from keras.utils.vis_utils import plot_model\n"
   ]
  },
  {
   "cell_type": "markdown",
   "metadata": {
    "_uuid": "5c8c473a857b9fd044c11bb332c351df0a2dd9fe"
   },
   "source": [
    "Then we set some parameters that will be used throughout the notebook."
   ]
  },
  {
   "cell_type": "code",
   "execution_count": 2,
   "metadata": {
    "_uuid": "992184fc16ab7ce9917146d08581772c2349337d"
   },
   "outputs": [],
   "source": [
    "NB_WORDS = 10000  # Parameter indicating the number of words we'll put in the dictionary\n",
    "VAL_SIZE = 1000  # Size of the validation set\n",
    "NB_START_EPOCHS = 20  # Number of epochs we usually start to train with\n",
    "BATCH_SIZE = 512  # Size of the batches used in the mini-batch gradient descent"
   ]
  },
  {
   "cell_type": "markdown",
   "metadata": {
    "_uuid": "66b54d1ea619e1067f1d39824b103bd060369885"
   },
   "source": [
    "We read in the csv with the tweets data and perform a random shuffle. It's a good practice to shuffle the data before splitting between a train and test set. That way the sentiment classes are equally distributed over the train and test sets.\n",
    "\n",
    "We'll only keep the *text* column as input and the *airline_sentiment* column as the target. "
   ]
  },
  {
   "cell_type": "code",
   "execution_count": 3,
   "metadata": {
    "_uuid": "ca3edd68b979a54e032b5eaa62d0ea1dc5caff66"
   },
   "outputs": [
    {
     "data": {
      "text/html": [
       "<div>\n",
       "<style scoped>\n",
       "    .dataframe tbody tr th:only-of-type {\n",
       "        vertical-align: middle;\n",
       "    }\n",
       "\n",
       "    .dataframe tbody tr th {\n",
       "        vertical-align: top;\n",
       "    }\n",
       "\n",
       "    .dataframe thead th {\n",
       "        text-align: right;\n",
       "    }\n",
       "</style>\n",
       "<table border=\"1\" class=\"dataframe\">\n",
       "  <thead>\n",
       "    <tr style=\"text-align: right;\">\n",
       "      <th></th>\n",
       "      <th>text</th>\n",
       "      <th>airline_sentiment</th>\n",
       "    </tr>\n",
       "  </thead>\n",
       "  <tbody>\n",
       "    <tr>\n",
       "      <th>11423</th>\n",
       "      <td>@USAirways a $100 @Samsonite - totaled. Not ha...</td>\n",
       "      <td>negative</td>\n",
       "    </tr>\n",
       "    <tr>\n",
       "      <th>8350</th>\n",
       "      <td>@JetBlue yes he and all the princesses. Trying...</td>\n",
       "      <td>neutral</td>\n",
       "    </tr>\n",
       "    <tr>\n",
       "      <th>3763</th>\n",
       "      <td>@united now you've lost my bags too.  At least...</td>\n",
       "      <td>negative</td>\n",
       "    </tr>\n",
       "    <tr>\n",
       "      <th>3960</th>\n",
       "      <td>@united still haven't received a response. Ple...</td>\n",
       "      <td>negative</td>\n",
       "    </tr>\n",
       "    <tr>\n",
       "      <th>7293</th>\n",
       "      <td>@JetBlue thank you!</td>\n",
       "      <td>positive</td>\n",
       "    </tr>\n",
       "  </tbody>\n",
       "</table>\n",
       "</div>"
      ],
      "text/plain": [
       "                                                    text airline_sentiment\n",
       "11423  @USAirways a $100 @Samsonite - totaled. Not ha...          negative\n",
       "8350   @JetBlue yes he and all the princesses. Trying...           neutral\n",
       "3763   @united now you've lost my bags too.  At least...          negative\n",
       "3960   @united still haven't received a response. Ple...          negative\n",
       "7293                                 @JetBlue thank you!          positive"
      ]
     },
     "execution_count": 3,
     "metadata": {},
     "output_type": "execute_result"
    }
   ],
   "source": [
    "df = pd.read_csv('data/Tweets.csv')\n",
    "df = df.reindex(np.random.permutation(df.index))  \n",
    "df = df[['text', 'airline_sentiment']]\n",
    "df.head()"
   ]
  },
  {
   "cell_type": "markdown",
   "metadata": {
    "_uuid": "d04f62e6a9c95c9d8e05b33b1033798d41bd0ab3"
   },
   "source": [
    "# Data preparation"
   ]
  },
  {
   "cell_type": "markdown",
   "metadata": {
    "_uuid": "2b753fcb54745450486fa917de3983ae27a62908"
   },
   "source": [
    "### Data cleaning\n",
    "The first thing we'll do is removing stopwords. These words do not have any value for predicting the sentiment. Furthermore, as we want to build a model that can be used for other airline companies as well, we remove the mentions."
   ]
  },
  {
   "cell_type": "code",
   "execution_count": 4,
   "metadata": {
    "_uuid": "c1210dcf7d75e9cfd96d0ca489c7b9136aad21db"
   },
   "outputs": [
    {
     "data": {
      "text/html": [
       "<div>\n",
       "<style scoped>\n",
       "    .dataframe tbody tr th:only-of-type {\n",
       "        vertical-align: middle;\n",
       "    }\n",
       "\n",
       "    .dataframe tbody tr th {\n",
       "        vertical-align: top;\n",
       "    }\n",
       "\n",
       "    .dataframe thead th {\n",
       "        text-align: right;\n",
       "    }\n",
       "</style>\n",
       "<table border=\"1\" class=\"dataframe\">\n",
       "  <thead>\n",
       "    <tr style=\"text-align: right;\">\n",
       "      <th></th>\n",
       "      <th>text</th>\n",
       "      <th>airline_sentiment</th>\n",
       "    </tr>\n",
       "  </thead>\n",
       "  <tbody>\n",
       "    <tr>\n",
       "      <th>11423</th>\n",
       "      <td>$100  totaled. Not happy. Not all.</td>\n",
       "      <td>negative</td>\n",
       "    </tr>\n",
       "    <tr>\n",
       "      <th>8350</th>\n",
       "      <td>yes princesses. Trying get #glassslipperchall...</td>\n",
       "      <td>neutral</td>\n",
       "    </tr>\n",
       "    <tr>\n",
       "      <th>3763</th>\n",
       "      <td>lost bags too. At least nobody done anything ...</td>\n",
       "      <td>negative</td>\n",
       "    </tr>\n",
       "    <tr>\n",
       "      <th>3960</th>\n",
       "      <td>still received response. Please direct messag...</td>\n",
       "      <td>negative</td>\n",
       "    </tr>\n",
       "    <tr>\n",
       "      <th>7293</th>\n",
       "      <td>thank you!</td>\n",
       "      <td>positive</td>\n",
       "    </tr>\n",
       "  </tbody>\n",
       "</table>\n",
       "</div>"
      ],
      "text/plain": [
       "                                                    text airline_sentiment\n",
       "11423                 $100  totaled. Not happy. Not all.          negative\n",
       "8350    yes princesses. Trying get #glassslipperchall...           neutral\n",
       "3763    lost bags too. At least nobody done anything ...          negative\n",
       "3960    still received response. Please direct messag...          negative\n",
       "7293                                          thank you!          positive"
      ]
     },
     "execution_count": 4,
     "metadata": {},
     "output_type": "execute_result"
    }
   ],
   "source": [
    "def remove_stopwords(input_text):\n",
    "        stopwords_list = stopwords.words('english')\n",
    "        # Some words which might indicate a certain sentiment are kept via a whitelist\n",
    "        whitelist = [\"n't\", \"not\", \"no\"]\n",
    "        words = input_text.split() \n",
    "        clean_words = [word for word in words if (word not in stopwords_list or word in whitelist) and len(word) > 1] \n",
    "        return \" \".join(clean_words) \n",
    "    \n",
    "def remove_mentions(input_text):\n",
    "        return re.sub(r'@\\w+', '', input_text)\n",
    "       \n",
    "df.text = df.text.apply(remove_stopwords).apply(remove_mentions)\n",
    "df.head()"
   ]
  },
  {
   "cell_type": "markdown",
   "metadata": {
    "_uuid": "d2ea26c0cc56f3d456f6e06df7d66e91d6476e16"
   },
   "source": [
    "### Train-Test split\n",
    "The evaluation of the model performance needs to be done on a separate test set. As such, we can estimate how well the model generalizes. This is done with the *train_test_split* method of scikit-learn."
   ]
  },
  {
   "cell_type": "code",
   "execution_count": 5,
   "metadata": {
    "_cell_guid": "df742ade-52d3-4b47-80b0-1f7cc26545eb",
    "_uuid": "6ab9296159749e4525244fae6d6f4e6a37121c93"
   },
   "outputs": [
    {
     "name": "stdout",
     "output_type": "stream",
     "text": [
      "# Train data samples: 11712\n",
      "# Test data samples: 2928\n"
     ]
    }
   ],
   "source": [
    "X_train, X_test, y_train, y_test = train_test_split(df.text, df.airline_sentiment, test_size=0.2, random_state=37)\n",
    "print('# Train data samples:', X_train.shape[0])\n",
    "print('# Test data samples:', X_test.shape[0])\n",
    "assert X_train.shape[0] == y_train.shape[0]\n",
    "assert X_test.shape[0] == y_test.shape[0]"
   ]
  },
  {
   "cell_type": "markdown",
   "metadata": {
    "_uuid": "07e3df8462df02ae8336a1b9123f928b8cce814d"
   },
   "source": [
    "### Converting words to numbers\n",
    "To use the text as input for a model, we first need to convert the tweet's words into tokens, which simply means converting the words to integers that refer to an index in a dictionary. Here we will only keep the most frequent words in the train set.\n",
    "\n",
    "We clean up the text by applying *filters* and putting the words to *lowercase*. Words are separated by spaces."
   ]
  },
  {
   "cell_type": "code",
   "execution_count": 6,
   "metadata": {
    "_uuid": "6cbf76b09ac27e67f7e92eb0986a963db00ddcd6"
   },
   "outputs": [
    {
     "name": "stdout",
     "output_type": "stream",
     "text": [
      "Fitted tokenizer on 11712 documents\n",
      "10000 words in dictionary\n",
      "Top 5 most common words are: [('flight', 3166), ('not', 1281), ('no', 1226), ('get', 1068), ('t', 981)]\n"
     ]
    }
   ],
   "source": [
    "tk = Tokenizer(num_words=NB_WORDS,\n",
    "               filters='!\"#$%&()*+,-./:;<=>?@[\\\\]^_`{|}~\\t\\n',\n",
    "               lower=True,\n",
    "               split=\" \")\n",
    "tk.fit_on_texts(X_train)\n",
    "\n",
    "print('Fitted tokenizer on {} documents'.format(tk.document_count))\n",
    "print('{} words in dictionary'.format(tk.num_words))\n",
    "print('Top 5 most common words are:', collections.Counter(tk.word_counts).most_common(5))"
   ]
  },
  {
   "cell_type": "markdown",
   "metadata": {
    "_uuid": "a1bf813b1277821e18b257f207dfc8642ce5ad95"
   },
   "source": [
    "After having created the dictionary we can convert the text to a list of integer indexes. This is done with the *text_to_sequences* method of the Tokenizer."
   ]
  },
  {
   "cell_type": "code",
   "execution_count": 7,
   "metadata": {
    "_uuid": "28435e6639f4dac6d9bdc9df65b1dd4651b15617"
   },
   "outputs": [],
   "source": [
    "X_train_seq = tk.texts_to_sequences(X_train)\n",
    "X_test_seq = tk.texts_to_sequences(X_test)\n",
    "# print('X_train_seq', X_train_seq[0])\n",
    "# print('X_train',X_train[0], '#'*10, X_train[1],'@'*10, X_train[2])\n",
    "# print('\"{}\" is converted into {}'.format(X_train[0], X_train_seq[0]))"
   ]
  },
  {
   "cell_type": "markdown",
   "metadata": {
    "_uuid": "0a6dbe6901ac0d7ce46797bd8d0d5c9722436c0b"
   },
   "source": [
    "These integers should now be converted into a one-hot encoded features."
   ]
  },
  {
   "cell_type": "code",
   "execution_count": 8,
   "metadata": {
    "_uuid": "cd91541a0f3c027dca3429af497379fd86a7079b"
   },
   "outputs": [
    {
     "name": "stdout",
     "output_type": "stream",
     "text": [
      "\"[131, 189, 5667, 47, 15, 430, 28, 101, 176, 528, 131, 17, 189, 3207, 164]\" is converted into [0. 0. 0. ... 0. 0. 0.]\n",
      "For this example we have 13.0 features with a value of 1.\n"
     ]
    }
   ],
   "source": [
    "def one_hot_seq(seqs, nb_features = NB_WORDS):\n",
    "    ohs = np.zeros((len(seqs), nb_features))\n",
    "    for i, s in enumerate(seqs):\n",
    "        ohs[i, s] = 1.\n",
    "    return ohs\n",
    "\n",
    "X_train_oh = one_hot_seq(X_train_seq)\n",
    "X_test_oh = one_hot_seq(X_test_seq)\n",
    "\n",
    "print('\"{}\" is converted into {}'.format(X_train_seq[0], X_train_oh[0]))\n",
    "print('For this example we have {} features with a value of 1.'.format(X_train_oh[0].sum()))"
   ]
  },
  {
   "cell_type": "markdown",
   "metadata": {
    "_uuid": "0c35698c39d06b89151918b77c70791aac3fa63f"
   },
   "source": [
    "### Converting the target classes to numbers\n",
    "We need to convert the target classes to numbers as well, which in turn are one-hot-encoded with the *to_categorical* method in keras"
   ]
  },
  {
   "cell_type": "code",
   "execution_count": 19,
   "metadata": {
    "_uuid": "f64570f56244464eaf88805a8c41b46f76db4668"
   },
   "outputs": [
    {
     "name": "stdout",
     "output_type": "stream",
     "text": [
      "\"negative\" is converted into 0\n",
      "\"0\" is converted into [1. 0. 0.]\n",
      "\"negative\" is converted into 0\n",
      "\"0\" is converted into [1. 0. 0.]\n",
      "\"neutral\" is converted into 1\n",
      "\"1\" is converted into [0. 1. 0.]\n",
      "\"negative\" is converted into 0\n",
      "\"0\" is converted into [1. 0. 0.]\n",
      "\"negative\" is converted into 0\n",
      "\"0\" is converted into [1. 0. 0.]\n",
      "\"negative\" is converted into 0\n",
      "\"0\" is converted into [1. 0. 0.]\n",
      "\"negative\" is converted into 0\n",
      "\"0\" is converted into [1. 0. 0.]\n",
      "\"positive\" is converted into 2\n",
      "\"2\" is converted into [0. 0. 1.]\n",
      "\"neutral\" is converted into 1\n",
      "\"1\" is converted into [0. 1. 0.]\n",
      "\"negative\" is converted into 0\n",
      "\"0\" is converted into [1. 0. 0.]\n"
     ]
    }
   ],
   "source": [
    "le = LabelEncoder()\n",
    "y_train_le = le.fit_transform(y_train)\n",
    "y_test_le = le.transform(y_test)\n",
    "y_train_oh = to_categorical(y_train_le)\n",
    "y_test_oh = to_categorical(y_test_le)\n",
    "\n",
    "# print(y_train.shape, type(y_train))\n",
    "# print(y_train)\n",
    "\n",
    "myindex = 0\n",
    "for i in range(0,10):\n",
    "    myindex = i\n",
    "    print('\"{}\" is converted into {}'.format(y_train.iloc[myindex], y_train_le[myindex]))\n",
    "    print('\"{}\" is converted into {}'.format(y_train_le[myindex], y_train_oh[myindex]))\n",
    "\n",
    "\n",
    "# print('\"{}\" is converted into {}'.format(y_train[0], y_train_le[0]))\n",
    "# print('\"{}\" is converted into {}'.format(y_train_le[0], y_train_oh[0]))"
   ]
  },
  {
   "cell_type": "markdown",
   "metadata": {
    "_uuid": "73b4fe31f03a45fff85e75b72141029416050d08"
   },
   "source": [
    "### Splitting of a validation set\n",
    "Now that our data is ready, we split of a validation set. This validation set will be used to evaluate the model performance when we tune the parameters of the model. "
   ]
  },
  {
   "cell_type": "code",
   "execution_count": 20,
   "metadata": {
    "_uuid": "e4b7683309d5501c80d9e4e7335a76e58e8999f0"
   },
   "outputs": [
    {
     "name": "stdout",
     "output_type": "stream",
     "text": [
      "Shape of validation set: (1172, 10000)\n"
     ]
    }
   ],
   "source": [
    "X_train_rest, X_valid, y_train_rest, y_valid = train_test_split(X_train_oh, y_train_oh, test_size=0.1, random_state=37)\n",
    "\n",
    "assert X_valid.shape[0] == y_valid.shape[0]\n",
    "assert X_train_rest.shape[0] == y_train_rest.shape[0]\n",
    "\n",
    "print('Shape of validation set:',X_valid.shape)"
   ]
  },
  {
   "cell_type": "markdown",
   "metadata": {
    "_uuid": "8a52314ce6c1d0de5c3765ff5781b64c32c8871c"
   },
   "source": [
    "# Deep learning"
   ]
  },
  {
   "cell_type": "markdown",
   "metadata": {
    "_uuid": "3e7e167507953da952e50257aae77f36ec28e6cc"
   },
   "source": [
    "### Baseline model\n",
    "We start with a model with 2 densely connected layers of 64 hidden elements. The *input_shape* for the first layer is equal to the number of words we allowed in the dictionary and for which we created one-hot-encoded features.\n",
    "\n",
    "As we need to predict 3 different sentiment classes, the last layer has 3 hidden elements. The *softmax* activation function makes sure the three probabilities sum up to 1.\n",
    "\n",
    "In the first layer we need to estimate 640064 weights. This is determined by (nb inputs * nb hidden elements) + nb bias terms, or (10000 x 64) + 64 = 640064<br>\n",
    "In the second layer we estimate (64 x 64) + 64 = 4160 weights<br>\n",
    "In the last layer we estimate (64 x 3) + 3 = 195 weights<br>"
   ]
  },
  {
   "cell_type": "code",
   "execution_count": 21,
   "metadata": {
    "_uuid": "343bddd22935a60332161c6ae70ba20d2e8087ed"
   },
   "outputs": [
    {
     "name": "stdout",
     "output_type": "stream",
     "text": [
      "Metal device set to: Apple M1 Max\n",
      "Model: \"sequential\"\n",
      "_________________________________________________________________\n",
      " Layer (type)                Output Shape              Param #   \n",
      "=================================================================\n",
      " dense (Dense)               (None, 64)                640064    \n",
      "                                                                 \n",
      " dense_1 (Dense)             (None, 64)                4160      \n",
      "                                                                 \n",
      " dense_2 (Dense)             (None, 3)                 195       \n",
      "                                                                 \n",
      "=================================================================\n",
      "Total params: 644,419\n",
      "Trainable params: 644,419\n",
      "Non-trainable params: 0\n",
      "_________________________________________________________________\n"
     ]
    },
    {
     "name": "stderr",
     "output_type": "stream",
     "text": [
      "2022-09-07 23:20:45.421509: I tensorflow/core/common_runtime/pluggable_device/pluggable_device_factory.cc:305] Could not identify NUMA node of platform GPU ID 0, defaulting to 0. Your kernel may not have been built with NUMA support.\n",
      "2022-09-07 23:20:45.421986: I tensorflow/core/common_runtime/pluggable_device/pluggable_device_factory.cc:271] Created TensorFlow device (/job:localhost/replica:0/task:0/device:GPU:0 with 0 MB memory) -> physical PluggableDevice (device: 0, name: METAL, pci bus id: <undefined>)\n"
     ]
    }
   ],
   "source": [
    "base_model = models.Sequential()\n",
    "base_model.add(layers.Dense(64, activation='relu', input_shape=(NB_WORDS,)))\n",
    "base_model.add(layers.Dense(64, activation='relu'))\n",
    "base_model.add(layers.Dense(3, activation='softmax'))\n",
    "base_model.summary()"
   ]
  },
  {
   "cell_type": "markdown",
   "metadata": {
    "_uuid": "2ec3b5ac6911389154d370037d853c257cc7c5fc"
   },
   "source": [
    "Because this project is a multi-class, single-label prediction, we use *categorical_crossentropy* as the loss function and *softmax* as the final activation function. We fit the model on the remaining train data and validate on the validation set. We run for a predetermined number of epochs and will see when the model starts to overfit."
   ]
  },
  {
   "cell_type": "code",
   "execution_count": 22,
   "metadata": {
    "_uuid": "1be72007bccc687064f789f9564354329d32e102"
   },
   "outputs": [],
   "source": [
    "def deep_model(model):\n",
    "    model.compile(optimizer='rmsprop'\n",
    "                  , loss='categorical_crossentropy'\n",
    "                  , metrics=['accuracy'])\n",
    "    \n",
    "    history = model.fit(X_train_rest\n",
    "                       , y_train_rest\n",
    "                       , epochs=NB_START_EPOCHS\n",
    "                       , batch_size=BATCH_SIZE\n",
    "                       , validation_data=(X_valid, y_valid)\n",
    "                       , verbose=0)\n",
    "    \n",
    "    return history"
   ]
  },
  {
   "cell_type": "code",
   "execution_count": 23,
   "metadata": {
    "_uuid": "c3ab89d1291d07550f403f8144af5b739821b6b6"
   },
   "outputs": [
    {
     "name": "stderr",
     "output_type": "stream",
     "text": [
      "2022-09-07 23:20:46.236033: W tensorflow/core/platform/profile_utils/cpu_utils.cc:128] Failed to get CPU frequency: 0 Hz\n",
      "2022-09-07 23:20:46.365192: I tensorflow/core/grappler/optimizers/custom_graph_optimizer_registry.cc:113] Plugin optimizer for device_type GPU is enabled.\n",
      "2022-09-07 23:20:46.784710: I tensorflow/core/grappler/optimizers/custom_graph_optimizer_registry.cc:113] Plugin optimizer for device_type GPU is enabled.\n"
     ]
    }
   ],
   "source": [
    "base_history = deep_model(base_model)"
   ]
  },
  {
   "cell_type": "markdown",
   "metadata": {
    "_uuid": "df985523b02871ef30b4fa17a629b54fd090cb4d"
   },
   "source": [
    "To evaluate the model performance, we will look at the training and validation loss and accuracy."
   ]
  },
  {
   "cell_type": "code",
   "execution_count": 24,
   "metadata": {
    "_uuid": "fe4399bd073104da7e8e1bf8b99f5ef8e57e93fa"
   },
   "outputs": [],
   "source": [
    "def eval_metric(history, metric_name):\n",
    "    metric = history.history[metric_name]\n",
    "    val_metric = history.history['val_' + metric_name]\n",
    "\n",
    "    e = range(1, NB_START_EPOCHS + 1)\n",
    "\n",
    "    plt.plot(e, metric, 'bo', label='Train ' + metric_name)\n",
    "    plt.plot(e, val_metric, 'b', label='Validation ' + metric_name)\n",
    "    plt.legend()\n",
    "    plt.show()"
   ]
  },
  {
   "cell_type": "markdown",
   "metadata": {
    "_uuid": "3de1b2cf553848d8472ebca9d8156ec98eb231b2"
   },
   "source": [
    "We can see here that the validation loss starts to increase as from epoch 4. The training loss continues to lower, which is normal as the model is trained to fit the train data as good as possible."
   ]
  },
  {
   "cell_type": "code",
   "execution_count": 25,
   "metadata": {
    "_uuid": "a8d0194eb405add560e62a66078e6145f12c2f36"
   },
   "outputs": [
    {
     "data": {
      "image/png": "[encoded data removed]",
      "text/plain": [
       "<Figure size 432x288 with 1 Axes>"
      ]
     },
     "metadata": {
      "needs_background": "light"
     },
     "output_type": "display_data"
    }
   ],
   "source": [
    "eval_metric(base_history, 'loss')"
   ]
  },
  {
   "cell_type": "markdown",
   "metadata": {
    "_uuid": "b60582a3e6056ed34e980af793720fa9b5fb4906"
   },
   "source": [
    "Just as with the validation loss, the validation accuracy peaks at an early epoch. After that, it goes down slightly. So to conclude, we can say that the model starts overfitting as from epoch 4. "
   ]
  },
  {
   "cell_type": "code",
   "execution_count": 26,
   "metadata": {
    "_uuid": "150d375ca2a2642eec9199d5512fec19da13376d"
   },
   "outputs": [
    {
     "data": {
      "image/png": "[encoded data removed]",
      "text/plain": [
       "<Figure size 432x288 with 1 Axes>"
      ]
     },
     "metadata": {
      "needs_background": "light"
     },
     "output_type": "display_data"
    }
   ],
   "source": [
    "eval_metric(base_history, 'accuracy')"
   ]
  },
  {
   "cell_type": "markdown",
   "metadata": {
    "_uuid": "0cc919808080166a9045d241e991f9a521e8abc8"
   },
   "source": [
    "### Handling overfitting\n",
    "Now, we can try to do something about the overfitting. There are different options to do that.\n",
    "* Option 1: reduce the network's size by removing layers or reducing the number of hidden elements in the layers\n",
    "* Option 2: add regularization, which comes down to adding a cost to the loss function for large weights\n",
    "* Option 3: adding dropout layers, which will randomly remove certain features by setting them to zero"
   ]
  },
  {
   "cell_type": "markdown",
   "metadata": {
    "_uuid": "6768d95a28ff456f33546660512f3ffb398a94d9"
   },
   "source": [
    "#### Reducing the network's size\n",
    "We reduce the network's size by removing one layer and lowering the number of hidden elements in the remaining layer to 32."
   ]
  },
  {
   "cell_type": "code",
   "execution_count": 27,
   "metadata": {
    "_uuid": "268a0b46d93dae85e0b536a69a3efdf6eaea402b"
   },
   "outputs": [
    {
     "name": "stdout",
     "output_type": "stream",
     "text": [
      "Model: \"sequential_1\"\n",
      "_________________________________________________________________\n",
      " Layer (type)                Output Shape              Param #   \n",
      "=================================================================\n",
      " dense_3 (Dense)             (None, 32)                320032    \n",
      "                                                                 \n",
      " dense_4 (Dense)             (None, 3)                 99        \n",
      "                                                                 \n",
      "=================================================================\n",
      "Total params: 320,131\n",
      "Trainable params: 320,131\n",
      "Non-trainable params: 0\n",
      "_________________________________________________________________\n"
     ]
    }
   ],
   "source": [
    "reduced_model = models.Sequential()\n",
    "reduced_model.add(layers.Dense(32, activation='relu', input_shape=(NB_WORDS,)))\n",
    "reduced_model.add(layers.Dense(3, activation='softmax'))\n",
    "reduced_model.summary()"
   ]
  },
  {
   "cell_type": "code",
   "execution_count": 28,
   "metadata": {
    "_uuid": "88dd2db6557cb7868db3a0f2caef8b45329c5fbb"
   },
   "outputs": [
    {
     "name": "stderr",
     "output_type": "stream",
     "text": [
      "2022-09-07 23:20:51.127952: I tensorflow/core/grappler/optimizers/custom_graph_optimizer_registry.cc:113] Plugin optimizer for device_type GPU is enabled.\n",
      "2022-09-07 23:20:51.453668: I tensorflow/core/grappler/optimizers/custom_graph_optimizer_registry.cc:113] Plugin optimizer for device_type GPU is enabled.\n"
     ]
    }
   ],
   "source": [
    "reduced_history = deep_model(reduced_model)"
   ]
  },
  {
   "cell_type": "code",
   "execution_count": 29,
   "metadata": {
    "_uuid": "f7f430579f147e22312a6708d910ecdf67fbaf15"
   },
   "outputs": [],
   "source": [
    "def compare_loss_with_baseline(h, model_name):\n",
    "    loss_base_model = base_history.history['val_loss']\n",
    "    loss_model = h.history['val_loss']\n",
    "\n",
    "    e = range(1, NB_START_EPOCHS + 1)\n",
    "\n",
    "    plt.plot(e, loss_base_model, 'bo', label='Validation Loss Baseline Model')\n",
    "    plt.plot(e, loss_model, 'b', label='Validation Loss ' + model_name)\n",
    "    plt.legend()\n",
    "    plt.show()"
   ]
  },
  {
   "cell_type": "markdown",
   "metadata": {
    "_uuid": "e4995437cae53991f1f54f9e9e0513147e28775f"
   },
   "source": [
    "We can see that it takes more epochs before the reduced model starts overfitting (around epoch 10). Moreover, the loss increases much slower after that epoch compared to the baseline model."
   ]
  },
  {
   "cell_type": "code",
   "execution_count": 30,
   "metadata": {
    "_uuid": "b68ea6fa1c73f2183528024631b0818393ddd8b8"
   },
   "outputs": [
    {
     "data": {
      "image/png": "[encoded data removed]",
      "text/plain": [
       "<Figure size 432x288 with 1 Axes>"
      ]
     },
     "metadata": {
      "needs_background": "light"
     },
     "output_type": "display_data"
    }
   ],
   "source": [
    "compare_loss_with_baseline(reduced_history, 'Reduced Model')"
   ]
  },
  {
   "cell_type": "markdown",
   "metadata": {
    "_uuid": "bd65f73d772539b52c492ab60df5d07cf08a236b"
   },
   "source": [
    "#### Adding regularization\n",
    "To address overfitting, we can also add regularization to the model. Let's try with L2 regularization."
   ]
  },
  {
   "cell_type": "code",
   "execution_count": 31,
   "metadata": {
    "_uuid": "17e384daee482847293925c5c98697eb93b10c81"
   },
   "outputs": [
    {
     "name": "stdout",
     "output_type": "stream",
     "text": [
      "Model: \"sequential_2\"\n",
      "_________________________________________________________________\n",
      " Layer (type)                Output Shape              Param #   \n",
      "=================================================================\n",
      " dense_5 (Dense)             (None, 64)                640064    \n",
      "                                                                 \n",
      " dense_6 (Dense)             (None, 64)                4160      \n",
      "                                                                 \n",
      " dense_7 (Dense)             (None, 3)                 195       \n",
      "                                                                 \n",
      "=================================================================\n",
      "Total params: 644,419\n",
      "Trainable params: 644,419\n",
      "Non-trainable params: 0\n",
      "_________________________________________________________________\n"
     ]
    }
   ],
   "source": [
    "reg_model = models.Sequential()\n",
    "reg_model.add(layers.Dense(64, kernel_regularizer=regularizers.l2(0.001), activation='relu', input_shape=(NB_WORDS,)))\n",
    "reg_model.add(layers.Dense(64, kernel_regularizer=regularizers.l2(0.001), activation='relu'))\n",
    "reg_model.add(layers.Dense(3, activation='softmax'))\n",
    "reg_model.summary()"
   ]
  },
  {
   "cell_type": "code",
   "execution_count": 32,
   "metadata": {
    "_uuid": "b6eb4019580ea228350d1f143fbc9e3d34725c1b"
   },
   "outputs": [
    {
     "name": "stderr",
     "output_type": "stream",
     "text": [
      "2022-09-07 23:20:55.859535: I tensorflow/core/grappler/optimizers/custom_graph_optimizer_registry.cc:113] Plugin optimizer for device_type GPU is enabled.\n",
      "2022-09-07 23:20:56.270400: I tensorflow/core/grappler/optimizers/custom_graph_optimizer_registry.cc:113] Plugin optimizer for device_type GPU is enabled.\n"
     ]
    }
   ],
   "source": [
    "reg_history = deep_model(reg_model)"
   ]
  },
  {
   "cell_type": "markdown",
   "metadata": {
    "_uuid": "8dff1fd40b74d2eed309964e6f4c4cbd6d11b098"
   },
   "source": [
    "For the regularized model we notice that it starts overfitting earlier than the baseline model. However, the loss increases much slower afterwards."
   ]
  },
  {
   "cell_type": "code",
   "execution_count": 33,
   "metadata": {
    "_uuid": "dba7e497c502649455e55209824b88ad6704a168"
   },
   "outputs": [
    {
     "data": {
      "image/png": "[encoded data removed]",
      "text/plain": [
       "<Figure size 432x288 with 1 Axes>"
      ]
     },
     "metadata": {
      "needs_background": "light"
     },
     "output_type": "display_data"
    }
   ],
   "source": [
    "compare_loss_with_baseline(reg_history, 'Regularized Model')"
   ]
  },
  {
   "cell_type": "markdown",
   "metadata": {
    "_uuid": "34c7ba86080b858475e08ae9652d9e7e1cb85dd4"
   },
   "source": [
    "#### Adding dropout layers\n",
    "The last option we'll try is to add dropout layers."
   ]
  },
  {
   "cell_type": "code",
   "execution_count": 34,
   "metadata": {
    "_uuid": "148084e8fdbae9eb8aacb16f63fb5ad1afa715c7"
   },
   "outputs": [
    {
     "name": "stdout",
     "output_type": "stream",
     "text": [
      "Model: \"sequential_3\"\n",
      "_________________________________________________________________\n",
      " Layer (type)                Output Shape              Param #   \n",
      "=================================================================\n",
      " dense_8 (Dense)             (None, 64)                640064    \n",
      "                                                                 \n",
      " dropout (Dropout)           (None, 64)                0         \n",
      "                                                                 \n",
      " dense_9 (Dense)             (None, 64)                4160      \n",
      "                                                                 \n",
      " dropout_1 (Dropout)         (None, 64)                0         \n",
      "                                                                 \n",
      " dense_10 (Dense)            (None, 3)                 195       \n",
      "                                                                 \n",
      "=================================================================\n",
      "Total params: 644,419\n",
      "Trainable params: 644,419\n",
      "Non-trainable params: 0\n",
      "_________________________________________________________________\n"
     ]
    }
   ],
   "source": [
    "drop_model = models.Sequential()\n",
    "drop_model.add(layers.Dense(64, activation='relu', input_shape=(NB_WORDS,)))\n",
    "drop_model.add(layers.Dropout(0.5))\n",
    "drop_model.add(layers.Dense(64, activation='relu'))\n",
    "drop_model.add(layers.Dropout(0.5))\n",
    "drop_model.add(layers.Dense(3, activation='softmax'))\n",
    "drop_model.summary()"
   ]
  },
  {
   "cell_type": "code",
   "execution_count": 35,
   "metadata": {},
   "outputs": [
    {
     "name": "stdout",
     "output_type": "stream",
     "text": [
      "训练过程图\n",
      "\n"
     ]
    },
    {
     "data": {
      "image/png": "[encoded data removed]",
      "text/plain": [
       "<IPython.core.display.Image object>"
      ]
     },
     "execution_count": 35,
     "metadata": {},
     "output_type": "execute_result"
    }
   ],
   "source": [
    "print('训练过程图\\n')\n",
    "plot_model(drop_model, to_file='resources/i2model_plot.png', show_shapes=True, show_layer_names=True)"
   ]
  },
  {
   "cell_type": "code",
   "execution_count": 36,
   "metadata": {
    "_uuid": "68129f5c4e1408012bd5271c2e185a0f9b680fef"
   },
   "outputs": [
    {
     "name": "stderr",
     "output_type": "stream",
     "text": [
      "2022-09-07 23:21:01.052532: I tensorflow/core/grappler/optimizers/custom_graph_optimizer_registry.cc:113] Plugin optimizer for device_type GPU is enabled.\n",
      "2022-09-07 23:21:01.448777: I tensorflow/core/grappler/optimizers/custom_graph_optimizer_registry.cc:113] Plugin optimizer for device_type GPU is enabled.\n"
     ]
    }
   ],
   "source": [
    "drop_history = deep_model(drop_model)"
   ]
  },
  {
   "cell_type": "markdown",
   "metadata": {
    "_uuid": "d56934aba84b08f01cbf2a1919809ee59eae3f48"
   },
   "source": [
    "The model with dropout layers starts overfitting a bit later than the baseline model. The loss also increases slower than the baseline model."
   ]
  },
  {
   "cell_type": "code",
   "execution_count": 37,
   "metadata": {
    "_uuid": "2f84d9a3b71665e31817b87c3f7e0a7dcda8f168"
   },
   "outputs": [
    {
     "data": {
      "image/png": "[encoded data removed]",
      "text/plain": [
       "<Figure size 432x288 with 1 Axes>"
      ]
     },
     "metadata": {
      "needs_background": "light"
     },
     "output_type": "display_data"
    }
   ],
   "source": [
    "compare_loss_with_baseline(drop_history, 'Dropout Model')"
   ]
  },
  {
   "cell_type": "markdown",
   "metadata": {
    "_uuid": "54e689e46bcb6f6c1697ce551c318cf1bc2f1826"
   },
   "source": [
    "### Training on the full train data and evaluation on test data\n",
    "At first sight the reduced model seems to be the best model for generalization. But let's check that on the test set."
   ]
  },
  {
   "cell_type": "code",
   "execution_count": 38,
   "metadata": {
    "_uuid": "8e820d0d52358f5a9a514c754bccd56cc0496cfe"
   },
   "outputs": [],
   "source": [
    "def test_model(model, epoch_stop):\n",
    "    model.fit(X_train_oh\n",
    "              , y_train_oh\n",
    "              , epochs=epoch_stop\n",
    "              , batch_size=BATCH_SIZE\n",
    "              , verbose=0)\n",
    "    results = model.evaluate(X_test_oh, y_test_oh)\n",
    "    \n",
    "    return results"
   ]
  },
  {
   "cell_type": "code",
   "execution_count": 39,
   "metadata": {
    "_uuid": "55fee33d47ca1f488a5c4ca262d95e3edb873fda"
   },
   "outputs": [
    {
     "name": "stdout",
     "output_type": "stream",
     "text": [
      "92/92 [==============================] - 1s 7ms/step - loss: 1.1929 - accuracy: 0.7616\n",
      "/n\n",
      "Test accuracy of baseline model: 76.16%\n"
     ]
    }
   ],
   "source": [
    "base_results = test_model(base_model, 4)\n",
    "print('/n')\n",
    "print('Test accuracy of baseline model: {0:.2f}%'.format(base_results[1]*100))"
   ]
  },
  {
   "cell_type": "code",
   "execution_count": 40,
   "metadata": {
    "_uuid": "fe5556d324cbef0b2f661772895ffca215313dcc"
   },
   "outputs": [
    {
     "name": "stdout",
     "output_type": "stream",
     "text": [
      "92/92 [==============================] - 1s 7ms/step - loss: 0.7245 - accuracy: 0.7770\n",
      "/n\n",
      "Test accuracy of reduced model: 77.70%\n"
     ]
    }
   ],
   "source": [
    "reduced_results = test_model(reduced_model, 10)\n",
    "print('/n')\n",
    "print('Test accuracy of reduced model: {0:.2f}%'.format(reduced_results[1]*100))"
   ]
  },
  {
   "cell_type": "code",
   "execution_count": 41,
   "metadata": {
    "_uuid": "ed5cddbc024532a609193637fdc7335c9ecd3ea2"
   },
   "outputs": [
    {
     "name": "stdout",
     "output_type": "stream",
     "text": [
      "92/92 [==============================] - 1s 7ms/step - loss: 0.7923 - accuracy: 0.7763\n",
      "/n\n",
      "Test accuracy of regularized model: 77.63%\n"
     ]
    }
   ],
   "source": [
    "reg_results = test_model(reg_model, 5)\n",
    "print('/n')\n",
    "print('Test accuracy of regularized model: {0:.2f}%'.format(reg_results[1]*100))"
   ]
  },
  {
   "cell_type": "code",
   "execution_count": 42,
   "metadata": {
    "_uuid": "b6beaf7c1988d3bfcb24a03b70d2b5127a6ae38f"
   },
   "outputs": [
    {
     "name": "stdout",
     "output_type": "stream",
     "text": [
      "92/92 [==============================] - 1s 7ms/step - loss: 0.9209 - accuracy: 0.7780\n",
      "/n\n",
      "Test accuracy of dropout model: 77.80%\n"
     ]
    }
   ],
   "source": [
    "drop_results = test_model(drop_model, 6)\n",
    "print('/n')\n",
    "print('Test accuracy of dropout model: {0:.2f}%'.format(drop_results[1]*100))"
   ]
  },
  {
   "cell_type": "markdown",
   "metadata": {
    "_uuid": "7e70f3c62923a0d30b88789f841939c8abdc75c9"
   },
   "source": [
    "# Conclusion\n",
    "As we can see above, the model with the dropout layers performs the best on the test data. However, this is slightly lower than what we achieved with a LogisticRegression and Countvectorizer in my previous kernel. But there the input data was transformed a bit different than here. \n",
    "\n",
    "### What's next?\n",
    "Soon I will add the use of word embeddings in Keras and using a pretrained model. To be continued..."
   ]
  },
  {
   "cell_type": "code",
   "execution_count": 43,
   "metadata": {},
   "outputs": [
    {
     "name": "stdout",
     "output_type": "stream",
     "text": [
      "-------------------- save model\n"
     ]
    }
   ],
   "source": [
    "print('-'*20, 'save model')\n",
    "filename = \"finalized_model.sav\"\n",
    "drop_model.save('drop_model.h5')  "
   ]
  },
  {
   "cell_type": "code",
   "execution_count": 44,
   "metadata": {},
   "outputs": [
    {
     "name": "stdout",
     "output_type": "stream",
     "text": [
      "INFO:tensorflow:Assets written to: ram://b0338c89-23f8-4420-81d0-c5fe9fabb107/assets\n"
     ]
    },
    {
     "name": "stderr",
     "output_type": "stream",
     "text": [
      "2022-09-07 23:21:14.734013: W tensorflow/python/util/util.cc:368] Sets are not currently considered sequences, but this may change in the future, so consider avoiding using them.\n"
     ]
    }
   ],
   "source": [
    "pickle.dump(drop_model, open('first_model.pkl', 'wb'))"
   ]
  },
  {
   "cell_type": "code",
   "execution_count": 45,
   "metadata": {},
   "outputs": [],
   "source": [
    "import tensorflow as tf \n",
    "# identical to the previous one\n",
    "mymodel = tf.keras.models.load_model('drop_model.h5')\n",
    "# mymodel = pickle.load(open('first_model.pkl', 'rb'))"
   ]
  },
  {
   "cell_type": "code",
   "execution_count": 46,
   "metadata": {},
   "outputs": [
    {
     "name": "stderr",
     "output_type": "stream",
     "text": [
      "2022-09-07 23:21:15.165659: I tensorflow/core/grappler/optimizers/custom_graph_optimizer_registry.cc:113] Plugin optimizer for device_type GPU is enabled.\n"
     ]
    },
    {
     "name": "stdout",
     "output_type": "stream",
     "text": [
      "23/92 [======>.......................] - ETA: 0s - loss: 1.1204 - accuracy: 0.7704"
     ]
    },
    {
     "name": "stderr",
     "output_type": "stream",
     "text": [
      "2022-09-07 23:21:16.658371: I tensorflow/core/grappler/optimizers/custom_graph_optimizer_registry.cc:113] Plugin optimizer for device_type GPU is enabled.\n"
     ]
    },
    {
     "name": "stdout",
     "output_type": "stream",
     "text": [
      "92/92 [==============================] - 1s 7ms/step - loss: 1.1033 - accuracy: 0.7773\n",
      "again /n\n",
      "Test accuracy of dropout model: 77.73%\n"
     ]
    }
   ],
   "source": [
    "drop_results = test_model(mymodel, 6)\n",
    "print('again /n')\n",
    "print('Test accuracy of dropout model: {0:.2f}%'.format(drop_results[1]*100))"
   ]
  },
  {
   "cell_type": "code",
   "execution_count": 47,
   "metadata": {},
   "outputs": [
    {
     "name": "stdout",
     "output_type": "stream",
     "text": [
      "[0. 0. 0. ... 0. 0. 0.] <class 'numpy.ndarray'>\n",
      "input= [[0. 0. 0. ... 0. 0. 0.]]\n",
      "0 q= [[0.55  0.386 0.064]]\n",
      "input= [[0. 0. 0. ... 0. 0. 0.]]\n",
      "1 q= [[1. 0. 0.]]\n",
      "input= [[0. 0. 0. ... 0. 0. 0.]]\n",
      "2 q= [[1. 0. 0.]]\n",
      "input= [[0. 0. 0. ... 0. 0. 0.]]\n",
      "3 q= [[1. 0. 0.]]\n",
      "input= [[0. 0. 0. ... 0. 0. 0.]]\n",
      "4 q= [[1. 0. 0.]]\n",
      "input= [[0. 0. 0. ... 0. 0. 0.]]\n",
      "5 q= [[0.01  0.141 0.849]]\n",
      "input= [[0. 0. 0. ... 0. 0. 0.]]\n",
      "6 q= [[1. 0. 0.]]\n",
      "input= [[0. 1. 0. ... 0. 0. 0.]]\n",
      "7 q= [[1. 0. 0.]]\n",
      "input= [[0. 1. 1. ... 0. 0. 0.]]\n"
     ]
    },
    {
     "name": "stderr",
     "output_type": "stream",
     "text": [
      "2022-09-07 23:21:17.374945: I tensorflow/core/grappler/optimizers/custom_graph_optimizer_registry.cc:113] Plugin optimizer for device_type GPU is enabled.\n"
     ]
    },
    {
     "name": "stdout",
     "output_type": "stream",
     "text": [
      "8 q= [[1. 0. 0.]]\n",
      "input= [[0. 0. 0. ... 0. 0. 0.]]\n",
      "9 q= [[0.858 0.14  0.002]]\n",
      "input= [[0. 0. 1. ... 0. 0. 0.]]\n",
      "10 q= [[0.997 0.    0.003]]\n",
      "input= [[0. 0. 0. ... 0. 0. 0.]]\n",
      "11 q= [[0.003 0.342 0.655]]\n",
      "input= [[0. 0. 0. ... 0. 0. 0.]]\n",
      "12 q= [[0.999 0.    0.001]]\n",
      "input= [[0. 0. 1. ... 0. 0. 0.]]\n",
      "13 q= [[0.999 0.001 0.001]]\n",
      "input= [[0. 0. 0. ... 0. 0. 0.]]\n",
      "14 q= [[0.001 0.018 0.981]]\n",
      "input= [[0. 1. 1. ... 0. 0. 0.]]\n",
      "15 q= [[1. 0. 0.]]\n",
      "input= [[0. 1. 0. ... 0. 0. 0.]]\n",
      "16 q= [[0.776 0.214 0.011]]\n",
      "input= [[0. 1. 0. ... 0. 0. 0.]]\n",
      "17 q= [[0. 0. 1.]]\n",
      "input= [[0. 0. 0. ... 0. 0. 0.]]\n",
      "18 q= [[1. 0. 0.]]\n",
      "input= [[0. 0. 0. ... 0. 0. 0.]]\n",
      "19 q= [[0.22  0.78  0.001]]\n"
     ]
    }
   ],
   "source": [
    "print(X_test_oh[0], type(X_test_oh))\n",
    "with open('test.pkl','wb') as f:\n",
    "     pickle.dump(X_test_oh[0:100], f)\n",
    "        \n",
    "with open('test.pkl','rb') as f:\n",
    "     MyX_test_oh = pickle.load(f)           \n",
    "# for i in X_test_oh[0]:\n",
    "#     print(i)\n",
    "for i in  range(20):\n",
    "    myinput = np.array( [MyX_test_oh[i],])\n",
    "    print('input=',myinput)\n",
    "    q = mymodel.predict( np.array( [MyX_test_oh[i],] )  )\n",
    "    print(i, 'q=', np.around(q,decimals=3))\n"
   ]
  },
  {
   "cell_type": "code",
   "execution_count": null,
   "metadata": {},
   "outputs": [],
   "source": []
  },
  {
   "cell_type": "code",
   "execution_count": null,
   "metadata": {},
   "outputs": [],
   "source": []
  }
 ],
 "metadata": {
  "kernelspec": {
   "display_name": "Python 3 (ipykernel)",
   "language": "python",
   "name": "python3"
  },
  "language_info": {
   "codemirror_mode": {
    "name": "ipython",
    "version": 3
   },
   "file_extension": ".py",
   "mimetype": "text/x-python",
   "name": "python",
   "nbconvert_exporter": "python",
   "pygments_lexer": "ipython3",
   "version": "3.9.0"
  }
 },
 "nbformat": 4,
 "nbformat_minor": 1
}
