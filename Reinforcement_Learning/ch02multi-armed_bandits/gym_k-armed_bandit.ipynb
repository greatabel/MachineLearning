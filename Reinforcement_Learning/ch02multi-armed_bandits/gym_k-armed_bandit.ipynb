{
 "cells": [
  {
   "cell_type": "code",
   "execution_count": 1,
   "id": "9d8aeffc",
   "metadata": {},
   "outputs": [],
   "source": [
    "import numpy as np\n",
    "import gym\n",
    "from gym import spaces\n"
   ]
  },
  {
   "cell_type": "code",
   "execution_count": 17,
   "id": "2dae5110",
   "metadata": {},
   "outputs": [],
   "source": [
    "class KArmedBanditEnv(gym.Env):\n",
    "    \"\"\"\n",
    "    K-Armed Bandit Environment\n",
    "    \"\"\"\n",
    "    def __init__(self, k=10):\n",
    "        super(KArmedBanditEnv, self).__init__()\n",
    "        self.k = k\n",
    "        self.action_space = spaces.Discrete(k)\n",
    "        self.probabilities = np.random.rand(k)  # Randomly generated probabilities for each arm\n",
    "        print(f\"赌博机创建完成。臂数：{k}\")\n",
    "        print(f\"动作空间（可选臂数）：{self.action_space}\")\n",
    "        print(f\"每个臂的奖励概率：{self.probabilities} \")\n",
    "\n",
    "\n",
    "\n",
    "    def step(self, action):\n",
    "        assert self.action_space.contains(action)\n",
    "        # Reward is 1 with the probability of the selected arm, else 0\n",
    "        reward = np.random.rand() < self.probabilities[action]\n",
    "        print(f\"选择臂 {action}，获得奖励：{'是' if reward else '否'}\")\n",
    "        return action, reward, True, {}\n",
    "\n",
    "    def reset(self):\n",
    "        return None"
   ]
  },
  {
   "cell_type": "code",
   "execution_count": 18,
   "id": "d3563c05",
   "metadata": {},
   "outputs": [],
   "source": [
    "'''\n",
    "ε-greedy 策略平衡了探索（尝试可能不是最佳的动作以获得更多信息）和利用（选择当前估计最好的动作）之间的权衡\n",
    "'''\n",
    "\n",
    "def epsilon_greedy_policy(k, epsilon, q_values):\n",
    "    if np.random.rand() < epsilon:\n",
    "        action = np.random.choice(k)\n",
    "        print(f\"探索：随机选择臂 {action}\")\n",
    "    else:\n",
    "        action = np.argmax(q_values)\n",
    "        print(f\"利用：选择当前最佳臂 {action}\")\n",
    "    return action"
   ]
  },
  {
   "cell_type": "code",
   "execution_count": 19,
   "id": "55ae2f7d",
   "metadata": {},
   "outputs": [
    {
     "name": "stdout",
     "output_type": "stream",
     "text": [
      "赌博机创建完成。臂数：10\n",
      "动作空间（可选臂数）：Discrete(10)\n",
      "每个臂的奖励概率：[0.82536508 0.76981445 0.25404779 0.49530496 0.12743967 0.64939569\n",
      " 0.58881935 0.75907715 0.97504082 0.36567745] \n",
      "\n",
      "第 1 轮\n",
      "利用：选择当前最佳臂 0\n",
      "选择臂 0，获得奖励：是\n",
      "\n",
      "第 2 轮\n",
      "利用：选择当前最佳臂 0\n",
      "选择臂 0，获得奖励：是\n",
      "\n",
      "第 3 轮\n",
      "利用：选择当前最佳臂 0\n",
      "选择臂 0，获得奖励：是\n",
      "\n",
      "第 4 轮\n",
      "探索：随机选择臂 6\n",
      "选择臂 6，获得奖励：是\n",
      "\n",
      "第 5 轮\n",
      "利用：选择当前最佳臂 0\n",
      "选择臂 0，获得奖励：是\n",
      "\n",
      "第 6 轮\n",
      "利用：选择当前最佳臂 0\n",
      "选择臂 0，获得奖励：是\n",
      "\n",
      "第 7 轮\n",
      "利用：选择当前最佳臂 0\n",
      "选择臂 0，获得奖励：是\n",
      "\n",
      "第 8 轮\n",
      "利用：选择当前最佳臂 0\n",
      "选择臂 0，获得奖励：是\n",
      "\n",
      "第 9 轮\n",
      "利用：选择当前最佳臂 0\n",
      "选择臂 0，获得奖励：否\n",
      "\n",
      "第 10 轮\n",
      "利用：选择当前最佳臂 6\n",
      "选择臂 6，获得奖励：是\n",
      "\n",
      "估计的价值： [0.875 0.    0.    0.    0.    0.    1.    0.    0.    0.   ]\n"
     ]
    }
   ],
   "source": [
    "k = 10\n",
    "episodes = 10\n",
    "epsilon = 0.1\n",
    "\n",
    "env = KArmedBanditEnv(k=k)\n",
    "q_values = np.zeros(k)\n",
    "counts = np.zeros(k)\n",
    "\n",
    "for i in range(episodes):\n",
    "    print(f\"\\n第 {i+1} 轮\")\n",
    "    action = epsilon_greedy_policy(k, epsilon, q_values)\n",
    "    _, reward, _, _ = env.step(action)\n",
    "    counts[action] += 1\n",
    "    q_values[action] += (reward - q_values[action]) / counts[action]\n",
    "\n",
    "print(\"\\n估计的价值：\", q_values)"
   ]
  },
  {
   "cell_type": "code",
   "execution_count": null,
   "id": "2cfe91ed",
   "metadata": {},
   "outputs": [],
   "source": []
  },
  {
   "cell_type": "code",
   "execution_count": null,
   "id": "64c35172",
   "metadata": {},
   "outputs": [],
   "source": []
  }
 ],
 "metadata": {
  "kernelspec": {
   "display_name": "Python 3 (ipykernel)",
   "language": "python",
   "name": "python3"
  },
  "language_info": {
   "codemirror_mode": {
    "name": "ipython",
    "version": 3
   },
   "file_extension": ".py",
   "mimetype": "text/x-python",
   "name": "python",
   "nbconvert_exporter": "python",
   "pygments_lexer": "ipython3",
   "version": "3.9.18"
  }
 },
 "nbformat": 4,
 "nbformat_minor": 5
}
