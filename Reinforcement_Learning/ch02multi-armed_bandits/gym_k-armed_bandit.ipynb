{
 "cells": [
  {
   "cell_type": "code",
   "execution_count": 1,
   "id": "9d8aeffc",
   "metadata": {},
   "outputs": [],
   "source": [
    "import numpy as np\n",
    "import gym\n",
    "from gym import spaces\n"
   ]
  },
  {
   "cell_type": "code",
   "execution_count": 2,
   "id": "2dae5110",
   "metadata": {},
   "outputs": [],
   "source": [
    "class KArmedBanditEnv(gym.Env):\n",
    "    \"\"\"\n",
    "    K-Armed Bandit Environment\n",
    "    \"\"\"\n",
    "    def __init__(self, k=10):\n",
    "        super(KArmedBanditEnv, self).__init__()\n",
    "        self.k = k\n",
    "        self.action_space = spaces.Discrete(k)\n",
    "        self.probabilities = np.random.rand(k)  # Randomly generated probabilities for each arm\n",
    "\n",
    "    def step(self, action):\n",
    "        assert self.action_space.contains(action)\n",
    "        # Reward is 1 with the probability of the selected arm, else 0\n",
    "        reward = np.random.rand() < self.probabilities[action]\n",
    "        return action, reward, True, {}\n",
    "\n",
    "    def reset(self):\n",
    "        return None"
   ]
  },
  {
   "cell_type": "code",
   "execution_count": 3,
   "id": "d3563c05",
   "metadata": {},
   "outputs": [],
   "source": [
    "'''\n",
    "ε-greedy 策略平衡了探索（尝试可能不是最佳的动作以获得更多信息）和利用（选择当前估计最好的动作）之间的权衡\n",
    "'''\n",
    "def epsilon_greedy_policy(k, epsilon, q_values):\n",
    "    if np.random.rand() < epsilon:\n",
    "        return np.random.choice(k)\n",
    "    else:\n",
    "        return np.argmax(q_values)"
   ]
  },
  {
   "cell_type": "code",
   "execution_count": 6,
   "id": "55ae2f7d",
   "metadata": {},
   "outputs": [
    {
     "name": "stdout",
     "output_type": "stream",
     "text": [
      "Estimated values: [0.89368771 0.78571429 0.85714286 0.76190476 0.77777778 0.33333333\n",
      " 0.4        0.         0.72727273 0.22222222]\n"
     ]
    }
   ],
   "source": [
    "# Environment and training setup\n",
    "k = 10\n",
    "episodes = 1000\n",
    "epsilon = 0.1\n",
    "\n",
    "env = KArmedBanditEnv(k=k)\n",
    "q_values = np.zeros(k)\n",
    "counts = np.zeros(k)\n",
    "\n",
    "for _ in range(episodes):\n",
    "    action = epsilon_greedy_policy(k, epsilon, q_values)\n",
    "    _, reward, _, _ = env.step(action)\n",
    "    counts[action] += 1\n",
    "    q_values[action] += (reward - q_values[action]) / counts[action]\n",
    "\n",
    "print(\"Estimated values:\", q_values)"
   ]
  },
  {
   "cell_type": "code",
   "execution_count": null,
   "id": "2cfe91ed",
   "metadata": {},
   "outputs": [],
   "source": []
  },
  {
   "cell_type": "code",
   "execution_count": null,
   "id": "64c35172",
   "metadata": {},
   "outputs": [],
   "source": []
  }
 ],
 "metadata": {
  "kernelspec": {
   "display_name": "Python 3 (ipykernel)",
   "language": "python",
   "name": "python3"
  },
  "language_info": {
   "codemirror_mode": {
    "name": "ipython",
    "version": 3
   },
   "file_extension": ".py",
   "mimetype": "text/x-python",
   "name": "python",
   "nbconvert_exporter": "python",
   "pygments_lexer": "ipython3",
   "version": "3.9.18"
  }
 },
 "nbformat": 4,
 "nbformat_minor": 5
}
