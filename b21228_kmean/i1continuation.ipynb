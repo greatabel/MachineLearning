{
 "cells": [
  {
   "cell_type": "code",
   "execution_count": 1,
   "id": "bd1f91f1",
   "metadata": {},
   "outputs": [
    {
     "name": "stderr",
     "output_type": "stream",
     "text": [
      "[nltk_data] Downloading package punkt to /Users/abel/nltk_data...\n",
      "[nltk_data]   Package punkt is already up-to-date!\n",
      "[nltk_data] Downloading package stopwords to /Users/abel/nltk_data...\n",
      "[nltk_data]   Package stopwords is already up-to-date!\n"
     ]
    }
   ],
   "source": [
    "import pandas as pd\n",
    "import numpy as np\n",
    "import seaborn as sns\n",
    "import matplotlib.pyplot as plt \n",
    "import warnings\n",
    "import re, nltk\n",
    "from nltk.corpus import stopwords\n",
    "import string\n",
    "nltk.download('punkt')\n",
    "nltk.download('stopwords')\n",
    "\n",
    "warnings.filterwarnings('ignore')"
   ]
  },
  {
   "cell_type": "code",
   "execution_count": 2,
   "id": "2389e2a8",
   "metadata": {},
   "outputs": [
    {
     "name": "stdout",
     "output_type": "stream",
     "text": [
      "There are 14640 Tweets in the dataset.\n",
      "Columns:  Index(['tweet_id', 'airline_sentiment', 'airline_sentiment_confidence',\n",
      "       'negativereason', 'negativereason_confidence', 'airline',\n",
      "       'airline_sentiment_gold', 'name', 'negativereason_gold',\n",
      "       'retweet_count', 'text', 'tweet_coord', 'tweet_created',\n",
      "       'tweet_location', 'user_timezone'],\n",
      "      dtype='object')\n"
     ]
    }
   ],
   "source": [
    "# LOAD THE TWITTER US AIRLINES DATASET\n",
    "\n",
    "tweets = pd.read_csv(\"Tweets.csv\")\n",
    "print('There are', len(tweets), 'Tweets in the dataset.')\n",
    "\n",
    "# Take a look at the column names.\n",
    "print(\"Columns: \", tweets.columns)"
   ]
  },
  {
   "cell_type": "code",
   "execution_count": 3,
   "id": "20b9ca7c",
   "metadata": {
    "scrolled": true
   },
   "outputs": [
    {
     "data": {
      "text/html": [
       "<div>\n",
       "<style scoped>\n",
       "    .dataframe tbody tr th:only-of-type {\n",
       "        vertical-align: middle;\n",
       "    }\n",
       "\n",
       "    .dataframe tbody tr th {\n",
       "        vertical-align: top;\n",
       "    }\n",
       "\n",
       "    .dataframe thead th {\n",
       "        text-align: right;\n",
       "    }\n",
       "</style>\n",
       "<table border=\"1\" class=\"dataframe\">\n",
       "  <thead>\n",
       "    <tr style=\"text-align: right;\">\n",
       "      <th></th>\n",
       "      <th>tweet_id</th>\n",
       "      <th>airline_sentiment</th>\n",
       "      <th>airline_sentiment_confidence</th>\n",
       "      <th>negativereason</th>\n",
       "      <th>negativereason_confidence</th>\n",
       "      <th>airline</th>\n",
       "      <th>airline_sentiment_gold</th>\n",
       "      <th>name</th>\n",
       "      <th>negativereason_gold</th>\n",
       "      <th>retweet_count</th>\n",
       "      <th>text</th>\n",
       "      <th>tweet_coord</th>\n",
       "      <th>tweet_created</th>\n",
       "      <th>tweet_location</th>\n",
       "      <th>user_timezone</th>\n",
       "    </tr>\n",
       "  </thead>\n",
       "  <tbody>\n",
       "    <tr>\n",
       "      <th>0</th>\n",
       "      <td>570306133677760513</td>\n",
       "      <td>neutral</td>\n",
       "      <td>1.0000</td>\n",
       "      <td>NaN</td>\n",
       "      <td>NaN</td>\n",
       "      <td>Virgin America</td>\n",
       "      <td>NaN</td>\n",
       "      <td>cairdin</td>\n",
       "      <td>NaN</td>\n",
       "      <td>0</td>\n",
       "      <td>@VirginAmerica What @dhepburn said.</td>\n",
       "      <td>NaN</td>\n",
       "      <td>2015-02-24 11:35:52 -0800</td>\n",
       "      <td>NaN</td>\n",
       "      <td>Eastern Time (US &amp; Canada)</td>\n",
       "    </tr>\n",
       "    <tr>\n",
       "      <th>1</th>\n",
       "      <td>570301130888122368</td>\n",
       "      <td>positive</td>\n",
       "      <td>0.3486</td>\n",
       "      <td>NaN</td>\n",
       "      <td>0.0000</td>\n",
       "      <td>Virgin America</td>\n",
       "      <td>NaN</td>\n",
       "      <td>jnardino</td>\n",
       "      <td>NaN</td>\n",
       "      <td>0</td>\n",
       "      <td>@VirginAmerica plus you've added commercials t...</td>\n",
       "      <td>NaN</td>\n",
       "      <td>2015-02-24 11:15:59 -0800</td>\n",
       "      <td>NaN</td>\n",
       "      <td>Pacific Time (US &amp; Canada)</td>\n",
       "    </tr>\n",
       "    <tr>\n",
       "      <th>2</th>\n",
       "      <td>570301083672813571</td>\n",
       "      <td>neutral</td>\n",
       "      <td>0.6837</td>\n",
       "      <td>NaN</td>\n",
       "      <td>NaN</td>\n",
       "      <td>Virgin America</td>\n",
       "      <td>NaN</td>\n",
       "      <td>yvonnalynn</td>\n",
       "      <td>NaN</td>\n",
       "      <td>0</td>\n",
       "      <td>@VirginAmerica I didn't today... Must mean I n...</td>\n",
       "      <td>NaN</td>\n",
       "      <td>2015-02-24 11:15:48 -0800</td>\n",
       "      <td>Lets Play</td>\n",
       "      <td>Central Time (US &amp; Canada)</td>\n",
       "    </tr>\n",
       "    <tr>\n",
       "      <th>3</th>\n",
       "      <td>570301031407624196</td>\n",
       "      <td>negative</td>\n",
       "      <td>1.0000</td>\n",
       "      <td>Bad Flight</td>\n",
       "      <td>0.7033</td>\n",
       "      <td>Virgin America</td>\n",
       "      <td>NaN</td>\n",
       "      <td>jnardino</td>\n",
       "      <td>NaN</td>\n",
       "      <td>0</td>\n",
       "      <td>@VirginAmerica it's really aggressive to blast...</td>\n",
       "      <td>NaN</td>\n",
       "      <td>2015-02-24 11:15:36 -0800</td>\n",
       "      <td>NaN</td>\n",
       "      <td>Pacific Time (US &amp; Canada)</td>\n",
       "    </tr>\n",
       "    <tr>\n",
       "      <th>4</th>\n",
       "      <td>570300817074462722</td>\n",
       "      <td>negative</td>\n",
       "      <td>1.0000</td>\n",
       "      <td>Can't Tell</td>\n",
       "      <td>1.0000</td>\n",
       "      <td>Virgin America</td>\n",
       "      <td>NaN</td>\n",
       "      <td>jnardino</td>\n",
       "      <td>NaN</td>\n",
       "      <td>0</td>\n",
       "      <td>@VirginAmerica and it's a really big bad thing...</td>\n",
       "      <td>NaN</td>\n",
       "      <td>2015-02-24 11:14:45 -0800</td>\n",
       "      <td>NaN</td>\n",
       "      <td>Pacific Time (US &amp; Canada)</td>\n",
       "    </tr>\n",
       "  </tbody>\n",
       "</table>\n",
       "</div>"
      ],
      "text/plain": [
       "             tweet_id airline_sentiment  airline_sentiment_confidence  \\\n",
       "0  570306133677760513           neutral                        1.0000   \n",
       "1  570301130888122368          positive                        0.3486   \n",
       "2  570301083672813571           neutral                        0.6837   \n",
       "3  570301031407624196          negative                        1.0000   \n",
       "4  570300817074462722          negative                        1.0000   \n",
       "\n",
       "  negativereason  negativereason_confidence         airline  \\\n",
       "0            NaN                        NaN  Virgin America   \n",
       "1            NaN                     0.0000  Virgin America   \n",
       "2            NaN                        NaN  Virgin America   \n",
       "3     Bad Flight                     0.7033  Virgin America   \n",
       "4     Can't Tell                     1.0000  Virgin America   \n",
       "\n",
       "  airline_sentiment_gold        name negativereason_gold  retweet_count  \\\n",
       "0                    NaN     cairdin                 NaN              0   \n",
       "1                    NaN    jnardino                 NaN              0   \n",
       "2                    NaN  yvonnalynn                 NaN              0   \n",
       "3                    NaN    jnardino                 NaN              0   \n",
       "4                    NaN    jnardino                 NaN              0   \n",
       "\n",
       "                                                text tweet_coord  \\\n",
       "0                @VirginAmerica What @dhepburn said.         NaN   \n",
       "1  @VirginAmerica plus you've added commercials t...         NaN   \n",
       "2  @VirginAmerica I didn't today... Must mean I n...         NaN   \n",
       "3  @VirginAmerica it's really aggressive to blast...         NaN   \n",
       "4  @VirginAmerica and it's a really big bad thing...         NaN   \n",
       "\n",
       "               tweet_created tweet_location               user_timezone  \n",
       "0  2015-02-24 11:35:52 -0800            NaN  Eastern Time (US & Canada)  \n",
       "1  2015-02-24 11:15:59 -0800            NaN  Pacific Time (US & Canada)  \n",
       "2  2015-02-24 11:15:48 -0800      Lets Play  Central Time (US & Canada)  \n",
       "3  2015-02-24 11:15:36 -0800            NaN  Pacific Time (US & Canada)  \n",
       "4  2015-02-24 11:14:45 -0800            NaN  Pacific Time (US & Canada)  "
      ]
     },
     "execution_count": 3,
     "metadata": {},
     "output_type": "execute_result"
    }
   ],
   "source": [
    "## Let's take a look at what is in the data. \n",
    "tweets.head()"
   ]
  },
  {
   "cell_type": "code",
   "execution_count": 4,
   "id": "7523083b",
   "metadata": {},
   "outputs": [
    {
     "name": "stdout",
     "output_type": "stream",
     "text": [
      "tweet_id                        False\n",
      "airline_sentiment               False\n",
      "airline_sentiment_confidence    False\n",
      "negativereason                   True\n",
      "negativereason_confidence        True\n",
      "airline                         False\n",
      "airline_sentiment_gold           True\n",
      "name                            False\n",
      "negativereason_gold              True\n",
      "retweet_count                   False\n",
      "text                            False\n",
      "tweet_coord                      True\n",
      "tweet_created                   False\n",
      "tweet_location                   True\n",
      "user_timezone                    True\n",
      "dtype: bool\n"
     ]
    }
   ],
   "source": [
    "# Make a copy of original dataset for checking missing values\n",
    "\n",
    "tweets_copy = tweets.copy()\n",
    "\n",
    "# Shows whether there are null values in each feature. \n",
    "print(tweets_copy.isnull().any())"
   ]
  },
  {
   "cell_type": "code",
   "execution_count": 5,
   "id": "39fbbd06",
   "metadata": {},
   "outputs": [
    {
     "name": "stdout",
     "output_type": "stream",
     "text": [
      "tweet_id                            0\n",
      "airline_sentiment                   0\n",
      "airline_sentiment_confidence        0\n",
      "negativereason                   5462\n",
      "negativereason_confidence        4118\n",
      "airline                             0\n",
      "airline_sentiment_gold          14600\n",
      "name                                0\n",
      "negativereason_gold             14608\n",
      "retweet_count                       0\n",
      "text                                0\n",
      "tweet_coord                     13621\n",
      "tweet_created                       0\n",
      "tweet_location                   4733\n",
      "user_timezone                    4820\n",
      "dtype: int64\n"
     ]
    }
   ],
   "source": [
    "# Shows number of null values in each feature.\n",
    "print(tweets_copy.isnull().sum())"
   ]
  },
  {
   "cell_type": "code",
   "execution_count": 6,
   "id": "6c859a55",
   "metadata": {
    "scrolled": true
   },
   "outputs": [
    {
     "data": {
      "image/png": "[encoded data removed]",
      "text/plain": [
       "<Figure size 216x360 with 1 Axes>"
      ]
     },
     "metadata": {
      "needs_background": "light"
     },
     "output_type": "display_data"
    }
   ],
   "source": [
    "# Observation on the numbers\n",
    "\n",
    "plt.figure(figsize=(3,5))\n",
    "sns.countplot(tweets['airline_sentiment'], order =tweets.airline_sentiment.value_counts().index,palette= 'plasma')\n",
    "plt.show()"
   ]
  },
  {
   "cell_type": "code",
   "execution_count": 7,
   "id": "b8f09a25",
   "metadata": {},
   "outputs": [
    {
     "data": {
      "text/plain": [
       "Text(0.5, 1.0, 'Number of tweets for every Airline with sentiment distribution')"
      ]
     },
     "execution_count": 7,
     "metadata": {},
     "output_type": "execute_result"
    },
    {
     "data": {
      "image/png": "[encoded data removed]",
      "text/plain": [
       "<Figure size 432x288 with 1 Axes>"
      ]
     },
     "metadata": {
      "needs_background": "light"
     },
     "output_type": "display_data"
    }
   ],
   "source": [
    "types = tweets.groupby(\"airline\")['airline_sentiment'].value_counts(normalize=False).sort_index()\n",
    "types.unstack().plot(kind='barh', stacked='True')\n",
    "plt.legend(bbox_to_anchor=(1.5, 1), loc='upper right')\n",
    "plt.xlabel(\"Number of tweets\")\n",
    "plt.title(\"Number of tweets for every Airline with sentiment distribution\")"
   ]
  },
  {
   "cell_type": "code",
   "execution_count": 8,
   "id": "153e1f7e",
   "metadata": {
    "scrolled": true
   },
   "outputs": [
    {
     "name": "stdout",
     "output_type": "stream",
     "text": [
      "Total number of tweets for each airline \n",
      "  airline\n",
      "United            3822\n",
      "US Airways        2913\n",
      "American          2759\n",
      "Southwest         2420\n",
      "Delta             2222\n",
      "Virgin America     504\n",
      "Name: airline_sentiment, dtype: int64\n"
     ]
    },
    {
     "data": {
      "image/png": "[encoded data removed]",
      "text/plain": [
       "<Figure size 864x864 with 6 Axes>"
      ]
     },
     "metadata": {
      "needs_background": "light"
     },
     "output_type": "display_data"
    }
   ],
   "source": [
    "print(\"Total number of tweets for each airline \\n \",tweets.groupby('airline')['airline_sentiment'].count().sort_values(ascending=False))\n",
    "airlines= ['US Airways','United','American','Southwest','Delta','Virgin America']\n",
    "plt.figure(1,figsize=(12, 12))\n",
    "for i in airlines:\n",
    "    indices= airlines.index(i)\n",
    "    plt.subplot(2,3,indices+1)\n",
    "    new_df=tweets[tweets['airline']==i]\n",
    "    count=new_df['airline_sentiment'].value_counts()\n",
    "    Index = [1,2,3]\n",
    "    plt.bar(Index,count, color=['orangered', 'lemonchiffon', 'yellowgreen'])\n",
    "    plt.xticks(Index,['negative','neutral','positive'])\n",
    "    plt.ylabel('Mood Count')\n",
    "    plt.xlabel('Mood')\n",
    "    plt.title('Count of Moods of '+i)"
   ]
  },
  {
   "cell_type": "code",
   "execution_count": 9,
   "id": "109a6cc8",
   "metadata": {
    "scrolled": true
   },
   "outputs": [
    {
     "data": {
      "image/png": "[encoded data removed]",
      "text/plain": [
       "<Figure size 432x288 with 1 Axes>"
      ]
     },
     "metadata": {
      "needs_background": "light"
     },
     "output_type": "display_data"
    },
    {
     "data": {
      "image/png": "[encoded data removed]",
      "text/plain": [
       "<Figure size 1296x720 with 6 Axes>"
      ]
     },
     "metadata": {
      "needs_background": "light"
     },
     "output_type": "display_data"
    }
   ],
   "source": [
    "#get the number of negative reasons\n",
    "tweets['negativereason'].nunique()\n",
    "airlines= ['US Airways','United','American','Southwest','Delta','Virgin America']\n",
    "NR_Count=dict(tweets['negativereason'].value_counts(sort=False))\n",
    "def NR_Count(Airline):\n",
    "    if Airline=='All':\n",
    "        a=tweets\n",
    "    else:\n",
    "        a=tweets[tweets['airline']==Airline]\n",
    "    count=dict(a['negativereason'].value_counts())\n",
    "    Unique_reason=list(tweets['negativereason'].unique())\n",
    "    Unique_reason=[x for x in Unique_reason if str(x) != 'nan']\n",
    "    Reason_frame=pd.DataFrame({'Reasons':Unique_reason})\n",
    "    Reason_frame['count']=Reason_frame['Reasons'].apply(lambda x: count[x])\n",
    "    return Reason_frame\n",
    "\n",
    "\n",
    "def plot_reason(Airline):\n",
    "    a=NR_Count(Airline)\n",
    "    count=a['count']\n",
    "    Index = range(1,(len(a)+1))\n",
    "    plt.bar(Index,count, color=['red','yellowgreen','peru','slateblue','gold','deeppink','turquoise','salmon','grey','orange'])\n",
    "    plt.xticks(Index,a['Reasons'],rotation=90)\n",
    "    plt.ylabel('Count')\n",
    "    plt.xlabel('Reason')\n",
    "    plt.title('Count of Reasons for '+Airline, color = 'mediumblue')\n",
    "    \n",
    "plot_reason('All')\n",
    "plt.figure(2,figsize=(18, 10))\n",
    "for i in airlines:\n",
    "    indices= airlines.index(i)\n",
    "    plt.subplot(2,3,indices+1)\n",
    "    plt.subplots_adjust(hspace=0.9)\n",
    "    plot_reason(i)"
   ]
  },
  {
   "cell_type": "code",
   "execution_count": 10,
   "id": "08c60034",
   "metadata": {
    "scrolled": true
   },
   "outputs": [
    {
     "name": "stdout",
     "output_type": "stream",
     "text": [
      "['neutral' 'positive' 'negative']\n"
     ]
    }
   ],
   "source": [
    "print(tweets.airline_sentiment.unique())"
   ]
  },
  {
   "cell_type": "code",
   "execution_count": 11,
   "id": "909e51fb",
   "metadata": {},
   "outputs": [
    {
     "name": "stdout",
     "output_type": "stream",
     "text": [
      "14640\n"
     ]
    }
   ],
   "source": [
    "## Let's create a slice of the dataframe that contains only the columns we need. \n",
    "tweet_subset = tweets[['text', 'airline_sentiment']]\n",
    "print(len(tweet_subset))\n"
   ]
  },
  {
   "cell_type": "code",
   "execution_count": 12,
   "id": "7ed8829f",
   "metadata": {},
   "outputs": [],
   "source": [
    "tweet_subset['target'] = tweet_subset['airline_sentiment']"
   ]
  },
  {
   "cell_type": "code",
   "execution_count": 13,
   "id": "f0986fbe",
   "metadata": {},
   "outputs": [
    {
     "data": {
      "text/plain": [
       "array(['neutral', 'positive', 'negative'], dtype=object)"
      ]
     },
     "execution_count": 13,
     "metadata": {},
     "output_type": "execute_result"
    }
   ],
   "source": [
    "# Unique values of sentiment\n",
    "tweet_subset['target'].unique()"
   ]
  },
  {
   "cell_type": "code",
   "execution_count": 14,
   "id": "7cbae5a9",
   "metadata": {},
   "outputs": [
    {
     "name": "stdout",
     "output_type": "stream",
     "text": [
      "9178 3099 2363\n"
     ]
    }
   ],
   "source": [
    "## Now, let's check if the classes are balanced or not\n",
    "\n",
    "print(len(tweet_subset.loc[tweet_subset['target'] == 'negative']), len(tweet_subset.loc[tweet_subset['target'] == 'neutral']), len(tweet_subset.loc[tweet_subset['target'] == 'positive']))\n",
    "## after printing, we see that there is some imbalance in the data. \n",
    "## one way to handle this is to undersample the majority class. "
   ]
  },
  {
   "cell_type": "code",
   "execution_count": 15,
   "id": "e6cebd16",
   "metadata": {},
   "outputs": [
    {
     "name": "stdout",
     "output_type": "stream",
     "text": [
      "2363 3099 9178\n",
      "2363 2363 2363\n"
     ]
    },
    {
     "data": {
      "text/plain": [
       "7089"
      ]
     },
     "execution_count": 15,
     "metadata": {},
     "output_type": "execute_result"
    }
   ],
   "source": [
    "## First, I separate the two classes into two dataframes. \n",
    "tweet_negative = tweet_subset.loc[tweet_subset['target'] == 'negative']\n",
    "tweet_neutral = tweet_subset.loc[tweet_subset['target'] == 'neutral']\n",
    "tweet_positive = tweet_subset.loc[tweet_subset['target'] == 'positive']\n",
    "\n",
    "print(len(tweet_positive), len(tweet_neutral),len(tweet_negative))\n",
    "tweet_negativesample = tweet_negative.sample(n=2363)  # pay attention; the sample method works in a random fashion. If you want repeatable results, you need to set a random seed. \n",
    "tweet_neutralsample = tweet_neutral.sample(n=2363)\n",
    "print(len(tweet_negativesample), len(tweet_neutralsample),len(tweet_positive))\n",
    "\n",
    "tweet_negativeandneutral = tweet_negativesample.append(tweet_neutralsample) # and we append them together to have a balanced dataframe\n",
    "tweet_subsetmerge = tweet_negativeandneutral.append(tweet_positive)\n",
    "len(tweet_subsetmerge)"
   ]
  },
  {
   "cell_type": "code",
   "execution_count": 16,
   "id": "4f398dc9",
   "metadata": {},
   "outputs": [
    {
     "data": {
      "text/html": [
       "<div>\n",
       "<style scoped>\n",
       "    .dataframe tbody tr th:only-of-type {\n",
       "        vertical-align: middle;\n",
       "    }\n",
       "\n",
       "    .dataframe tbody tr th {\n",
       "        vertical-align: top;\n",
       "    }\n",
       "\n",
       "    .dataframe thead th {\n",
       "        text-align: right;\n",
       "    }\n",
       "</style>\n",
       "<table border=\"1\" class=\"dataframe\">\n",
       "  <thead>\n",
       "    <tr style=\"text-align: right;\">\n",
       "      <th></th>\n",
       "      <th>text</th>\n",
       "      <th>tokenized</th>\n",
       "    </tr>\n",
       "  </thead>\n",
       "  <tbody>\n",
       "    <tr>\n",
       "      <th>2226</th>\n",
       "      <td>@united I sent a PM over two weeks ago and hav...</td>\n",
       "      <td>[sent, pm, two, weeks, ago, heard, nothing, ho...</td>\n",
       "    </tr>\n",
       "    <tr>\n",
       "      <th>3437</th>\n",
       "      <td>@united really hoping to get some help here.  ...</td>\n",
       "      <td>[really, hoping, get, help, th, attempt, get, ...</td>\n",
       "    </tr>\n",
       "    <tr>\n",
       "      <th>7976</th>\n",
       "      <td>@JetBlue looks like their inflatable car seats...</td>\n",
       "      <td>[looks, like, inflatable, car, seats, got, lef...</td>\n",
       "    </tr>\n",
       "    <tr>\n",
       "      <th>9040</th>\n",
       "      <td>@USAirways ...2 hours on the plane, they at le...</td>\n",
       "      <td>[hours, plane, least, got, us, direct, flight,...</td>\n",
       "    </tr>\n",
       "    <tr>\n",
       "      <th>7783</th>\n",
       "      <td>@JetBlue I would like to send an email to Lost...</td>\n",
       "      <td>[would, like, send, email, lost, found, jetblu...</td>\n",
       "    </tr>\n",
       "  </tbody>\n",
       "</table>\n",
       "</div>"
      ],
      "text/plain": [
       "                                                   text  \\\n",
       "2226  @united I sent a PM over two weeks ago and hav...   \n",
       "3437  @united really hoping to get some help here.  ...   \n",
       "7976  @JetBlue looks like their inflatable car seats...   \n",
       "9040  @USAirways ...2 hours on the plane, they at le...   \n",
       "7783  @JetBlue I would like to send an email to Lost...   \n",
       "\n",
       "                                              tokenized  \n",
       "2226  [sent, pm, two, weeks, ago, heard, nothing, ho...  \n",
       "3437  [really, hoping, get, help, th, attempt, get, ...  \n",
       "7976  [looks, like, inflatable, car, seats, got, lef...  \n",
       "9040  [hours, plane, least, got, us, direct, flight,...  \n",
       "7783  [would, like, send, email, lost, found, jetblu...  "
      ]
     },
     "execution_count": 16,
     "metadata": {},
     "output_type": "execute_result"
    }
   ],
   "source": [
    "# Preprocessing Text feature\n",
    "\n",
    "def clean_text(txt):\n",
    "    \n",
    "    txt = txt.lower()\n",
    "    def remove_stopwords(txt):\n",
    "        return [t for t in txt if t not in stop]\n",
    "    #txt = re.sub(r\"(?<=\\w)nt\", \"not\",txt) #change don't to do not can't to cannot \n",
    "    txt = re.sub(r\"(@\\S+)\", \"\", txt)  # remove hashtags\n",
    "    txt = re.sub(r'\\W', ' ', str(txt)) # remove all special characters including apastrophie \n",
    "    txt = txt.translate(str.maketrans('', '', string.punctuation)) # remove punctuations \n",
    "    txt = re.sub(r'\\s+[a-zA-Z]\\s+', ' ', txt)   # remove all single characters (it's -> it s then we need to remove s)\n",
    "    txt = re.sub(r'\\s+', ' ', txt, flags=re.I) # Substituting multiple spaces with single space\n",
    "    txt = re.sub(r\"(http\\S+|http)\", \"\", txt) # remove links \n",
    "#    txt = ' '.join([PorterStemmer().stem(word=word) for word in txt.split(\" \") if word not in stop_words ]) # stem & remove stop words\n",
    "    txt = ''.join([i for i in txt if not i.isdigit()]).strip() # remove digits ()\n",
    "    return txt\n",
    "\n",
    "tweet_subsetmerge['text_clean'] = tweet_subsetmerge['text'].apply(clean_text)\n",
    "re_tok = re.compile(f'([{string.punctuation}“”¨«»®´·º½¾¿¡§£₤‘’])')\n",
    "def tokenize(s): \n",
    "    return re_tok.sub(r' \\1 ', s).split()\n",
    "\n",
    "tweet_subsetmerge['tokenized'] = tweet_subsetmerge['text_clean'].apply(lambda row: tokenize(row))\n",
    "stop = set(stopwords.words('english'))\n",
    "stop.update(['amp', 'rt', 'cc'])\n",
    "stop = stop - set(['no', 'not'])\n",
    "\n",
    "def remove_stopwords(row):\n",
    "    return [t for t in row if t not in stop]\n",
    "tweet_subsetmerge['tokenized'] = tweet_subsetmerge['tokenized'].apply(lambda row: remove_stopwords(row))\n",
    "\n",
    "tweet_subsetmerge[['text', 'tokenized']].head()"
   ]
  },
  {
   "cell_type": "code",
   "execution_count": 17,
   "id": "0100389e",
   "metadata": {},
   "outputs": [
    {
     "data": {
      "text/plain": [
       "2226     [sent, pm, two, weeks, ago, heard, nothing, ho...\n",
       "3437     [really, hoping, get, help, th, attempt, get, ...\n",
       "7976     [looks, like, inflatable, car, seats, got, lef...\n",
       "9040     [hours, plane, least, got, us, direct, flight,...\n",
       "7783     [would, like, send, email, lost, found, jetblu...\n",
       "                               ...                        \n",
       "11942    [spent, choppiest, feed, whiplash, ever, ameri...\n",
       "2353     [charge, making, decisions, cancelled, flightl...\n",
       "13486    [last, trip, poor, customer, service, trips, r...\n",
       "11814    [tips, getting, hotel, airline, get, us, even,...\n",
       "10770    [flight, carryon, missing, stollen, plane, lef...\n",
       "Name: tokenized, Length: 2363, dtype: object"
      ]
     },
     "execution_count": 17,
     "metadata": {},
     "output_type": "execute_result"
    }
   ],
   "source": [
    "# to check negative content\n",
    "tweet_subsetmerge.loc[tweet_subsetmerge['target'] == 'negative'].tokenized"
   ]
  },
  {
   "cell_type": "code",
   "execution_count": 18,
   "id": "12a87442",
   "metadata": {},
   "outputs": [
    {
     "name": "stdout",
     "output_type": "stream",
     "text": [
      "<class 'list'> <class 'pandas.core.series.Series'>\n"
     ]
    }
   ],
   "source": [
    "from sklearn.model_selection import train_test_split\n",
    "\n",
    "# let's make sure all elements in text are strings.\n",
    "corpus_text = tweet_subsetmerge.tokenized\n",
    "corpus_text = [str (item) for item in corpus_text]\n",
    "y = tweet_subsetmerge.target  \n",
    "\n",
    "# Split the data.\n",
    "X_train, X_test, y_train, y_test = train_test_split(corpus_text, y, test_size=0.2)\n",
    "\n",
    "### IMPORTANT: Take a look at the input data types. \n",
    "print(type(corpus_text), type(y))"
   ]
  },
  {
   "cell_type": "code",
   "execution_count": 19,
   "id": "dc3443da",
   "metadata": {},
   "outputs": [
    {
     "name": "stdout",
     "output_type": "stream",
     "text": [
      "5671\n"
     ]
    },
    {
     "data": {
      "text/plain": [
       "[\"['oh', 'get', 'better', 'apparently', 'making', 'us', 'wait', 'gate', 'psych', 'need', 'de', 'ice', 'coming', 'gate']\",\n",
       " \"['thank', 'prompt', 'response', 'email', 'late', 'flightr', 'today']\",\n",
       " \"['ridiculous', 'refunded', 'whenever', 'get', 'final', 'destination', 'not']\",\n",
       " \"['no', 'general', 'announcement']\",\n",
       " \"['done', 'done', 'best', 'airline', 'around', 'hands']\"]"
      ]
     },
     "execution_count": 19,
     "metadata": {},
     "output_type": "execute_result"
    }
   ],
   "source": [
    "# Look what is in the X_train (or X_test)\n",
    "print(len(X_train))\n",
    "X_train[0:5]\n",
    "## So, this is a list of raw strings. "
   ]
  },
  {
   "cell_type": "code",
   "execution_count": 20,
   "id": "8232e3e5",
   "metadata": {},
   "outputs": [
    {
     "data": {
      "text/plain": [
       "13945    negative\n",
       "6004     positive\n",
       "1703     negative\n",
       "9256      neutral\n",
       "37       positive\n",
       "Name: target, dtype: object"
      ]
     },
     "execution_count": 20,
     "metadata": {},
     "output_type": "execute_result"
    }
   ],
   "source": [
    "y_train[0:5]"
   ]
  },
  {
   "cell_type": "code",
   "execution_count": 21,
   "id": "7127a88e",
   "metadata": {},
   "outputs": [
    {
     "name": "stdout",
     "output_type": "stream",
     "text": [
      "(5671, 7304)\n",
      "(1418, 7304)\n"
     ]
    }
   ],
   "source": [
    "## Let's vectorize the text\n",
    "\n",
    "from sklearn.feature_extraction.text import CountVectorizer\n",
    "vect = CountVectorizer()\n",
    "v_sparse_posts_training = vect.fit_transform(X_train)\n",
    "print(v_sparse_posts_training.shape)\n",
    "\n",
    "## the code above vectorizes only the training set. Later, we will need the test set to be vectorized (using the same vectorizer) so, I do it here as well. \n",
    "v_sparse_posts_test = vect.transform(X_test) ## Pay attention: we are using .transform() here, not .fit_transform() because we need to use the vectorizer that we trained above. \n",
    "print(v_sparse_posts_test.shape)\n",
    "\n",
    "## Look at the dimensions of the two matrices. What is important to understand is that the number of columns (i.e., the features or the vocabulary) is the same for both training andtesting. \n",
    "## This means the vectors have the same dimensionality. \n",
    "## Just to see what will happen, try to use .fit_transform() instead of .transform() while vectorizing the test set. You will see that the number of columns in the test matrix will decrease. Then, do not forget to fix the code again. \n"
   ]
  },
  {
   "cell_type": "code",
   "execution_count": 22,
   "id": "56483269",
   "metadata": {},
   "outputs": [
    {
     "data": {
      "text/plain": [
       "MultinomialNB()"
      ]
     },
     "execution_count": 22,
     "metadata": {},
     "output_type": "execute_result"
    }
   ],
   "source": [
    "## Train a Naive Bayes classifier.\n",
    "from sklearn.naive_bayes import MultinomialNB\n",
    "\n",
    "clf = MultinomialNB() \n",
    "clf.fit(v_sparse_posts_training, y_train) ## Simply give the vectorized training set and the labels as inputs, and fit the classifier.\n"
   ]
  },
  {
   "cell_type": "code",
   "execution_count": 23,
   "id": "3be71a96",
   "metadata": {},
   "outputs": [
    {
     "name": "stdout",
     "output_type": "stream",
     "text": [
      "              precision    recall  f1-score   support\n",
      "\n",
      "    negative       0.65      0.80      0.72       452\n",
      "     neutral       0.73      0.52      0.61       477\n",
      "    positive       0.76      0.81      0.79       489\n",
      "\n",
      "    accuracy                           0.71      1418\n",
      "   macro avg       0.71      0.71      0.71      1418\n",
      "weighted avg       0.72      0.71      0.71      1418\n",
      "\n"
     ]
    }
   ],
   "source": [
    "## to test the classifier:\n",
    "predicted = clf.predict(v_sparse_posts_test)\n",
    "\n",
    "from sklearn.metrics import classification_report\n",
    "print(classification_report(y_test,predicted))"
   ]
  },
  {
   "cell_type": "code",
   "execution_count": 24,
   "id": "19ca43df",
   "metadata": {},
   "outputs": [
    {
     "data": {
      "text/plain": [
       "array(['positive', 'negative', 'positive'], dtype='<U8')"
      ]
     },
     "execution_count": 24,
     "metadata": {},
     "output_type": "execute_result"
    }
   ],
   "source": [
    "## finally, use the classifier to make predictions on unseen data. (also for sense-making)\n",
    "## Remember, all unseen data must be passed through the pipeline that you used while training the classifier. \n",
    "\n",
    "corpus_unseen = ['happy flight', 'flight delayed for 10 hours it is not acceptable','i visit the airline website']\n",
    "v_sparse_posts_unseen = vect.transform(corpus_unseen)  ## Attention: we are using the same vectorizer that we created earlier! \n",
    "clf.predict(v_sparse_posts_unseen)"
   ]
  },
  {
   "cell_type": "code",
   "execution_count": 25,
   "id": "b63b6086",
   "metadata": {},
   "outputs": [
    {
     "data": {
      "text/plain": [
       "pandas.core.series.Series"
      ]
     },
     "execution_count": 25,
     "metadata": {},
     "output_type": "execute_result"
    }
   ],
   "source": [
    "type(y_test)"
   ]
  },
  {
   "cell_type": "markdown",
   "id": "17d2cd05",
   "metadata": {},
   "source": [
    "# **--------part5 clustering algorithm ---------**\n"
   ]
  },
  {
   "cell_type": "code",
   "execution_count": null,
   "id": "2537cceb",
   "metadata": {},
   "outputs": [],
   "source": []
  }
 ],
 "metadata": {
  "kernelspec": {
   "display_name": "Python 3 (ipykernel)",
   "language": "python",
   "name": "python3"
  },
  "language_info": {
   "codemirror_mode": {
    "name": "ipython",
    "version": 3
   },
   "file_extension": ".py",
   "mimetype": "text/x-python",
   "name": "python",
   "nbconvert_exporter": "python",
   "pygments_lexer": "ipython3",
   "version": "3.8.9"
  }
 },
 "nbformat": 4,
 "nbformat_minor": 5
}
