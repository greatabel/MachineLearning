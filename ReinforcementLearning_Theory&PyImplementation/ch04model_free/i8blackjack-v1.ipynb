{
 "cells": [
  {
   "cell_type": "markdown",
   "id": "7c18f507",
   "metadata": {},
   "source": [
    "# 二十一点 Blackjack-v0"
   ]
  },
  {
   "cell_type": "code",
   "execution_count": 1,
   "id": "9be1d835",
   "metadata": {},
   "outputs": [],
   "source": [
    "%matplotlib inline\n",
    "import numpy as np\n",
    "np.random.seed(0)\n",
    "import matplotlib.pyplot as plt\n",
    "import gym"
   ]
  },
  {
   "cell_type": "code",
   "execution_count": 4,
   "id": "8382e510",
   "metadata": {},
   "outputs": [
    {
     "name": "stdout",
     "output_type": "stream",
     "text": [
      "观察空间 = Tuple(Discrete(32), Discrete(11), Discrete(2))\n",
      "动作空间 = Discrete(2)\n",
      "动作数量 = 2\n"
     ]
    }
   ],
   "source": [
    "env = gym.make(\"Blackjack-v1\")\n",
    "\n",
    "print('观察空间 = {}'.format(env.observation_space))\n",
    "print('动作空间 = {}'.format(env.action_space))\n",
    "print('动作数量 = {}'.format(env.action_space.n))"
   ]
  },
  {
   "cell_type": "code",
   "execution_count": null,
   "id": "b8bfe6a7",
   "metadata": {},
   "outputs": [],
   "source": []
  },
  {
   "cell_type": "code",
   "execution_count": null,
   "id": "26178c4a",
   "metadata": {},
   "outputs": [],
   "source": []
  }
 ],
 "metadata": {
  "kernelspec": {
   "display_name": "Python 3 (ipykernel)",
   "language": "python",
   "name": "python3"
  },
  "language_info": {
   "codemirror_mode": {
    "name": "ipython",
    "version": 3
   },
   "file_extension": ".py",
   "mimetype": "text/x-python",
   "name": "python",
   "nbconvert_exporter": "python",
   "pygments_lexer": "ipython3",
   "version": "3.9.14"
  }
 },
 "nbformat": 4,
 "nbformat_minor": 5
}
