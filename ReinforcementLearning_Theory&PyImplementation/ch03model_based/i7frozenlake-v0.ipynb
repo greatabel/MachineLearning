{
 "cells": [
  {
   "cell_type": "code",
   "execution_count": 1,
   "id": "11d47c4d",
   "metadata": {},
   "outputs": [
    {
     "name": "stdout",
     "output_type": "stream",
     "text": [
      "观察空间 = Discrete(16)\n",
      "动作空间 = Discrete(4)\n",
      "观测空间大小 = 16\n",
      "动作空间大小 = 4\n"
     ]
    },
    {
     "data": {
      "text/plain": [
       "[(0.3333333333333333, 14, 0.0, False),\n",
       " (0.3333333333333333, 15, 1.0, True),\n",
       " (0.3333333333333333, 10, 0.0, False)]"
      ]
     },
     "execution_count": 1,
     "metadata": {},
     "output_type": "execute_result"
    }
   ],
   "source": [
    "\n",
    "import numpy as np\n",
    "import gym\n",
    "\n",
    "\n",
    "np.random.seed(0)\n",
    "env = gym.make('FrozenLake-v1', render_mode='ansi')\n",
    "\n",
    "print('观察空间 = {}'.format(env.observation_space))\n",
    "print('动作空间 = {}'.format(env.action_space))\n",
    "print('观测空间大小 = {}'.format(env.observation_space.n))\n",
    "print('动作空间大小 = {}'.format(env.action_space.n))\n",
    "\n",
    "# 查看特定状态和动作下的转移概率\n",
    "env.unwrapped.P[14][2]\n",
    "\n",
    "\n",
    "\n",
    "\n",
    "\n",
    "\n"
   ]
  },
  {
   "cell_type": "code",
   "execution_count": 2,
   "id": "595cee6c",
   "metadata": {},
   "outputs": [],
   "source": [
    "from IPython.display import clear_output\n",
    "import time\n",
    "\n",
    "def play_policy(env, policy, render=False):\n",
    "    total_reward = 0.\n",
    "    observation = env.reset()\n",
    "    state = observation[0] if isinstance(observation, tuple) else observation  # 状态解析\n",
    "    while True:\n",
    "        if render:\n",
    "            rendered = env.render()  # 使用 ansi 模式渲染并获取返回值\n",
    "            clear_output(wait=True)\n",
    "            print(rendered)  # 打印渲染的输出\n",
    "            time.sleep(0.1)  # 暂停一段时间以便观察\n",
    "        action = np.random.choice(env.action_space.n, p=policy[state])\n",
    "        r = env.step(action)\n",
    "        # print('r=', r)\n",
    "        observation, reward, done, _, _ = r\n",
    "        state = observation[0] if isinstance(observation, tuple) else observation  # 更新状态\n",
    "        total_reward += reward\n",
    "        if done:\n",
    "            break\n",
    "    return total_reward"
   ]
  },
  {
   "cell_type": "code",
   "execution_count": null,
   "id": "1140801e",
   "metadata": {},
   "outputs": [
    {
     "name": "stdout",
     "output_type": "stream",
     "text": [
      "  (Left)\n",
      "SFFF\n",
      "\u001b[41mF\u001b[0mHFH\n",
      "FFFH\n",
      "HFFG\n",
      "\n"
     ]
    }
   ],
   "source": [
    "# 随机策略\n",
    "random_policy = np.ones((env.observation_space.n, env.action_space.n)) / env.action_space.n\n",
    "\n",
    "episode_rewards = [play_policy(env, random_policy, True) for _ in range(100)]\n",
    "print(\"随机策略 平均奖励：{}\".format(np.mean(episode_rewards)))\n"
   ]
  },
  {
   "cell_type": "code",
   "execution_count": null,
   "id": "99ef825c",
   "metadata": {},
   "outputs": [],
   "source": []
  },
  {
   "cell_type": "code",
   "execution_count": null,
   "id": "9a8998fb",
   "metadata": {},
   "outputs": [],
   "source": []
  }
 ],
 "metadata": {
  "kernelspec": {
   "display_name": "Python 3 (ipykernel)",
   "language": "python",
   "name": "python3"
  },
  "language_info": {
   "codemirror_mode": {
    "name": "ipython",
    "version": 3
   },
   "file_extension": ".py",
   "mimetype": "text/x-python",
   "name": "python",
   "nbconvert_exporter": "python",
   "pygments_lexer": "ipython3",
   "version": "3.9.14"
  }
 },
 "nbformat": 4,
 "nbformat_minor": 5
}
