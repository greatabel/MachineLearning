{
 "cells": [
  {
   "cell_type": "code",
   "execution_count": 10,
   "id": "11d47c4d",
   "metadata": {},
   "outputs": [
    {
     "name": "stdout",
     "output_type": "stream",
     "text": [
      "观察空间 = Discrete(16)\n",
      "动作空间 = Discrete(4)\n",
      "观测空间大小 = 16\n",
      "动作空间大小 = 4\n",
      "env.unwrapped.P[14][2]= [(0.3333333333333333, 14, 0.0, False), (0.3333333333333333, 15, 1.0, True), (0.3333333333333333, 10, 0.0, False)]\n",
      "\n",
      "转移概率：执行这个动作后转移到新状态的概率。\n",
      "新状态：如果执行这个动作，可能到达的新状态。\n",
      "奖励：执行这个动作后获得的即时奖励。\n",
      "是否终止：这个新状态是否是终止状态（游戏结束）\n",
      "\n"
     ]
    }
   ],
   "source": [
    "\n",
    "import numpy as np\n",
    "import gym\n",
    "\n",
    "\n",
    "np.random.seed(0)\n",
    "env = gym.make('FrozenLake-v1', render_mode='ansi')\n",
    "\n",
    "print('观察空间 = {}'.format(env.observation_space))\n",
    "print('动作空间 = {}'.format(env.action_space))\n",
    "print('观测空间大小 = {}'.format(env.observation_space.n))\n",
    "print('动作空间大小 = {}'.format(env.action_space.n))\n",
    "\n",
    "# 查看特定状态和动作下的转移概率\n",
    "print(\n",
    "    'env.unwrapped.P[14][2]=',\n",
    "    env.unwrapped.P[14][2]\n",
    ")\n",
    "\n",
    "print('''\n",
    "转移概率：执行这个动作后转移到新状态的概率。\n",
    "新状态：如果执行这个动作，可能到达的新状态。\n",
    "奖励：执行这个动作后获得的即时奖励。\n",
    "是否终止：这个新状态是否是终止状态（游戏结束）\n",
    "''')\n",
    "\n",
    "\n",
    "\n",
    "\n"
   ]
  },
  {
   "cell_type": "code",
   "execution_count": 40,
   "id": "595cee6c",
   "metadata": {},
   "outputs": [],
   "source": [
    "from IPython.display import clear_output\n",
    "import time\n",
    "\n",
    "def play_policy(env, policy, render=False):\n",
    "    total_reward = 0.\n",
    "    observation = env.reset()\n",
    "    state = observation[0] if isinstance(observation, tuple) else observation  # 状态解析\n",
    "    while True:\n",
    "        if render:\n",
    "            rendered = env.render()  # 使用 ansi 模式渲染并获取返回值\n",
    "            clear_output(wait=True)\n",
    "            print(rendered)  # 打印渲染的输出\n",
    "            time.sleep(0.001)  # 暂停一段时间以便观察\n",
    "        action = np.random.choice(env.action_space.n, p=policy[state])\n",
    "        r = env.step(action)\n",
    "        # print('r=', r)\n",
    "        observation, reward, done, _, _ = r\n",
    "        state = observation[0] if isinstance(observation, tuple) else observation  # 更新状态\n",
    "        total_reward += reward\n",
    "        if done:\n",
    "            break\n",
    "    return total_reward"
   ]
  },
  {
   "cell_type": "code",
   "execution_count": 41,
   "id": "1140801e",
   "metadata": {},
   "outputs": [
    {
     "name": "stdout",
     "output_type": "stream",
     "text": [
      "  (Left)\n",
      "SFFF\n",
      "FHFH\n",
      "\u001b[41mF\u001b[0mFFH\n",
      "HFFG\n",
      "\n",
      "随机策略 平均奖励：0.01\n"
     ]
    }
   ],
   "source": [
    "# 随机策略\n",
    "random_policy = np.ones((env.observation_space.n, env.action_space.n)) / env.action_space.n\n",
    "\n",
    "episode_rewards = [play_policy(env, random_policy, True) for _ in range(100)]\n",
    "print(\"随机策略 平均奖励：{}\".format(np.mean(episode_rewards)))\n"
   ]
  },
  {
   "cell_type": "markdown",
   "id": "a3ac1c11",
   "metadata": {},
   "source": [
    "# 其中 S 表示起点，F 表示冰面，H 表示坑洞，G 表示目标\n",
    "## 尝试达到目标位置 G 而避免掉入坑洞 H"
   ]
  },
  {
   "cell_type": "markdown",
   "id": "5b2db387",
   "metadata": {},
   "source": [
    "### 策略评估"
   ]
  },
  {
   "cell_type": "code",
   "execution_count": 42,
   "id": "9a8998fb",
   "metadata": {},
   "outputs": [],
   "source": [
    "def v2q(env, v, s=None, gamma=1.): # 根据状态价值函数计算动作价值函数\n",
    "    if s is not None: # 针对单个状态求解\n",
    "        q = np.zeros(env.action_space.n)\n",
    "        for a in range(env.action_space.n):\n",
    "            for prob, next_state, reward, done in env.unwrapped.P[s][a]:\n",
    "                q[a] += prob * \\\n",
    "                        (reward + gamma * v[next_state] * (1. - done))\n",
    "    else: # 针对所有状态求解\n",
    "        q = np.zeros((env.observation_space.n, env.action_space.n))\n",
    "        for s in range(env.observation_space.n):\n",
    "            q[s] = v2q(env, v, s, gamma)\n",
    "    return q\n",
    "\n",
    "def evaluate_policy(env, policy, gamma=1., tolerant=1e-6):\n",
    "    v = np.zeros(env.observation_space.n) # 初始化状态价值函数\n",
    "    while True: # 循环\n",
    "        delta = 0\n",
    "        for s in range(env.observation_space.n):\n",
    "            vs = sum(policy[s] * v2q(env, v, s, gamma)) # 更新状态价值函数\n",
    "            delta = max(delta, abs(v[s]-vs)) # 更新最大误差\n",
    "            v[s] = vs # 更新状态价值函数\n",
    "        if delta < tolerant: # 查看是否满足迭代条件\n",
    "            break\n",
    "    return v"
   ]
  },
  {
   "cell_type": "code",
   "execution_count": 43,
   "id": "b4386b55",
   "metadata": {},
   "outputs": [
    {
     "name": "stdout",
     "output_type": "stream",
     "text": [
      "状态价值函数：\n",
      "[[0.0139372  0.01162942 0.02095187 0.01047569]\n",
      " [0.01624741 0.         0.04075119 0.        ]\n",
      " [0.03480561 0.08816967 0.14205297 0.        ]\n",
      " [0.         0.17582021 0.43929104 0.        ]]\n",
      "动作价值函数：\n",
      "[[0.01470727 0.01393801 0.01393801 0.01316794]\n",
      " [0.00852221 0.01162969 0.01086043 0.01550616]\n",
      " [0.02444416 0.0209521  0.02405958 0.01435233]\n",
      " [0.01047585 0.01047585 0.00698379 0.01396775]\n",
      " [0.02166341 0.01701767 0.0162476  0.01006154]\n",
      " [0.         0.         0.         0.        ]\n",
      " [0.05433495 0.04735099 0.05433495 0.00698396]\n",
      " [0.         0.         0.         0.        ]\n",
      " [0.01701767 0.04099176 0.03480569 0.04640756]\n",
      " [0.0702086  0.11755959 0.10595772 0.05895286]\n",
      " [0.18940397 0.17582024 0.16001408 0.04297362]\n",
      " [0.         0.         0.         0.        ]\n",
      " [0.         0.         0.         0.        ]\n",
      " [0.08799662 0.20503708 0.23442697 0.17582024]\n",
      " [0.25238807 0.53837042 0.52711467 0.43929106]\n",
      " [0.         0.         0.         0.        ]]\n"
     ]
    }
   ],
   "source": [
    "print('状态价值函数：')\n",
    "v_random = evaluate_policy(env, random_policy)\n",
    "print(v_random.reshape(4, 4))\n",
    "\n",
    "print('动作价值函数：')\n",
    "q_random = v2q(env, v_random)\n",
    "print(q_random)"
   ]
  },
  {
   "cell_type": "markdown",
   "id": "eec8bb2d",
   "metadata": {},
   "source": [
    "### 策略改进"
   ]
  },
  {
   "cell_type": "code",
   "execution_count": 44,
   "id": "f9503513",
   "metadata": {},
   "outputs": [],
   "source": [
    "def improve_policy(env, v, policy, gamma=1.):\n",
    "    optimal = True\n",
    "    for s in range(env.observation_space.n):\n",
    "        q = v2q(env, v, s, gamma)\n",
    "        a = np.argmax(q)\n",
    "        if policy[s][a] != 1.:\n",
    "            optimal = False\n",
    "            policy[s] = 0.\n",
    "            policy[s][a] = 1.\n",
    "    return optimal"
   ]
  },
  {
   "cell_type": "code",
   "execution_count": 45,
   "id": "c1e278c4",
   "metadata": {},
   "outputs": [
    {
     "name": "stdout",
     "output_type": "stream",
     "text": [
      "有更新，更新后的策略为：\n",
      "[[1. 0. 0. 0.]\n",
      " [0. 0. 0. 1.]\n",
      " [1. 0. 0. 0.]\n",
      " [0. 0. 0. 1.]\n",
      " [1. 0. 0. 0.]\n",
      " [1. 0. 0. 0.]\n",
      " [1. 0. 0. 0.]\n",
      " [1. 0. 0. 0.]\n",
      " [0. 0. 0. 1.]\n",
      " [0. 1. 0. 0.]\n",
      " [1. 0. 0. 0.]\n",
      " [1. 0. 0. 0.]\n",
      " [1. 0. 0. 0.]\n",
      " [0. 0. 1. 0.]\n",
      " [0. 1. 0. 0.]\n",
      " [1. 0. 0. 0.]]\n"
     ]
    }
   ],
   "source": [
    "policy = random_policy.copy()\n",
    "optimal = improve_policy(env, v_random, policy)\n",
    "if optimal:\n",
    "    print('无更新，最优策略为：')\n",
    "else:\n",
    "    print('有更新，更新后的策略为：')\n",
    "print(policy)"
   ]
  },
  {
   "cell_type": "code",
   "execution_count": 46,
   "id": "7dcf8fb9",
   "metadata": {},
   "outputs": [
    {
     "name": "stdout",
     "output_type": "stream",
     "text": [
      "状态价值函数 =\n",
      "[[0.82351246 0.82350689 0.82350303 0.82350106]\n",
      " [0.82351416 0.         0.5294002  0.        ]\n",
      " [0.82351683 0.82352026 0.76469786 0.        ]\n",
      " [0.         0.88234658 0.94117323 0.        ]]\n",
      "最优策略 =\n",
      "[[0 3 3 3]\n",
      " [0 0 0 0]\n",
      " [3 1 0 0]\n",
      " [0 2 1 0]]\n"
     ]
    }
   ],
   "source": [
    "# 策略迭代\n",
    "def iterate_policy(env, gamma=1., tolerant=1e-6):\n",
    "     # 初始化为任意一个策略\n",
    "    policy = np.ones((env.observation_space.n, env.action_space.n)) \\\n",
    "            / env.action_space.n\n",
    "    while True:\n",
    "        v = evaluate_policy(env, policy, gamma, tolerant) # 策略评估\n",
    "        if improve_policy(env, v, policy): # 策略改进\n",
    "            break\n",
    "    return policy, v\n",
    "\n",
    "policy_pi, v_pi = iterate_policy(env)\n",
    "print('状态价值函数 =')\n",
    "print(v_pi.reshape(4, 4))\n",
    "print('最优策略 =')\n",
    "print(np.argmax(policy_pi, axis=1).reshape(4, 4))"
   ]
  },
  {
   "cell_type": "code",
   "execution_count": 47,
   "id": "c1f2ad3b",
   "metadata": {},
   "outputs": [
    {
     "name": "stdout",
     "output_type": "stream",
     "text": [
      "策略迭代 平均奖励：0.83\n"
     ]
    }
   ],
   "source": [
    "#测试策略\n",
    "episode_rewards = [play_policy(env, policy_pi)  for _ in range(100)]\n",
    "print(\"策略迭代 平均奖励：{}\".format(np.mean(episode_rewards)))"
   ]
  },
  {
   "cell_type": "markdown",
   "id": "8983070b",
   "metadata": {},
   "source": [
    "### 价值迭代\n"
   ]
  },
  {
   "cell_type": "code",
   "execution_count": 48,
   "id": "c8864bbb",
   "metadata": {},
   "outputs": [
    {
     "name": "stdout",
     "output_type": "stream",
     "text": [
      "状态价值函数 =\n",
      "[[0.82351232 0.82350671 0.82350281 0.82350083]\n",
      " [0.82351404 0.         0.52940011 0.        ]\n",
      " [0.82351673 0.82352018 0.76469779 0.        ]\n",
      " [0.         0.88234653 0.94117321 0.        ]]\n",
      "最优策略 =\n",
      "[[0 3 3 3]\n",
      " [0 0 0 0]\n",
      " [3 1 0 0]\n",
      " [0 2 1 0]]\n"
     ]
    }
   ],
   "source": [
    "def iterate_value(env, gamma=1, tolerant=1e-6):\n",
    "    v = np.zeros(env.observation_space.n) # 初始化\n",
    "    while True:\n",
    "        delta = 0\n",
    "        for s in range(env.observation_space.n):\n",
    "            vmax = max(v2q(env, v, s, gamma)) # 更新价值函数\n",
    "            delta = max(delta, abs(v[s]-vmax))\n",
    "            v[s] = vmax\n",
    "        if delta < tolerant: # 满足迭代需求\n",
    "            break\n",
    "            \n",
    "    policy = np.zeros((env.observation_space.n, env.action_space.n)) # 计算最优策略\n",
    "    for s in range(env.observation_space.n):\n",
    "        a = np.argmax(v2q(env, v, s, gamma))\n",
    "        policy[s][a] = 1.\n",
    "    return policy, v\n",
    "\n",
    "policy_vi, v_vi = iterate_value(env)\n",
    "print('状态价值函数 =')\n",
    "print(v_vi.reshape(4, 4))\n",
    "print('最优策略 =')\n",
    "print(np.argmax(policy_vi, axis=1).reshape(4, 4))"
   ]
  },
  {
   "cell_type": "code",
   "execution_count": 49,
   "id": "ad65cc92",
   "metadata": {},
   "outputs": [
    {
     "name": "stdout",
     "output_type": "stream",
     "text": [
      "  (Left)\n",
      "SFFF\n",
      "FH\u001b[41mF\u001b[0mH\n",
      "FFFH\n",
      "HFFG\n",
      "\n",
      "价值迭代 平均奖励：0.77\n"
     ]
    }
   ],
   "source": [
    "# 测试策略\n",
    "episode_rewards = [play_policy(env, policy_vi, True) for _ in range(100)]\n",
    "print(\"价值迭代 平均奖励：{}\".format(np.mean(episode_rewards)))"
   ]
  },
  {
   "cell_type": "code",
   "execution_count": null,
   "id": "51e9793d",
   "metadata": {},
   "outputs": [],
   "source": []
  },
  {
   "cell_type": "code",
   "execution_count": null,
   "id": "92d572a0",
   "metadata": {},
   "outputs": [],
   "source": []
  }
 ],
 "metadata": {
  "kernelspec": {
   "display_name": "Python 3 (ipykernel)",
   "language": "python",
   "name": "python3"
  },
  "language_info": {
   "codemirror_mode": {
    "name": "ipython",
    "version": 3
   },
   "file_extension": ".py",
   "mimetype": "text/x-python",
   "name": "python",
   "nbconvert_exporter": "python",
   "pygments_lexer": "ipython3",
   "version": "3.9.14"
  }
 },
 "nbformat": 4,
 "nbformat_minor": 5
}
