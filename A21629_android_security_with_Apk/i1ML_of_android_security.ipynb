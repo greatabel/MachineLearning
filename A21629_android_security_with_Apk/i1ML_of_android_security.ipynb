{
 "cells": [
  {
   "cell_type": "markdown",
   "metadata": {
    "colab": {},
    "colab_type": "code",
    "id": "d62XgEmMFey3"
   },
   "source": [
    "# android security dataset Machine learning anlysis"
   ]
  },
  {
   "cell_type": "markdown",
   "metadata": {
    "colab_type": "text",
    "id": "L2D554VlFsiS"
   },
   "source": [
    "# Import the required library"
   ]
  },
  {
   "cell_type": "code",
   "execution_count": 49,
   "metadata": {},
   "outputs": [],
   "source": [
    "import os\n",
    "import shutil\n",
    "import pandas as pd\n",
    "import sklearn\n",
    "import pickle\n",
    "from sklearn.neighbors import KNeighborsClassifier\n",
    "from sklearn.linear_model import LogisticRegression\n",
    "\n",
    "from sklearn.svm import SVC\n",
    "from sklearn.model_selection import train_test_split, GridSearchCV\n",
    "from sklearn.metrics import classification_report, confusion_matrix \n",
    "from androguard.core.bytecodes.apk import APK\n",
    "from keras.models import Sequential, Model\n",
    "from keras.layers import Dense, Dropout, Activation, Embedding, LSTM\n",
    "from sklearn.model_selection import train_test_split\n",
    "from sklearn.metrics import classification_report, confusion_matrix \n",
    "\n",
    "import numpy as np\n",
    "from sklearn.preprocessing import LabelEncoder\n",
    "from matplotlib import pyplot as plt\n",
    "from keras.utils.vis_utils import plot_model\n",
    "\n",
    "dataset_df = pd.read_csv('CICInvesAndMal2019/preprocessed_android_dataset.csv', index_col=False)  "
   ]
  },
  {
   "cell_type": "markdown",
   "metadata": {
    "colab_type": "text",
    "id": "qKNvlHaQOLvH"
   },
   "source": [
    "# partI: Traditional Machine Learning Models"
   ]
  },
  {
   "cell_type": "code",
   "execution_count": 50,
   "metadata": {
    "colab": {},
    "colab_type": "code",
    "id": "gsCl3ke2Yp8f"
   },
   "outputs": [],
   "source": [
    "\n",
    "Y = dataset_df['class']\n",
    "X = dataset_df.drop(['class'], axis=1)\n",
    "\n",
    "X_train, X_test, y_train, y_test = train_test_split(X, Y, test_size=0.2)"
   ]
  },
  {
   "cell_type": "code",
   "execution_count": 65,
   "metadata": {},
   "outputs": [
    {
     "name": "stdout",
     "output_type": "stream",
     "text": [
      "['malign' 'benign' 'benign' 'malign' 'benign' 'malign' 'malign' 'benign'\n",
      " 'malign' 'malign' 'benign' 'benign' 'malign' 'malign' 'malign' 'malign'\n",
      " 'benign' 'malign' 'malign' 'malign' 'malign' 'benign' 'benign' 'malign'\n",
      " 'benign' 'benign' 'benign' 'benign' 'malign' 'malign' 'benign' 'benign'\n",
      " 'benign' 'benign' 'benign' 'malign' 'benign' 'malign' 'benign' 'malign'\n",
      " 'malign' 'benign' 'malign' 'benign' 'benign' 'malign' 'benign' 'benign'\n",
      " 'malign' 'malign' 'malign' 'malign' 'benign' 'benign' 'benign' 'malign'\n",
      " 'malign' 'benign' 'benign' 'benign' 'benign' 'benign' 'benign' 'benign'\n",
      " 'benign' 'benign' 'benign' 'malign' 'benign' 'malign' 'benign' 'benign'\n",
      " 'malign' 'benign' 'malign' 'benign' 'benign' 'malign' 'benign' 'benign'\n",
      " 'benign' 'benign' 'malign' 'benign' 'benign' 'benign' 'benign' 'benign'\n",
      " 'benign' 'malign' 'malign' 'malign' 'malign' 'benign' 'benign' 'benign'\n",
      " 'benign' 'malign' 'benign' 'malign' 'malign' 'benign' 'benign' 'malign'\n",
      " 'benign' 'malign' 'benign' 'benign' 'benign' 'malign' 'benign' 'benign'\n",
      " 'malign' 'benign' 'benign' 'benign' 'benign' 'benign' 'benign' 'benign'\n",
      " 'benign' 'benign' 'malign' 'malign' 'benign' 'malign' 'malign' 'benign'\n",
      " 'benign' 'benign' 'benign' 'benign' 'malign' 'benign' 'malign' 'benign']\n"
     ]
    }
   ],
   "source": [
    "KNN_model = KNeighborsClassifier(n_neighbors=8)\n",
    "KNN_model.fit(X_train, y_train)\n",
    "KNN_predictions  = KNN_model.predict(X_test)\n",
    "print(KNN_predictions)"
   ]
  },
  {
   "cell_type": "code",
   "execution_count": 66,
   "metadata": {},
   "outputs": [
    {
     "name": "stdout",
     "output_type": "stream",
     "text": [
      "partt1.1:KNN 结果\n",
      "----------------------------------------\n",
      "              precision    recall  f1-score   support\n",
      "\n",
      "      benign       0.85      0.89      0.87        80\n",
      "      malign       0.83      0.77      0.80        56\n",
      "\n",
      "    accuracy                           0.84       136\n",
      "   macro avg       0.84      0.83      0.83       136\n",
      "weighted avg       0.84      0.84      0.84       136\n",
      "\n"
     ]
    }
   ],
   "source": [
    "print('partt1.1:KNN result')\n",
    "print('-'*40)\n",
    "print(classification_report(y_test, KNN_predictions)) "
   ]
  },
  {
   "cell_type": "code",
   "execution_count": 67,
   "metadata": {},
   "outputs": [
    {
     "name": "stdout",
     "output_type": "stream",
     "text": [
      "['malign' 'benign' 'benign' 'malign' 'benign' 'malign' 'malign' 'benign'\n",
      " 'malign' 'malign' 'benign' 'benign' 'malign' 'malign' 'malign' 'malign'\n",
      " 'benign' 'malign' 'malign' 'malign' 'malign' 'benign' 'benign' 'malign'\n",
      " 'benign' 'benign' 'benign' 'malign' 'malign' 'malign' 'benign' 'benign'\n",
      " 'benign' 'benign' 'malign' 'malign' 'benign' 'malign' 'benign' 'malign'\n",
      " 'malign' 'malign' 'malign' 'benign' 'benign' 'malign' 'benign' 'benign'\n",
      " 'malign' 'malign' 'malign' 'benign' 'malign' 'benign' 'benign' 'malign'\n",
      " 'malign' 'benign' 'benign' 'benign' 'benign' 'malign' 'benign' 'benign'\n",
      " 'benign' 'benign' 'benign' 'malign' 'benign' 'malign' 'benign' 'benign'\n",
      " 'malign' 'benign' 'malign' 'benign' 'benign' 'malign' 'benign' 'benign'\n",
      " 'benign' 'benign' 'malign' 'benign' 'benign' 'benign' 'malign' 'benign'\n",
      " 'malign' 'malign' 'malign' 'malign' 'malign' 'benign' 'benign' 'malign'\n",
      " 'benign' 'malign' 'benign' 'malign' 'malign' 'benign' 'malign' 'malign'\n",
      " 'benign' 'malign' 'benign' 'benign' 'benign' 'malign' 'malign' 'benign'\n",
      " 'benign' 'malign' 'malign' 'benign' 'benign' 'benign' 'benign' 'benign'\n",
      " 'benign' 'benign' 'malign' 'malign' 'malign' 'malign' 'benign' 'benign'\n",
      " 'benign' 'benign' 'benign' 'benign' 'malign' 'malign' 'malign' 'benign']\n"
     ]
    }
   ],
   "source": [
    "LG_model = LogisticRegression()\n",
    "LG_model.fit(X_train, y_train)\n",
    "LG_predictions  = LG_model.predict(X_test)\n",
    "print(LG_predictions)"
   ]
  },
  {
   "cell_type": "code",
   "execution_count": 68,
   "metadata": {},
   "outputs": [
    {
     "name": "stdout",
     "output_type": "stream",
     "text": [
      "partt1.2:LR 结果\n",
      "----------------------------------------\n",
      "              precision    recall  f1-score   support\n",
      "\n",
      "      benign       0.92      0.84      0.88        80\n",
      "      malign       0.79      0.89      0.84        56\n",
      "\n",
      "    accuracy                           0.86       136\n",
      "   macro avg       0.86      0.87      0.86       136\n",
      "weighted avg       0.87      0.86      0.86       136\n",
      "\n"
     ]
    }
   ],
   "source": [
    "print('partt1.2:LR result')\n",
    "print('-'*40)\n",
    "print(classification_report(y_test, LG_predictions)) "
   ]
  },
  {
   "cell_type": "code",
   "execution_count": 64,
   "metadata": {
    "colab": {
     "base_uri": "https://localhost:8080/",
     "height": 1000
    },
    "colab_type": "code",
    "id": "rStd0GwzYrjG",
    "outputId": "ccd07d61-24d0-42a6-a99f-0fd1cfe79b0d"
   },
   "outputs": [
    {
     "name": "stdout",
     "output_type": "stream",
     "text": [
      "定义参数范围\n",
      "Fitting 5 folds for each of 25 candidates, totalling 125 fits\n",
      "[CV 1/5] END ........C=0.1, gamma=1, kernel=rbf;, score=0.602 total time=   0.1s\n",
      "[CV 2/5] END ........C=0.1, gamma=1, kernel=rbf;, score=0.593 total time=   0.1s\n",
      "[CV 3/5] END ........C=0.1, gamma=1, kernel=rbf;, score=0.593 total time=   0.0s\n",
      "[CV 4/5] END ........C=0.1, gamma=1, kernel=rbf;, score=0.593 total time=   0.1s\n",
      "[CV 5/5] END ........C=0.1, gamma=1, kernel=rbf;, score=0.602 total time=   0.0s\n",
      "[CV 1/5] END ......C=0.1, gamma=0.1, kernel=rbf;, score=0.815 total time=   0.0s\n",
      "[CV 2/5] END ......C=0.1, gamma=0.1, kernel=rbf;, score=0.769 total time=   0.0s\n",
      "[CV 3/5] END ......C=0.1, gamma=0.1, kernel=rbf;, score=0.833 total time=   0.0s\n",
      "[CV 4/5] END ......C=0.1, gamma=0.1, kernel=rbf;, score=0.787 total time=   0.0s\n",
      "[CV 5/5] END ......C=0.1, gamma=0.1, kernel=rbf;, score=0.824 total time=   0.0s\n",
      "[CV 1/5] END .....C=0.1, gamma=0.01, kernel=rbf;, score=0.796 total time=   0.0s\n",
      "[CV 2/5] END .....C=0.1, gamma=0.01, kernel=rbf;, score=0.750 total time=   0.0s\n",
      "[CV 3/5] END .....C=0.1, gamma=0.01, kernel=rbf;, score=0.796 total time=   0.0s\n",
      "[CV 4/5] END .....C=0.1, gamma=0.01, kernel=rbf;, score=0.778 total time=   0.0s\n",
      "[CV 5/5] END .....C=0.1, gamma=0.01, kernel=rbf;, score=0.824 total time=   0.0s\n",
      "[CV 1/5] END ....C=0.1, gamma=0.001, kernel=rbf;, score=0.528 total time=   0.0s\n",
      "[CV 2/5] END ....C=0.1, gamma=0.001, kernel=rbf;, score=0.528 total time=   0.0s\n",
      "[CV 3/5] END ....C=0.1, gamma=0.001, kernel=rbf;, score=0.519 total time=   0.0s\n",
      "[CV 4/5] END ....C=0.1, gamma=0.001, kernel=rbf;, score=0.519 total time=   0.0s\n",
      "[CV 5/5] END ....C=0.1, gamma=0.001, kernel=rbf;, score=0.519 total time=   0.0s\n",
      "[CV 1/5] END ...C=0.1, gamma=0.0001, kernel=rbf;, score=0.528 total time=   0.0s\n",
      "[CV 2/5] END ...C=0.1, gamma=0.0001, kernel=rbf;, score=0.528 total time=   0.0s\n",
      "[CV 3/5] END ...C=0.1, gamma=0.0001, kernel=rbf;, score=0.519 total time=   0.0s\n",
      "[CV 4/5] END ...C=0.1, gamma=0.0001, kernel=rbf;, score=0.519 total time=   0.1s\n",
      "[CV 5/5] END ...C=0.1, gamma=0.0001, kernel=rbf;, score=0.519 total time=   0.1s\n",
      "[CV 1/5] END ..........C=1, gamma=1, kernel=rbf;, score=0.824 total time=   0.0s\n",
      "[CV 2/5] END ..........C=1, gamma=1, kernel=rbf;, score=0.852 total time=   0.0s\n",
      "[CV 3/5] END ..........C=1, gamma=1, kernel=rbf;, score=0.806 total time=   0.0s\n",
      "[CV 4/5] END ..........C=1, gamma=1, kernel=rbf;, score=0.778 total time=   0.0s\n",
      "[CV 5/5] END ..........C=1, gamma=1, kernel=rbf;, score=0.796 total time=   0.0s\n",
      "[CV 1/5] END ........C=1, gamma=0.1, kernel=rbf;, score=0.880 total time=   0.0s\n",
      "[CV 2/5] END ........C=1, gamma=0.1, kernel=rbf;, score=0.787 total time=   0.0s\n",
      "[CV 3/5] END ........C=1, gamma=0.1, kernel=rbf;, score=0.889 total time=   0.0s\n",
      "[CV 4/5] END ........C=1, gamma=0.1, kernel=rbf;, score=0.806 total time=   0.0s\n",
      "[CV 5/5] END ........C=1, gamma=0.1, kernel=rbf;, score=0.833 total time=   0.0s\n",
      "[CV 1/5] END .......C=1, gamma=0.01, kernel=rbf;, score=0.833 total time=   0.0s\n",
      "[CV 2/5] END .......C=1, gamma=0.01, kernel=rbf;, score=0.778 total time=   0.0s\n",
      "[CV 3/5] END .......C=1, gamma=0.01, kernel=rbf;, score=0.889 total time=   0.0s\n",
      "[CV 4/5] END .......C=1, gamma=0.01, kernel=rbf;, score=0.778 total time=   0.0s\n",
      "[CV 5/5] END .......C=1, gamma=0.01, kernel=rbf;, score=0.833 total time=   0.0s\n",
      "[CV 1/5] END ......C=1, gamma=0.001, kernel=rbf;, score=0.778 total time=   0.0s\n",
      "[CV 2/5] END ......C=1, gamma=0.001, kernel=rbf;, score=0.750 total time=   0.0s\n",
      "[CV 3/5] END ......C=1, gamma=0.001, kernel=rbf;, score=0.852 total time=   0.0s\n",
      "[CV 4/5] END ......C=1, gamma=0.001, kernel=rbf;, score=0.731 total time=   0.0s\n",
      "[CV 5/5] END ......C=1, gamma=0.001, kernel=rbf;, score=0.815 total time=   0.0s\n",
      "[CV 1/5] END .....C=1, gamma=0.0001, kernel=rbf;, score=0.528 total time=   0.0s\n",
      "[CV 2/5] END .....C=1, gamma=0.0001, kernel=rbf;, score=0.528 total time=   0.1s\n",
      "[CV 3/5] END .....C=1, gamma=0.0001, kernel=rbf;, score=0.519 total time=   0.0s\n",
      "[CV 4/5] END .....C=1, gamma=0.0001, kernel=rbf;, score=0.519 total time=   0.0s\n",
      "[CV 5/5] END .....C=1, gamma=0.0001, kernel=rbf;, score=0.519 total time=   0.0s\n",
      "[CV 1/5] END .........C=10, gamma=1, kernel=rbf;, score=0.833 total time=   0.0s\n",
      "[CV 2/5] END .........C=10, gamma=1, kernel=rbf;, score=0.870 total time=   0.0s\n",
      "[CV 3/5] END .........C=10, gamma=1, kernel=rbf;, score=0.796 total time=   0.0s\n",
      "[CV 4/5] END .........C=10, gamma=1, kernel=rbf;, score=0.778 total time=   0.0s\n",
      "[CV 5/5] END .........C=10, gamma=1, kernel=rbf;, score=0.806 total time=   0.0s\n",
      "[CV 1/5] END .......C=10, gamma=0.1, kernel=rbf;, score=0.806 total time=   0.0s\n",
      "[CV 2/5] END .......C=10, gamma=0.1, kernel=rbf;, score=0.843 total time=   0.0s\n",
      "[CV 3/5] END .......C=10, gamma=0.1, kernel=rbf;, score=0.870 total time=   0.0s\n",
      "[CV 4/5] END .......C=10, gamma=0.1, kernel=rbf;, score=0.870 total time=   0.0s\n",
      "[CV 5/5] END .......C=10, gamma=0.1, kernel=rbf;, score=0.861 total time=   0.0s\n",
      "[CV 1/5] END ......C=10, gamma=0.01, kernel=rbf;, score=0.861 total time=   0.0s\n",
      "[CV 2/5] END ......C=10, gamma=0.01, kernel=rbf;, score=0.778 total time=   0.0s\n",
      "[CV 3/5] END ......C=10, gamma=0.01, kernel=rbf;, score=0.880 total time=   0.0s\n",
      "[CV 4/5] END ......C=10, gamma=0.01, kernel=rbf;, score=0.796 total time=   0.0s\n",
      "[CV 5/5] END ......C=10, gamma=0.01, kernel=rbf;, score=0.852 total time=   0.0s\n",
      "[CV 1/5] END .....C=10, gamma=0.001, kernel=rbf;, score=0.833 total time=   0.0s\n",
      "[CV 2/5] END .....C=10, gamma=0.001, kernel=rbf;, score=0.778 total time=   0.0s\n",
      "[CV 3/5] END .....C=10, gamma=0.001, kernel=rbf;, score=0.889 total time=   0.0s\n",
      "[CV 4/5] END .....C=10, gamma=0.001, kernel=rbf;, score=0.778 total time=   0.0s\n",
      "[CV 5/5] END .....C=10, gamma=0.001, kernel=rbf;, score=0.833 total time=   0.0s\n",
      "[CV 1/5] END ....C=10, gamma=0.0001, kernel=rbf;, score=0.778 total time=   0.0s\n",
      "[CV 2/5] END ....C=10, gamma=0.0001, kernel=rbf;, score=0.750 total time=   0.0s\n",
      "[CV 3/5] END ....C=10, gamma=0.0001, kernel=rbf;, score=0.852 total time=   0.0s\n",
      "[CV 4/5] END ....C=10, gamma=0.0001, kernel=rbf;, score=0.722 total time=   0.0s\n",
      "[CV 5/5] END ....C=10, gamma=0.0001, kernel=rbf;, score=0.806 total time=   0.0s\n",
      "[CV 1/5] END ........C=100, gamma=1, kernel=rbf;, score=0.833 total time=   0.0s\n",
      "[CV 2/5] END ........C=100, gamma=1, kernel=rbf;, score=0.870 total time=   0.0s\n",
      "[CV 3/5] END ........C=100, gamma=1, kernel=rbf;, score=0.796 total time=   0.0s\n",
      "[CV 4/5] END ........C=100, gamma=1, kernel=rbf;, score=0.778 total time=   0.0s\n",
      "[CV 5/5] END ........C=100, gamma=1, kernel=rbf;, score=0.806 total time=   0.0s\n",
      "[CV 1/5] END ......C=100, gamma=0.1, kernel=rbf;, score=0.824 total time=   0.0s\n",
      "[CV 2/5] END ......C=100, gamma=0.1, kernel=rbf;, score=0.843 total time=   0.0s\n",
      "[CV 3/5] END ......C=100, gamma=0.1, kernel=rbf;, score=0.880 total time=   0.0s\n",
      "[CV 4/5] END ......C=100, gamma=0.1, kernel=rbf;, score=0.889 total time=   0.0s\n",
      "[CV 5/5] END ......C=100, gamma=0.1, kernel=rbf;, score=0.870 total time=   0.0s\n",
      "[CV 1/5] END .....C=100, gamma=0.01, kernel=rbf;, score=0.815 total time=   0.0s\n",
      "[CV 2/5] END .....C=100, gamma=0.01, kernel=rbf;, score=0.769 total time=   0.0s\n",
      "[CV 3/5] END .....C=100, gamma=0.01, kernel=rbf;, score=0.880 total time=   0.0s\n",
      "[CV 4/5] END .....C=100, gamma=0.01, kernel=rbf;, score=0.870 total time=   0.0s\n",
      "[CV 5/5] END .....C=100, gamma=0.01, kernel=rbf;, score=0.880 total time=   0.0s\n",
      "[CV 1/5] END ....C=100, gamma=0.001, kernel=rbf;, score=0.852 total time=   0.0s\n",
      "[CV 2/5] END ....C=100, gamma=0.001, kernel=rbf;, score=0.778 total time=   0.0s\n",
      "[CV 3/5] END ....C=100, gamma=0.001, kernel=rbf;, score=0.880 total time=   0.0s\n",
      "[CV 4/5] END ....C=100, gamma=0.001, kernel=rbf;, score=0.787 total time=   0.0s\n",
      "[CV 5/5] END ....C=100, gamma=0.001, kernel=rbf;, score=0.861 total time=   0.0s\n",
      "[CV 1/5] END ...C=100, gamma=0.0001, kernel=rbf;, score=0.833 total time=   0.0s\n",
      "[CV 2/5] END ...C=100, gamma=0.0001, kernel=rbf;, score=0.778 total time=   0.0s\n",
      "[CV 3/5] END ...C=100, gamma=0.0001, kernel=rbf;, score=0.889 total time=   0.0s\n",
      "[CV 4/5] END ...C=100, gamma=0.0001, kernel=rbf;, score=0.778 total time=   0.0s\n",
      "[CV 5/5] END ...C=100, gamma=0.0001, kernel=rbf;, score=0.833 total time=   0.0s\n",
      "[CV 1/5] END .......C=1000, gamma=1, kernel=rbf;, score=0.833 total time=   0.0s\n",
      "[CV 2/5] END .......C=1000, gamma=1, kernel=rbf;, score=0.870 total time=   0.0s\n",
      "[CV 3/5] END .......C=1000, gamma=1, kernel=rbf;, score=0.796 total time=   0.0s\n",
      "[CV 4/5] END .......C=1000, gamma=1, kernel=rbf;, score=0.778 total time=   0.0s\n",
      "[CV 5/5] END .......C=1000, gamma=1, kernel=rbf;, score=0.806 total time=   0.0s\n",
      "[CV 1/5] END .....C=1000, gamma=0.1, kernel=rbf;, score=0.824 total time=   0.0s\n",
      "[CV 2/5] END .....C=1000, gamma=0.1, kernel=rbf;, score=0.843 total time=   0.0s\n"
     ]
    },
    {
     "name": "stdout",
     "output_type": "stream",
     "text": [
      "[CV 3/5] END .....C=1000, gamma=0.1, kernel=rbf;, score=0.870 total time=   0.0s\n",
      "[CV 4/5] END .....C=1000, gamma=0.1, kernel=rbf;, score=0.889 total time=   0.0s\n",
      "[CV 5/5] END .....C=1000, gamma=0.1, kernel=rbf;, score=0.870 total time=   0.0s\n",
      "[CV 1/5] END ....C=1000, gamma=0.01, kernel=rbf;, score=0.843 total time=   0.0s\n",
      "[CV 2/5] END ....C=1000, gamma=0.01, kernel=rbf;, score=0.833 total time=   0.0s\n",
      "[CV 3/5] END ....C=1000, gamma=0.01, kernel=rbf;, score=0.870 total time=   0.0s\n",
      "[CV 4/5] END ....C=1000, gamma=0.01, kernel=rbf;, score=0.852 total time=   0.0s\n",
      "[CV 5/5] END ....C=1000, gamma=0.01, kernel=rbf;, score=0.852 total time=   0.0s\n",
      "[CV 1/5] END ...C=1000, gamma=0.001, kernel=rbf;, score=0.824 total time=   0.0s\n",
      "[CV 2/5] END ...C=1000, gamma=0.001, kernel=rbf;, score=0.769 total time=   0.0s\n",
      "[CV 3/5] END ...C=1000, gamma=0.001, kernel=rbf;, score=0.843 total time=   0.0s\n",
      "[CV 4/5] END ...C=1000, gamma=0.001, kernel=rbf;, score=0.815 total time=   0.0s\n",
      "[CV 5/5] END ...C=1000, gamma=0.001, kernel=rbf;, score=0.870 total time=   0.0s\n",
      "[CV 1/5] END ..C=1000, gamma=0.0001, kernel=rbf;, score=0.852 total time=   0.0s\n",
      "[CV 2/5] END ..C=1000, gamma=0.0001, kernel=rbf;, score=0.778 total time=   0.0s\n",
      "[CV 3/5] END ..C=1000, gamma=0.0001, kernel=rbf;, score=0.880 total time=   0.0s\n",
      "[CV 4/5] END ..C=1000, gamma=0.0001, kernel=rbf;, score=0.787 total time=   0.0s\n",
      "[CV 5/5] END ..C=1000, gamma=0.0001, kernel=rbf;, score=0.852 total time=   0.0s\n"
     ]
    },
    {
     "data": {
      "text/plain": [
       "GridSearchCV(estimator=SVC(),\n",
       "             param_grid={'C': [0.1, 1, 10, 100, 1000],\n",
       "                         'gamma': [1, 0.1, 0.01, 0.001, 0.0001],\n",
       "                         'kernel': ['rbf']},\n",
       "             verbose=3)"
      ]
     },
     "execution_count": 64,
     "metadata": {},
     "output_type": "execute_result"
    }
   ],
   "source": [
    "\n",
    "print('define parameter range:') \n",
    "\n",
    "param_grid = {'C': [0.1, 1, 10, 100, 1000], \n",
    "\t\t\t'gamma': [1, 0.1, 0.01, 0.001, 0.0001], \n",
    "\t\t\t'kernel': ['rbf']} \n",
    "\n",
    "SVC_Model = GridSearchCV(SVC(), param_grid, refit = True, verbose = 3) \n",
    "\n",
    " \n",
    "SVC_Model.fit(X_train, y_train) "
   ]
  },
  {
   "cell_type": "code",
   "execution_count": 56,
   "metadata": {
    "colab": {
     "base_uri": "https://localhost:8080/",
     "height": 191
    },
    "colab_type": "code",
    "id": "Le0NihcFZDEY",
    "outputId": "b27d009e-ddd8-4cc2-e120-c68da12c1c96"
   },
   "outputs": [
    {
     "name": "stdout",
     "output_type": "stream",
     "text": [
      "{'C': 100, 'gamma': 0.1, 'kernel': 'rbf'}\n"
     ]
    }
   ],
   "source": [
    "print(SVC_Model.best_params_) \n",
    "grid_predictions = SVC_Model.predict(X_test) "
   ]
  },
  {
   "cell_type": "code",
   "execution_count": 57,
   "metadata": {},
   "outputs": [
    {
     "name": "stdout",
     "output_type": "stream",
     "text": [
      "partt1.3: SVM\n",
      "----------------------------------------\n",
      "              precision    recall  f1-score   support\n",
      "\n",
      "      benign       0.95      0.90      0.92        80\n",
      "      malign       0.87      0.93      0.90        56\n",
      "\n",
      "    accuracy                           0.91       136\n",
      "   macro avg       0.91      0.91      0.91       136\n",
      "weighted avg       0.91      0.91      0.91       136\n",
      "\n"
     ]
    }
   ],
   "source": [
    "print('partt1.3: SVM')\n",
    "print('-'*40)\n",
    "print(classification_report(y_test, grid_predictions)) \n",
    "\n",
    "pickle.dump(SVC_Model, open('model/first_model.pkl', 'wb'))"
   ]
  },
  {
   "cell_type": "code",
   "execution_count": 58,
   "metadata": {},
   "outputs": [],
   "source": [
    "default = open('CICInvesAndMal2019/DefaultPermList.txt','r').readlines()\n",
    "perms = [s.rstrip('\\n') for s in default]"
   ]
  },
  {
   "cell_type": "markdown",
   "metadata": {
    "colab_type": "text",
    "id": "ebPPhufsOVW9"
   },
   "source": [
    "Predict"
   ]
  },
  {
   "cell_type": "code",
   "execution_count": 59,
   "metadata": {
    "colab": {
     "base_uri": "https://localhost:8080/",
     "height": 141
    },
    "colab_type": "code",
    "id": "9K3_EB0dZYZc",
    "outputId": "1e687c4c-7907-4d88-ca53-302f5b751bcf"
   },
   "outputs": [
    {
     "name": "stdout",
     "output_type": "stream",
     "text": [
      "['android.permission.WRITE_SETTINGS', 'android.permission.READ_EXTERNAL_STORAGE', 'android.permission.SYSTEM_ALERT_WINDOW', 'android.permission.WAKE_LOCK', 'android.permission.READ_CONTACTS', 'android.permission.READ_PHONE_STATE', 'android.permission.VIBRATE', 'android.permission.RECEIVE_BOOT_COMPLETED', 'android.permission.GET_TASKS', 'android.permission.ACCESS_NETWORK_STATE', 'android.permission.WRITE_EXTERNAL_STORAGE', 'android.permission.GET_ACCOUNTS', 'android.permission.INTERNET', 'android.permission.CAMERA']\n",
      "[0, 0, 0, 0, 0, 0, 0, 0, 0, 0, 0, 0, 0, 0, 0, 0, 1, 0, 0, 0, 0, 0, 0, 0, 0, 0, 0, 0, 0, 0, 0, 0, 0, 0, 0, 0, 0, 0, 0, 0, 0, 0, 0, 0, 0, 0, 0, 0, 0, 0, 0, 0, 0, 0, 0, 0, 0, 0, 0, 0, 0, 0, 0, 0, 0, 0, 0, 0, 0, 0, 0, 0, 0, 0, 0, 0, 0, 0, 0, 0, 0, 0, 0, 0, 0, 0, 0, 0, 0, 0, 0, 0, 0, 0, 0, 0, 0, 0, 0, 0, 0, 0, 0, 0, 0, 0, 0, 0, 0, 0, 0, 0, 0, 0, 0, 0, 0, 0, 0, 0, 0, 0, 0, 0, 0, 0, 0, 0, 0, 0, 0, 0, 0, 0, 0, 0, 0, 0, 0, 0, 0, 0, 0, 0, 0, 0, 0, 1, 0, 0, 0, 0, 0, 0, 0, 0, 0, 0, 0, 0, 0, 0, 1, 0, 0, 0, 0, 0, 0, 0, 0, 0, 0, 0, 0, 0, 0, 0, 0, 0, 0, 0, 0, 0, 0, 0, 0, 0, 0, 0, 0, 0, 0, 0, 0, 0, 0, 0, 0, 0, 0, 0, 0, 0, 0, 0, 0, 0, 0, 0, 0, 0, 0, 0, 0, 0, 0, 0, 0, 0, 0, 0, 0, 0, 0, 0, 0, 0, 0, 0, 0, 0, 0, 0, 0, 0, 0, 0, 1, 0, 0, 0, 0, 0, 0, 0, 0, 0, 0, 0, 0, 0, 0, 0, 0, 0, 0, 0, 0, 0, 0, 0, 0, 0, 0, 0, 0, 0, 0, 0, 0, 0, 0, 0, 0, 0, 0, 0, 0, 0, 0, 0, 0, 0, 0, 0, 0, 0, 0, 0, 0, 0, 0, 0, 0, 1, 0, 0, 0, 0, 0, 0, 0, 0, 0, 0, 0, 0, 0, 0, 1, 1, 0, 0, 0, 0, 0, 0, 0, 1, 0, 0, 0, 0, 0, 1, 0, 1, 0, 1, 1, 0, 1, 0, 1, 0, 0, 0, 0, 0, 0, 0, 0, 0, 0, 0, 0, 0, 0, 0, 0, 0, 0, 0, 0, 0, 0, 0, 0, 0, 0, 0, 0, 0, 0, 0, 0, 0, 0, 0, 0, 0, 0, 0, 0, 0, 0, 0, 0, 0, 0, 0, 0, 0, 0, 0, 0, 0, 0, 0, 0, 0, 0, 0, 0, 0, 0, 0, 0, 0, 0, 0, 0, 0, 0, 0, 0, 0, 0]\n",
      "['benign']\n",
      "['android.permission.SYSTEM_ALERT_WINDOW', 'android.permission.READ_PHONE_STATE', 'android.permission.RECEIVE_BOOT_COMPLETED', 'android.permission.WRITE_EXTERNAL_STORAGE', 'android.permission.INTERNET']\n",
      "[0, 0, 0, 0, 0, 0, 0, 0, 0, 0, 0, 0, 0, 0, 0, 0, 0, 0, 0, 0, 0, 0, 0, 0, 0, 0, 0, 0, 0, 0, 0, 0, 0, 0, 0, 0, 0, 0, 0, 0, 0, 0, 0, 0, 0, 0, 0, 0, 0, 0, 0, 0, 0, 0, 0, 0, 0, 0, 0, 0, 0, 0, 0, 0, 0, 0, 0, 0, 0, 0, 0, 0, 0, 0, 0, 0, 0, 0, 0, 0, 0, 0, 0, 0, 0, 0, 0, 0, 0, 0, 0, 0, 0, 0, 0, 0, 0, 0, 0, 0, 0, 0, 0, 0, 0, 0, 0, 0, 0, 0, 0, 0, 0, 0, 0, 0, 0, 0, 0, 0, 0, 0, 0, 0, 0, 0, 0, 0, 0, 0, 0, 0, 0, 0, 0, 0, 0, 0, 0, 0, 0, 0, 0, 0, 0, 0, 0, 0, 0, 0, 0, 0, 0, 0, 0, 0, 0, 0, 0, 0, 0, 0, 1, 0, 0, 0, 0, 0, 0, 0, 0, 0, 0, 0, 0, 0, 0, 0, 0, 0, 0, 0, 0, 0, 0, 0, 0, 0, 0, 0, 0, 0, 0, 0, 0, 0, 0, 0, 0, 0, 0, 0, 0, 0, 0, 0, 0, 0, 0, 0, 0, 0, 0, 0, 0, 0, 0, 0, 0, 0, 0, 0, 0, 0, 0, 0, 0, 0, 0, 0, 0, 0, 0, 0, 0, 0, 0, 0, 1, 0, 0, 0, 0, 0, 0, 0, 0, 0, 0, 0, 0, 0, 0, 0, 0, 0, 0, 0, 0, 0, 0, 0, 0, 0, 0, 0, 0, 0, 0, 0, 0, 0, 0, 0, 0, 0, 0, 0, 0, 0, 0, 0, 0, 0, 0, 0, 0, 0, 0, 0, 0, 0, 0, 0, 0, 1, 0, 0, 0, 0, 0, 0, 0, 0, 0, 0, 0, 0, 0, 0, 0, 0, 0, 0, 0, 0, 0, 0, 0, 0, 0, 0, 0, 0, 0, 1, 0, 1, 0, 0, 0, 0, 0, 0, 0, 0, 0, 0, 0, 0, 0, 0, 0, 0, 0, 0, 0, 0, 0, 0, 0, 0, 0, 0, 0, 0, 0, 0, 0, 0, 0, 0, 0, 0, 0, 0, 0, 0, 0, 0, 0, 0, 0, 0, 0, 0, 0, 0, 0, 0, 0, 0, 0, 0, 0, 0, 0, 0, 0, 0, 0, 0, 0, 0, 0, 0, 0, 0, 0, 0, 0, 0, 0, 0, 0, 0, 0, 0, 0]\n",
      "['malign']\n"
     ]
    },
    {
     "name": "stderr",
     "output_type": "stream",
     "text": [
      "/Users/abel/miniforge3/envs/tf26/lib/python3.9/site-packages/sklearn/base.py:450: UserWarning: X does not have valid feature names, but SVC was fitted with feature names\n",
      "  warnings.warn(\n",
      "/Users/abel/miniforge3/envs/tf26/lib/python3.9/site-packages/sklearn/base.py:450: UserWarning: X does not have valid feature names, but SVC was fitted with feature names\n",
      "  warnings.warn(\n"
     ]
    }
   ],
   "source": [
    "\n",
    "def mytest(apk):\n",
    "  vector = {}\n",
    "  a = APK(apk)\n",
    "  perm = a.get_permissions()\n",
    "  print(perm)\n",
    "  for d in perms:\n",
    "    if d in perm:\n",
    "      vector[d]=1\n",
    "    else:\n",
    "      vector[d]=0\n",
    "  input = [ v for v in vector.values() ]\n",
    "  print(input)\n",
    "  print(SVC_Model.predict([input]))\n",
    "\n",
    "\n",
    "mytest('CICInvesAndMal2019/Ransomware/PornDroid/00c0a3916b33e792e4b5f23a3a58ec7d.apk')\n",
    "mytest('CICInvesAndMal2019/Ransomware/PornDroid/1ad669a7c148352dbb5389a8238e8fa0.apk')"
   ]
  },
  {
   "cell_type": "markdown",
   "metadata": {},
   "source": [
    "# partII: ANN Fully connected deep learning model"
   ]
  },
  {
   "cell_type": "markdown",
   "metadata": {
    "colab_type": "text",
    "id": "CRA-VbkOOp7_"
   },
   "source": [
    "# Fully connected deep learning model Multilayer Perceptron (Artificial Neural Network)\n",
    "## Our Sequential model based on keras can build a very complex neural network to achieve a fully connected neural network:\n",
    "\n",
    "## A sequential model is a linear stack of multiple network layers. Create a Sequential model by passing a list of network layer instances to the Sequential constructor"
   ]
  },
  {
   "cell_type": "code",
   "execution_count": 42,
   "metadata": {
    "colab": {},
    "colab_type": "code",
    "id": "uHUg1xppZ8IN"
   },
   "outputs": [],
   "source": [
    "Y = dataset_df['class']\n",
    "X = dataset_df.drop(['class'], axis=1)\n",
    "encoder = LabelEncoder().fit(Y)\n",
    "Y = encoder.transform(Y)\n",
    "#print(encoder.transform(['malign']))\n",
    "X_train, X_test, y_train, y_test = train_test_split(X, Y, test_size=0.2)"
   ]
  },
  {
   "cell_type": "code",
   "execution_count": 43,
   "metadata": {
    "colab": {
     "base_uri": "https://localhost:8080/",
     "height": 1000
    },
    "colab_type": "code",
    "id": "0RFXdH2MaVuv",
    "outputId": "403935dd-09bd-4f2a-a8c0-50f9280b0023"
   },
   "outputs": [
    {
     "name": "stdout",
     "output_type": "stream",
     "text": [
      "Epoch 1/100\n",
      " 8/17 [=============>................] - ETA: 0s - loss: 0.6824 - accuracy: 0.5820"
     ]
    },
    {
     "name": "stderr",
     "output_type": "stream",
     "text": [
      "2022-08-08 18:29:37.008763: I tensorflow/core/grappler/optimizers/custom_graph_optimizer_registry.cc:113] Plugin optimizer for device_type GPU is enabled.\n"
     ]
    },
    {
     "name": "stdout",
     "output_type": "stream",
     "text": [
      "17/17 [==============================] - 0s 9ms/step - loss: 0.6832 - accuracy: 0.5833\n",
      "Epoch 2/100\n",
      "17/17 [==============================] - 0s 7ms/step - loss: 0.6763 - accuracy: 0.6574\n",
      "Epoch 3/100\n",
      "17/17 [==============================] - 0s 7ms/step - loss: 0.6743 - accuracy: 0.6500\n",
      "Epoch 4/100\n",
      "17/17 [==============================] - 0s 7ms/step - loss: 0.6640 - accuracy: 0.6741\n",
      "Epoch 5/100\n",
      "17/17 [==============================] - 0s 7ms/step - loss: 0.6597 - accuracy: 0.6889\n",
      "Epoch 6/100\n",
      "17/17 [==============================] - 0s 7ms/step - loss: 0.6432 - accuracy: 0.7130\n",
      "Epoch 7/100\n",
      "17/17 [==============================] - 0s 8ms/step - loss: 0.6340 - accuracy: 0.7352\n",
      "Epoch 8/100\n",
      "17/17 [==============================] - 0s 7ms/step - loss: 0.6285 - accuracy: 0.7093\n",
      "Epoch 9/100\n",
      "17/17 [==============================] - 0s 7ms/step - loss: 0.6176 - accuracy: 0.7537\n",
      "Epoch 10/100\n",
      "17/17 [==============================] - 0s 7ms/step - loss: 0.6025 - accuracy: 0.7481\n",
      "Epoch 11/100\n",
      "17/17 [==============================] - 0s 7ms/step - loss: 0.5881 - accuracy: 0.7704\n",
      "Epoch 12/100\n",
      "17/17 [==============================] - 0s 7ms/step - loss: 0.5787 - accuracy: 0.7907\n",
      "Epoch 13/100\n",
      "17/17 [==============================] - 0s 7ms/step - loss: 0.5648 - accuracy: 0.7963\n",
      "Epoch 14/100\n",
      "17/17 [==============================] - 0s 7ms/step - loss: 0.5420 - accuracy: 0.8111\n",
      "Epoch 15/100\n",
      "17/17 [==============================] - 0s 7ms/step - loss: 0.5338 - accuracy: 0.8000\n",
      "Epoch 16/100\n",
      "17/17 [==============================] - 0s 7ms/step - loss: 0.5270 - accuracy: 0.7944\n",
      "Epoch 17/100\n",
      "17/17 [==============================] - 0s 7ms/step - loss: 0.5118 - accuracy: 0.8000\n",
      "Epoch 18/100\n",
      "17/17 [==============================] - 0s 7ms/step - loss: 0.5001 - accuracy: 0.8148\n",
      "Epoch 19/100\n",
      "17/17 [==============================] - 0s 7ms/step - loss: 0.4885 - accuracy: 0.8000\n",
      "Epoch 20/100\n",
      "17/17 [==============================] - 0s 7ms/step - loss: 0.4598 - accuracy: 0.8222\n",
      "Epoch 21/100\n",
      "17/17 [==============================] - 0s 7ms/step - loss: 0.4602 - accuracy: 0.8370\n",
      "Epoch 22/100\n",
      "17/17 [==============================] - 0s 7ms/step - loss: 0.4612 - accuracy: 0.8278\n",
      "Epoch 23/100\n",
      "17/17 [==============================] - 0s 7ms/step - loss: 0.4543 - accuracy: 0.8278\n",
      "Epoch 24/100\n",
      "17/17 [==============================] - 0s 7ms/step - loss: 0.4426 - accuracy: 0.8296\n",
      "Epoch 25/100\n",
      "17/17 [==============================] - 0s 7ms/step - loss: 0.4371 - accuracy: 0.8259\n",
      "Epoch 26/100\n",
      "17/17 [==============================] - 0s 7ms/step - loss: 0.4252 - accuracy: 0.8315\n",
      "Epoch 27/100\n",
      "17/17 [==============================] - 0s 7ms/step - loss: 0.4253 - accuracy: 0.8315\n",
      "Epoch 28/100\n",
      "17/17 [==============================] - 0s 7ms/step - loss: 0.4075 - accuracy: 0.8333\n",
      "Epoch 29/100\n",
      "17/17 [==============================] - 0s 7ms/step - loss: 0.4020 - accuracy: 0.8352\n",
      "Epoch 30/100\n",
      "17/17 [==============================] - 0s 7ms/step - loss: 0.3999 - accuracy: 0.8352\n",
      "Epoch 31/100\n",
      "17/17 [==============================] - 0s 7ms/step - loss: 0.3977 - accuracy: 0.8370\n",
      "Epoch 32/100\n",
      "17/17 [==============================] - 0s 7ms/step - loss: 0.3920 - accuracy: 0.8444\n",
      "Epoch 33/100\n",
      "17/17 [==============================] - 0s 7ms/step - loss: 0.3985 - accuracy: 0.8426\n",
      "Epoch 34/100\n",
      "17/17 [==============================] - 0s 7ms/step - loss: 0.3794 - accuracy: 0.8426\n",
      "Epoch 35/100\n",
      "17/17 [==============================] - 0s 7ms/step - loss: 0.3764 - accuracy: 0.8444\n",
      "Epoch 36/100\n",
      "17/17 [==============================] - 0s 7ms/step - loss: 0.3673 - accuracy: 0.8407\n",
      "Epoch 37/100\n",
      "17/17 [==============================] - 0s 7ms/step - loss: 0.3566 - accuracy: 0.8426\n",
      "Epoch 38/100\n",
      "17/17 [==============================] - 0s 7ms/step - loss: 0.3685 - accuracy: 0.8333\n",
      "Epoch 39/100\n",
      "17/17 [==============================] - 0s 7ms/step - loss: 0.3564 - accuracy: 0.8500\n",
      "Epoch 40/100\n",
      "17/17 [==============================] - 0s 7ms/step - loss: 0.3575 - accuracy: 0.8444\n",
      "Epoch 41/100\n",
      "17/17 [==============================] - 0s 7ms/step - loss: 0.3624 - accuracy: 0.8444\n",
      "Epoch 42/100\n",
      "17/17 [==============================] - 0s 7ms/step - loss: 0.3448 - accuracy: 0.8481\n",
      "Epoch 43/100\n",
      "17/17 [==============================] - 0s 7ms/step - loss: 0.3254 - accuracy: 0.8574\n",
      "Epoch 44/100\n",
      "17/17 [==============================] - 0s 7ms/step - loss: 0.3342 - accuracy: 0.8500\n",
      "Epoch 45/100\n",
      "17/17 [==============================] - 0s 7ms/step - loss: 0.3402 - accuracy: 0.8556\n",
      "Epoch 46/100\n",
      "17/17 [==============================] - 0s 7ms/step - loss: 0.3288 - accuracy: 0.8426\n",
      "Epoch 47/100\n",
      "17/17 [==============================] - 0s 7ms/step - loss: 0.3216 - accuracy: 0.8519\n",
      "Epoch 48/100\n",
      "17/17 [==============================] - 0s 7ms/step - loss: 0.3280 - accuracy: 0.8444\n",
      "Epoch 49/100\n",
      "17/17 [==============================] - 0s 7ms/step - loss: 0.3303 - accuracy: 0.8500\n",
      "Epoch 50/100\n",
      "17/17 [==============================] - 0s 7ms/step - loss: 0.3134 - accuracy: 0.8704\n",
      "Epoch 51/100\n",
      "17/17 [==============================] - 0s 7ms/step - loss: 0.3160 - accuracy: 0.8593\n",
      "Epoch 52/100\n",
      "17/17 [==============================] - 0s 7ms/step - loss: 0.3005 - accuracy: 0.8704\n",
      "Epoch 53/100\n",
      "17/17 [==============================] - 0s 7ms/step - loss: 0.3065 - accuracy: 0.8574\n",
      "Epoch 54/100\n",
      "17/17 [==============================] - 0s 7ms/step - loss: 0.3106 - accuracy: 0.8741\n",
      "Epoch 55/100\n",
      "17/17 [==============================] - 0s 7ms/step - loss: 0.2947 - accuracy: 0.8759\n",
      "Epoch 56/100\n",
      "17/17 [==============================] - 0s 7ms/step - loss: 0.2951 - accuracy: 0.8741\n",
      "Epoch 57/100\n",
      "17/17 [==============================] - 0s 7ms/step - loss: 0.2950 - accuracy: 0.8833\n",
      "Epoch 58/100\n",
      "17/17 [==============================] - 0s 7ms/step - loss: 0.2859 - accuracy: 0.8796\n",
      "Epoch 59/100\n",
      "17/17 [==============================] - 0s 7ms/step - loss: 0.2812 - accuracy: 0.8685\n",
      "Epoch 60/100\n",
      "17/17 [==============================] - 0s 7ms/step - loss: 0.2770 - accuracy: 0.8870\n",
      "Epoch 61/100\n",
      "17/17 [==============================] - 0s 7ms/step - loss: 0.2763 - accuracy: 0.8926\n",
      "Epoch 62/100\n",
      "17/17 [==============================] - 0s 7ms/step - loss: 0.2650 - accuracy: 0.8833\n",
      "Epoch 63/100\n",
      "17/17 [==============================] - 0s 7ms/step - loss: 0.2732 - accuracy: 0.8759\n",
      "Epoch 64/100\n",
      "17/17 [==============================] - 0s 6ms/step - loss: 0.2641 - accuracy: 0.8815\n",
      "Epoch 65/100\n",
      "17/17 [==============================] - 0s 7ms/step - loss: 0.2687 - accuracy: 0.8833\n",
      "Epoch 66/100\n",
      "17/17 [==============================] - 0s 6ms/step - loss: 0.2534 - accuracy: 0.8870\n",
      "Epoch 67/100\n",
      "17/17 [==============================] - 0s 7ms/step - loss: 0.2469 - accuracy: 0.8907\n",
      "Epoch 68/100\n",
      "17/17 [==============================] - 0s 7ms/step - loss: 0.2630 - accuracy: 0.8852\n",
      "Epoch 69/100\n",
      "17/17 [==============================] - 0s 6ms/step - loss: 0.2432 - accuracy: 0.9000\n",
      "Epoch 70/100\n",
      "17/17 [==============================] - 0s 7ms/step - loss: 0.2461 - accuracy: 0.9019\n",
      "Epoch 71/100\n",
      "17/17 [==============================] - 0s 7ms/step - loss: 0.2502 - accuracy: 0.8926\n",
      "Epoch 72/100\n",
      "17/17 [==============================] - 0s 7ms/step - loss: 0.2554 - accuracy: 0.9000\n",
      "Epoch 73/100\n",
      "17/17 [==============================] - 0s 7ms/step - loss: 0.2402 - accuracy: 0.9000\n",
      "Epoch 74/100\n",
      "17/17 [==============================] - 0s 7ms/step - loss: 0.2384 - accuracy: 0.9019\n",
      "Epoch 75/100\n",
      "17/17 [==============================] - 0s 7ms/step - loss: 0.2297 - accuracy: 0.9037\n",
      "Epoch 76/100\n",
      "17/17 [==============================] - 0s 7ms/step - loss: 0.2377 - accuracy: 0.9074\n",
      "Epoch 77/100\n",
      "17/17 [==============================] - 0s 7ms/step - loss: 0.2433 - accuracy: 0.9056\n",
      "Epoch 78/100\n",
      "17/17 [==============================] - 0s 7ms/step - loss: 0.2349 - accuracy: 0.9111\n",
      "Epoch 79/100\n",
      "17/17 [==============================] - 0s 7ms/step - loss: 0.2360 - accuracy: 0.9037\n",
      "Epoch 80/100\n",
      "17/17 [==============================] - 0s 7ms/step - loss: 0.2229 - accuracy: 0.9056\n",
      "Epoch 81/100\n",
      "17/17 [==============================] - 0s 7ms/step - loss: 0.2163 - accuracy: 0.9167\n",
      "Epoch 82/100\n",
      "17/17 [==============================] - 0s 7ms/step - loss: 0.2200 - accuracy: 0.9111\n",
      "Epoch 83/100\n",
      "17/17 [==============================] - 0s 7ms/step - loss: 0.2137 - accuracy: 0.9148\n",
      "Epoch 84/100\n",
      "17/17 [==============================] - 0s 6ms/step - loss: 0.2193 - accuracy: 0.9148\n",
      "Epoch 85/100\n",
      "17/17 [==============================] - 0s 7ms/step - loss: 0.2129 - accuracy: 0.9222\n",
      "Epoch 86/100\n",
      "17/17 [==============================] - 0s 7ms/step - loss: 0.2062 - accuracy: 0.9185\n",
      "Epoch 87/100\n",
      "17/17 [==============================] - 0s 7ms/step - loss: 0.2178 - accuracy: 0.9130\n",
      "Epoch 88/100\n",
      "17/17 [==============================] - 0s 7ms/step - loss: 0.1961 - accuracy: 0.9296\n",
      "Epoch 89/100\n",
      "17/17 [==============================] - 0s 6ms/step - loss: 0.1922 - accuracy: 0.9370\n",
      "Epoch 90/100\n",
      "17/17 [==============================] - 0s 6ms/step - loss: 0.1925 - accuracy: 0.9370\n",
      "Epoch 91/100\n",
      "17/17 [==============================] - 0s 7ms/step - loss: 0.1981 - accuracy: 0.9241\n",
      "Epoch 92/100\n",
      "17/17 [==============================] - 0s 7ms/step - loss: 0.1977 - accuracy: 0.9370\n",
      "Epoch 93/100\n",
      "17/17 [==============================] - 0s 7ms/step - loss: 0.1907 - accuracy: 0.9259\n",
      "Epoch 94/100\n",
      "17/17 [==============================] - 0s 7ms/step - loss: 0.1864 - accuracy: 0.9315\n",
      "Epoch 95/100\n",
      "17/17 [==============================] - 0s 7ms/step - loss: 0.1949 - accuracy: 0.9315\n",
      "Epoch 96/100\n",
      "17/17 [==============================] - 0s 7ms/step - loss: 0.1857 - accuracy: 0.9370\n",
      "Epoch 97/100\n",
      "17/17 [==============================] - 0s 6ms/step - loss: 0.1943 - accuracy: 0.9389\n",
      "Epoch 98/100\n",
      "17/17 [==============================] - 0s 7ms/step - loss: 0.1745 - accuracy: 0.9481\n",
      "Epoch 99/100\n",
      "17/17 [==============================] - 0s 7ms/step - loss: 0.1825 - accuracy: 0.9333\n",
      "Epoch 100/100\n",
      "17/17 [==============================] - 0s 7ms/step - loss: 0.1742 - accuracy: 0.9315\n",
      "5/5 [==============================] - 0s 8ms/step - loss: 0.2119 - accuracy: 0.9191\n",
      "\n",
      "loss: 21.19%\n",
      "\n",
      "accuracy: 91.91%\n"
     ]
    },
    {
     "name": "stderr",
     "output_type": "stream",
     "text": [
      "2022-08-08 18:29:49.197572: I tensorflow/core/grappler/optimizers/custom_graph_optimizer_registry.cc:113] Plugin optimizer for device_type GPU is enabled.\n"
     ]
    }
   ],
   "source": [
    "ANN_Model = Sequential()\n",
    "ANN_Model.add(Dense(256, activation='relu', input_dim=409))\n",
    "ANN_Model.add(Dropout(0.2))\n",
    "ANN_Model.add(Dense(128, activation='relu'))\n",
    "ANN_Model.add(Dropout(0.2))\n",
    "ANN_Model.add(Dense(128, activation='relu'))\n",
    "ANN_Model.add(Dropout(0.2))\n",
    "ANN_Model.add(Dense(32, activation='relu'))\n",
    "ANN_Model.add(Dropout(0.2))\n",
    "ANN_Model.add(Dense(1, activation='sigmoid'))\n",
    "ANN_Model.compile(optimizer='sgd', loss='binary_crossentropy', metrics=['accuracy'])\n",
    "\n",
    "history = ANN_Model.fit(X_train, y_train, epochs=100, batch_size=32)\n",
    "\n",
    "\n",
    "\n",
    "scores = ANN_Model.evaluate(X_test, y_test)\n",
    "for i in range(len(scores)):\n",
    "  print(\"\\n%s: %.2f%%\" % (ANN_Model.metrics_names[i], scores[i]*100))\n"
   ]
  },
  {
   "cell_type": "code",
   "execution_count": 44,
   "metadata": {},
   "outputs": [
    {
     "name": "stdout",
     "output_type": "stream",
     "text": [
      "模型结构\n",
      "------------------------------\n",
      "Model: \"sequential_1\"\n",
      "_________________________________________________________________\n",
      " Layer (type)                Output Shape              Param #   \n",
      "=================================================================\n",
      " dense_5 (Dense)             (None, 256)               104960    \n",
      "                                                                 \n",
      " dropout_4 (Dropout)         (None, 256)               0         \n",
      "                                                                 \n",
      " dense_6 (Dense)             (None, 128)               32896     \n",
      "                                                                 \n",
      " dropout_5 (Dropout)         (None, 128)               0         \n",
      "                                                                 \n",
      " dense_7 (Dense)             (None, 128)               16512     \n",
      "                                                                 \n",
      " dropout_6 (Dropout)         (None, 128)               0         \n",
      "                                                                 \n",
      " dense_8 (Dense)             (None, 32)                4128      \n",
      "                                                                 \n",
      " dropout_7 (Dropout)         (None, 32)                0         \n",
      "                                                                 \n",
      " dense_9 (Dense)             (None, 1)                 33        \n",
      "                                                                 \n",
      "=================================================================\n",
      "Total params: 158,529\n",
      "Trainable params: 158,529\n",
      "Non-trainable params: 0\n",
      "_________________________________________________________________\n",
      "None\n"
     ]
    }
   ],
   "source": [
    "print('模型结构')\n",
    "print('-'*30)\n",
    "\n",
    "print(ANN_Model.summary())\n",
    "\n"
   ]
  },
  {
   "cell_type": "code",
   "execution_count": 45,
   "metadata": {},
   "outputs": [
    {
     "name": "stdout",
     "output_type": "stream",
     "text": [
      "训练过程图\n",
      "\n"
     ]
    },
    {
     "data": {
      "image/png": "[encoded data removed]",
      "text/plain": [
       "<IPython.core.display.Image object>"
      ]
     },
     "execution_count": 45,
     "metadata": {},
     "output_type": "execute_result"
    }
   ],
   "source": [
    "print('训练过程图\\n')\n",
    "plot_model(ANN_Model, to_file='i2model_plot.png', show_shapes=True, show_layer_names=True)"
   ]
  },
  {
   "cell_type": "code",
   "execution_count": 46,
   "metadata": {
    "colab": {},
    "colab_type": "code",
    "id": "ioDl0nJBigwJ"
   },
   "outputs": [
    {
     "name": "stdout",
     "output_type": "stream",
     "text": [
      "INFO:tensorflow:Assets written to: ram://cffa7819-fa38-48f9-a9b1-82c0d12209a4/assets\n"
     ]
    }
   ],
   "source": [
    "pickle.dump(ANN_Model, open('model/second_model.pkl', 'wb'))"
   ]
  },
  {
   "cell_type": "code",
   "execution_count": 47,
   "metadata": {},
   "outputs": [
    {
     "data": {
      "image/png": "[encoded data removed]",
      "text/plain": [
       "<Figure size 432x288 with 1 Axes>"
      ]
     },
     "metadata": {
      "needs_background": "light"
     },
     "output_type": "display_data"
    }
   ],
   "source": [
    "plt.plot(history.history['accuracy'])\n",
    "plt.plot(history.history['loss'])\n",
    "plt.title('model accuracy and loss')\n",
    "plt.ylabel('accuracy')\n",
    "plt.xlabel('epoch')\n",
    "plt.legend(['accuracy', 'loss'], loc='upper left')\n",
    "plt.show()"
   ]
  },
  {
   "cell_type": "markdown",
   "metadata": {},
   "source": [
    "# partIII: Model effect comparison"
   ]
  },
  {
   "cell_type": "code",
   "execution_count": 71,
   "metadata": {},
   "outputs": [
    {
     "data": {
      "image/png": "[encoded data removed]",
      "text/plain": [
       "<Figure size 648x216 with 3 Axes>"
      ]
     },
     "metadata": {
      "needs_background": "light"
     },
     "output_type": "display_data"
    }
   ],
   "source": [
    "names = ['KNN', 'LG', 'SVC','ANN']\n",
    "values = [84, 86, 91, 93]\n",
    "\n",
    "plt.figure(figsize=(9, 3))\n",
    "\n",
    "plt.subplot(131)\n",
    "plt.bar(names, values)\n",
    "plt.subplot(132)\n",
    "plt.scatter(names, values)\n",
    "plt.subplot(133)\n",
    "plt.plot(names, values)\n",
    "plt.suptitle('different ML best accuracy compare')\n",
    "plt.show()"
   ]
  },
  {
   "cell_type": "code",
   "execution_count": null,
   "metadata": {},
   "outputs": [],
   "source": []
  },
  {
   "cell_type": "code",
   "execution_count": null,
   "metadata": {},
   "outputs": [],
   "source": []
  },
  {
   "cell_type": "code",
   "execution_count": null,
   "metadata": {},
   "outputs": [],
   "source": []
  },
  {
   "cell_type": "code",
   "execution_count": null,
   "metadata": {},
   "outputs": [],
   "source": []
  }
 ],
 "metadata": {
  "colab": {
   "collapsed_sections": [],
   "name": "android_malware_analysis",
   "provenance": []
  },
  "kernelspec": {
   "display_name": "Python 3 (ipykernel)",
   "language": "python",
   "name": "python3"
  },
  "language_info": {
   "codemirror_mode": {
    "name": "ipython",
    "version": 3
   },
   "file_extension": ".py",
   "mimetype": "text/x-python",
   "name": "python",
   "nbconvert_exporter": "python",
   "pygments_lexer": "ipython3",
   "version": "3.8.9"
  }
 },
 "nbformat": 4,
 "nbformat_minor": 1
}
